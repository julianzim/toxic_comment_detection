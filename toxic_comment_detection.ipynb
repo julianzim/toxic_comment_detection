{
  "cells": [
    {
      "cell_type": "markdown",
      "id": "e4b1025a-425c-41da-aff0-c8b3e7ff4509",
      "metadata": {
        "tags": [],
        "id": "e4b1025a-425c-41da-aff0-c8b3e7ff4509"
      },
      "source": [
        "# <center>_Toxic Comment Detection_</center>"
      ]
    },
    {
      "cell_type": "markdown",
      "source": [
        "**The goal:** precision > 0.9 and recall -> max"
      ],
      "metadata": {
        "id": "yO4MGlfGFBSC"
      },
      "id": "yO4MGlfGFBSC"
    },
    {
      "cell_type": "markdown",
      "id": "393f20c1-47e9-4657-86c0-88041715e540",
      "metadata": {
        "tags": [],
        "id": "393f20c1-47e9-4657-86c0-88041715e540"
      },
      "source": [
        "## ___Loading Data___"
      ]
    },
    {
      "cell_type": "code",
      "execution_count": 1,
      "id": "ad06e03e-d49d-4859-af4e-9b7ddffb604b",
      "metadata": {
        "tags": [],
        "id": "ad06e03e-d49d-4859-af4e-9b7ddffb604b"
      },
      "outputs": [],
      "source": [
        "import pandas as pd\n",
        "import numpy as np"
      ]
    },
    {
      "cell_type": "code",
      "execution_count": 3,
      "id": "bcebad79-0107-41f6-ac90-1c2e8c41858c",
      "metadata": {
        "tags": [],
        "id": "bcebad79-0107-41f6-ac90-1c2e8c41858c"
      },
      "outputs": [],
      "source": [
        "df = pd.read_csv(\"labeled.csv\", sep=\",\")\n",
        "df['toxic'] = df['toxic'].apply(int)"
      ]
    },
    {
      "cell_type": "markdown",
      "id": "06902601-3e0b-44ae-b217-3447d73d1ec8",
      "metadata": {
        "id": "06902601-3e0b-44ae-b217-3447d73d1ec8"
      },
      "source": [
        "___"
      ]
    },
    {
      "cell_type": "markdown",
      "id": "f7163cf5-02a2-432d-852c-3c3cb562bc3a",
      "metadata": {
        "tags": [],
        "id": "f7163cf5-02a2-432d-852c-3c3cb562bc3a"
      },
      "source": [
        "## ___EDA___"
      ]
    },
    {
      "cell_type": "code",
      "execution_count": 4,
      "id": "57617c75-38a9-47b6-9fac-f0b701eef4d8",
      "metadata": {
        "tags": [],
        "id": "57617c75-38a9-47b6-9fac-f0b701eef4d8",
        "outputId": "1b0ec104-8590-4fe7-d6c5-fa6c95ddce91",
        "colab": {
          "base_uri": "https://localhost:8080/"
        }
      },
      "outputs": [
        {
          "output_type": "execute_result",
          "data": {
            "text/plain": [
              "(14412, 2)"
            ]
          },
          "metadata": {},
          "execution_count": 4
        }
      ],
      "source": [
        "df.shape"
      ]
    },
    {
      "cell_type": "code",
      "execution_count": 5,
      "id": "fb9f4e54-9c97-43bd-826d-4d5fe34ceb05",
      "metadata": {
        "tags": [],
        "id": "fb9f4e54-9c97-43bd-826d-4d5fe34ceb05",
        "outputId": "6f506877-3931-45df-bdac-f47919d19ee7",
        "colab": {
          "base_uri": "https://localhost:8080/"
        }
      },
      "outputs": [
        {
          "output_type": "execute_result",
          "data": {
            "text/plain": [
              "0    9586\n",
              "1    4826\n",
              "Name: toxic, dtype: int64"
            ]
          },
          "metadata": {},
          "execution_count": 5
        }
      ],
      "source": [
        "df['toxic'].value_counts()"
      ]
    },
    {
      "cell_type": "code",
      "execution_count": 6,
      "id": "77cd272b-4d0d-45d2-b44c-44a6c823d8a8",
      "metadata": {
        "tags": [],
        "id": "77cd272b-4d0d-45d2-b44c-44a6c823d8a8",
        "outputId": "d8e3d7f3-d987-48a0-9f6f-b1c7f85c291c",
        "colab": {
          "base_uri": "https://localhost:8080/"
        }
      },
      "outputs": [
        {
          "output_type": "execute_result",
          "data": {
            "text/plain": [
              "0                     Верблюдов-то за что? Дебилы, бл...\\n\n",
              "1        Хохлы, это отдушина затюканого россиянина, мол...\n",
              "2                                Собаке - собачья смерть\\n\n",
              "3        Страницу обнови, дебил. Это тоже не оскорблени...\n",
              "4        тебя не убедил 6-страничный пдф в том, что Скр...\n",
              "                               ...                        \n",
              "14404    ЖЕНЩИНА это ВЕНЕЦ ТВОРЕНИЯ, помните это ваньки...\n",
              "14405    Сейчас все авиакомпании мира вместе со специал...\n",
              "14407    Вонючий совковый скот прибежал и ноет. А вот и...\n",
              "14408    А кого любить? Гоблина тупорылого что-ли? Или ...\n",
              "14410    КРЫМОТРЕД НАРУШАЕТ ПРАВИЛА РАЗДЕЛА Т.К В НЕМ Н...\n",
              "Name: comment, Length: 4826, dtype: object"
            ]
          },
          "metadata": {},
          "execution_count": 6
        }
      ],
      "source": [
        "df.query('toxic == 1')['comment']"
      ]
    },
    {
      "cell_type": "code",
      "execution_count": 7,
      "id": "c30eccdb-a995-4d23-83cc-e3cb219a301c",
      "metadata": {
        "tags": [],
        "id": "c30eccdb-a995-4d23-83cc-e3cb219a301c",
        "outputId": "1693ddc5-06b2-4014-f7f8-026f0b2b255b",
        "colab": {
          "base_uri": "https://localhost:8080/"
        }
      },
      "outputs": [
        {
          "output_type": "execute_result",
          "data": {
            "text/plain": [
              "6        В шапке были ссылки на инфу по текущему фильму...\n",
              "12       Почитайте посты у этого автора,может найдете ч...\n",
              "17       Про графику было обидно) я так то проходил все...\n",
              "28       https: pp.userapi.com c848520 v848520411 11627...\n",
              "35       Возьмём как пример Россию, западноевропейские ...\n",
              "                               ...                        \n",
              "14392    ТАСС, 21 марта. Премьер-министр Новой Зеландии...\n",
              "14399    65 А чего так мало? Вот у гражданина был рейти...\n",
              "14406    Потому что запад прошел эту хуйню еще пару сот...\n",
              "14409    Посмотрел Утомленных солнцем 2. И оказалось, ч...\n",
              "14411    До сих пор пересматриваю его видео. Орамбо кст...\n",
              "Name: comment, Length: 9586, dtype: object"
            ]
          },
          "metadata": {},
          "execution_count": 7
        }
      ],
      "source": [
        "df.query('toxic == 0')['comment']"
      ]
    },
    {
      "cell_type": "code",
      "execution_count": 8,
      "id": "9e76d32b-f7f1-4828-8b10-490233bf7ec7",
      "metadata": {
        "tags": [],
        "id": "9e76d32b-f7f1-4828-8b10-490233bf7ec7",
        "outputId": "79d80285-5fe5-4fe0-9b8f-a9442965e23b",
        "colab": {
          "base_uri": "https://localhost:8080/"
        }
      },
      "outputs": [
        {
          "output_type": "stream",
          "name": "stderr",
          "text": [
            "[nltk_data] Downloading package punkt to /root/nltk_data...\n",
            "[nltk_data]   Unzipping tokenizers/punkt.zip.\n",
            "[nltk_data] Downloading package stopwords to /root/nltk_data...\n",
            "[nltk_data]   Unzipping corpora/stopwords.zip.\n"
          ]
        }
      ],
      "source": [
        "import nltk\n",
        "import string\n",
        "from nltk.corpus import stopwords\n",
        "from nltk.tokenize import word_tokenize\n",
        "from nltk.stem import SnowballStemmer\n",
        "# nltk.download('punkt')\n",
        "# nltk.download('stopwords')\n",
        "\n",
        "stemmer = SnowballStemmer(language='russian')\n",
        "russian_stop_words = stopwords.words('russian')\n",
        "\n",
        "def tokenize_sentence(sentence: str, remove_stop_words: bool=True):\n",
        "    \"\"\"Преобразует предложения в токены.\n",
        "    По шагам:\n",
        "    1) Токенизация - разбиение текста на отдельные слова и знаки пунктуации\n",
        "    2) Удаляем знаки пунктуации\n",
        "    3) Удаляем стоп-слова (часто используемые, не несущие смысловой нагрузки)\n",
        "    4) Стемминг (stem - корень) - удаление окончаний и приведение к нижнему регистру\n",
        "    \"\"\"\n",
        "    tokens = word_tokenize(sentence, language='russian')\n",
        "    tokens = [i for i in tokens if i not in string.punctuation]\n",
        "    if remove_stop_words:\n",
        "        tokens = [i for i in tokens if i not in russian_stop_words]\n",
        "    tokens = [stemmer.stem(i) for i in tokens]\n",
        "    return tokens"
      ]
    },
    {
      "cell_type": "code",
      "execution_count": 9,
      "id": "6c1dba93-1ac1-4dc3-aa1f-6687cb5a21d7",
      "metadata": {
        "tags": [],
        "id": "6c1dba93-1ac1-4dc3-aa1f-6687cb5a21d7",
        "outputId": "0c364943-5658-4c93-80b0-01c86de35de7",
        "colab": {
          "base_uri": "https://localhost:8080/",
          "height": 36
        }
      },
      "outputs": [
        {
          "output_type": "execute_result",
          "data": {
            "text/plain": [
              "'Хохлы, это отдушина затюканого россиянина, мол, вон, а у хохлов еще хуже. Если бы хохлов не было, кисель их бы придумал.\\n'"
            ],
            "application/vnd.google.colaboratory.intrinsic+json": {
              "type": "string"
            }
          },
          "metadata": {},
          "execution_count": 9
        }
      ],
      "source": [
        "example = df.loc[1]['comment']\n",
        "example"
      ]
    },
    {
      "cell_type": "code",
      "execution_count": 10,
      "id": "b830219a-be05-452a-b1f9-01ef5da3cfff",
      "metadata": {
        "tags": [],
        "id": "b830219a-be05-452a-b1f9-01ef5da3cfff",
        "outputId": "b4565caf-2de8-48a5-9bb8-2b830d454bbb",
        "colab": {
          "base_uri": "https://localhost:8080/"
        }
      },
      "outputs": [
        {
          "output_type": "execute_result",
          "data": {
            "text/plain": [
              "['хохл',\n",
              " 'эт',\n",
              " 'отдушин',\n",
              " 'затюкан',\n",
              " 'россиянин',\n",
              " 'мол',\n",
              " 'вон',\n",
              " 'хохл',\n",
              " 'хуж',\n",
              " 'есл',\n",
              " 'хохл',\n",
              " 'кисел',\n",
              " 'придума']"
            ]
          },
          "metadata": {},
          "execution_count": 10
        }
      ],
      "source": [
        "tokenize_sentence(example)"
      ]
    },
    {
      "cell_type": "code",
      "execution_count": 11,
      "id": "251f692f-d55a-4419-a156-d109254ac18a",
      "metadata": {
        "tags": [],
        "id": "251f692f-d55a-4419-a156-d109254ac18a"
      },
      "outputs": [],
      "source": [
        "from sklearn.feature_extraction.text import TfidfVectorizer\n",
        "\n",
        "vectorizer = TfidfVectorizer(tokenizer=lambda x: tokenize_sentence(x, remove_stop_words=True),\n",
        "                             token_pattern=None)"
      ]
    },
    {
      "cell_type": "code",
      "execution_count": 12,
      "id": "17e671dd-dd76-4c53-81df-dea08f148739",
      "metadata": {
        "tags": [],
        "id": "17e671dd-dd76-4c53-81df-dea08f148739",
        "outputId": "e76de263-1a0b-4557-abaf-c41aec0a449a",
        "colab": {
          "base_uri": "https://localhost:8080/"
        }
      },
      "outputs": [
        {
          "output_type": "stream",
          "name": "stdout",
          "text": [
            "CPU times: user 20.8 s, sys: 53 ms, total: 20.8 s\n",
            "Wall time: 24.3 s\n"
          ]
        }
      ],
      "source": [
        "%%time\n",
        "\n",
        "from sklearn.model_selection import train_test_split\n",
        "\n",
        "features, labels = df['comment'], df['toxic']\n",
        "features_vect = vectorizer.fit_transform(features)\n",
        "x_train, x_test, y_train, y_test = train_test_split(features_vect,\n",
        "                                                    labels,\n",
        "                                                    test_size=0.2,\n",
        "                                                    random_state=0)"
      ]
    },
    {
      "cell_type": "markdown",
      "source": [
        "___"
      ],
      "metadata": {
        "id": "aP0GOadpDb7V"
      },
      "id": "aP0GOadpDb7V"
    },
    {
      "cell_type": "markdown",
      "source": [
        "##Testing Naive Bayes Multinomial classificator"
      ],
      "metadata": {
        "id": "PkOazM1hDLby"
      },
      "id": "PkOazM1hDLby"
    },
    {
      "cell_type": "code",
      "source": [
        "from sklearn.naive_bayes import MultinomialNB\n",
        "from sklearn.metrics import classification_report"
      ],
      "metadata": {
        "id": "wbjtI3iQDZf0"
      },
      "id": "wbjtI3iQDZf0",
      "execution_count": 13,
      "outputs": []
    },
    {
      "cell_type": "code",
      "source": [
        "nb_model = MultinomialNB()\n",
        "nb_model.fit(x_train, y_train)"
      ],
      "metadata": {
        "id": "AKGK9LnqDZi9",
        "outputId": "b798153e-064d-4ae5-ae2d-d2d20b054094",
        "colab": {
          "base_uri": "https://localhost:8080/",
          "height": 74
        }
      },
      "id": "AKGK9LnqDZi9",
      "execution_count": 14,
      "outputs": [
        {
          "output_type": "execute_result",
          "data": {
            "text/plain": [
              "MultinomialNB()"
            ],
            "text/html": [
              "<style>#sk-container-id-1 {color: black;background-color: white;}#sk-container-id-1 pre{padding: 0;}#sk-container-id-1 div.sk-toggleable {background-color: white;}#sk-container-id-1 label.sk-toggleable__label {cursor: pointer;display: block;width: 100%;margin-bottom: 0;padding: 0.3em;box-sizing: border-box;text-align: center;}#sk-container-id-1 label.sk-toggleable__label-arrow:before {content: \"▸\";float: left;margin-right: 0.25em;color: #696969;}#sk-container-id-1 label.sk-toggleable__label-arrow:hover:before {color: black;}#sk-container-id-1 div.sk-estimator:hover label.sk-toggleable__label-arrow:before {color: black;}#sk-container-id-1 div.sk-toggleable__content {max-height: 0;max-width: 0;overflow: hidden;text-align: left;background-color: #f0f8ff;}#sk-container-id-1 div.sk-toggleable__content pre {margin: 0.2em;color: black;border-radius: 0.25em;background-color: #f0f8ff;}#sk-container-id-1 input.sk-toggleable__control:checked~div.sk-toggleable__content {max-height: 200px;max-width: 100%;overflow: auto;}#sk-container-id-1 input.sk-toggleable__control:checked~label.sk-toggleable__label-arrow:before {content: \"▾\";}#sk-container-id-1 div.sk-estimator input.sk-toggleable__control:checked~label.sk-toggleable__label {background-color: #d4ebff;}#sk-container-id-1 div.sk-label input.sk-toggleable__control:checked~label.sk-toggleable__label {background-color: #d4ebff;}#sk-container-id-1 input.sk-hidden--visually {border: 0;clip: rect(1px 1px 1px 1px);clip: rect(1px, 1px, 1px, 1px);height: 1px;margin: -1px;overflow: hidden;padding: 0;position: absolute;width: 1px;}#sk-container-id-1 div.sk-estimator {font-family: monospace;background-color: #f0f8ff;border: 1px dotted black;border-radius: 0.25em;box-sizing: border-box;margin-bottom: 0.5em;}#sk-container-id-1 div.sk-estimator:hover {background-color: #d4ebff;}#sk-container-id-1 div.sk-parallel-item::after {content: \"\";width: 100%;border-bottom: 1px solid gray;flex-grow: 1;}#sk-container-id-1 div.sk-label:hover label.sk-toggleable__label {background-color: #d4ebff;}#sk-container-id-1 div.sk-serial::before {content: \"\";position: absolute;border-left: 1px solid gray;box-sizing: border-box;top: 0;bottom: 0;left: 50%;z-index: 0;}#sk-container-id-1 div.sk-serial {display: flex;flex-direction: column;align-items: center;background-color: white;padding-right: 0.2em;padding-left: 0.2em;position: relative;}#sk-container-id-1 div.sk-item {position: relative;z-index: 1;}#sk-container-id-1 div.sk-parallel {display: flex;align-items: stretch;justify-content: center;background-color: white;position: relative;}#sk-container-id-1 div.sk-item::before, #sk-container-id-1 div.sk-parallel-item::before {content: \"\";position: absolute;border-left: 1px solid gray;box-sizing: border-box;top: 0;bottom: 0;left: 50%;z-index: -1;}#sk-container-id-1 div.sk-parallel-item {display: flex;flex-direction: column;z-index: 1;position: relative;background-color: white;}#sk-container-id-1 div.sk-parallel-item:first-child::after {align-self: flex-end;width: 50%;}#sk-container-id-1 div.sk-parallel-item:last-child::after {align-self: flex-start;width: 50%;}#sk-container-id-1 div.sk-parallel-item:only-child::after {width: 0;}#sk-container-id-1 div.sk-dashed-wrapped {border: 1px dashed gray;margin: 0 0.4em 0.5em 0.4em;box-sizing: border-box;padding-bottom: 0.4em;background-color: white;}#sk-container-id-1 div.sk-label label {font-family: monospace;font-weight: bold;display: inline-block;line-height: 1.2em;}#sk-container-id-1 div.sk-label-container {text-align: center;}#sk-container-id-1 div.sk-container {/* jupyter's `normalize.less` sets `[hidden] { display: none; }` but bootstrap.min.css set `[hidden] { display: none !important; }` so we also need the `!important` here to be able to override the default hidden behavior on the sphinx rendered scikit-learn.org. See: https://github.com/scikit-learn/scikit-learn/issues/21755 */display: inline-block !important;position: relative;}#sk-container-id-1 div.sk-text-repr-fallback {display: none;}</style><div id=\"sk-container-id-1\" class=\"sk-top-container\"><div class=\"sk-text-repr-fallback\"><pre>MultinomialNB()</pre><b>In a Jupyter environment, please rerun this cell to show the HTML representation or trust the notebook. <br />On GitHub, the HTML representation is unable to render, please try loading this page with nbviewer.org.</b></div><div class=\"sk-container\" hidden><div class=\"sk-item\"><div class=\"sk-estimator sk-toggleable\"><input class=\"sk-toggleable__control sk-hidden--visually\" id=\"sk-estimator-id-1\" type=\"checkbox\" checked><label for=\"sk-estimator-id-1\" class=\"sk-toggleable__label sk-toggleable__label-arrow\">MultinomialNB</label><div class=\"sk-toggleable__content\"><pre>MultinomialNB()</pre></div></div></div></div></div>"
            ]
          },
          "metadata": {},
          "execution_count": 14
        }
      ]
    },
    {
      "cell_type": "code",
      "source": [
        "print(classification_report(y_test, nb_model.predict(x_test), digits=4))"
      ],
      "metadata": {
        "id": "hZbL8lARDZlY",
        "outputId": "1f47c8cb-923e-41b1-fcda-927ac2ce6b06",
        "colab": {
          "base_uri": "https://localhost:8080/"
        }
      },
      "id": "hZbL8lARDZlY",
      "execution_count": 15,
      "outputs": [
        {
          "output_type": "stream",
          "name": "stdout",
          "text": [
            "              precision    recall  f1-score   support\n",
            "\n",
            "           0     0.7825    0.9906    0.8744      1918\n",
            "           1     0.9604    0.4528    0.6155       965\n",
            "\n",
            "    accuracy                         0.8106      2883\n",
            "   macro avg     0.8715    0.7217    0.7449      2883\n",
            "weighted avg     0.8421    0.8106    0.7877      2883\n",
            "\n"
          ]
        }
      ]
    },
    {
      "cell_type": "markdown",
      "source": [
        "**This is the best decision for these task**"
      ],
      "metadata": {
        "id": "kw2qNEeiGqSd"
      },
      "id": "kw2qNEeiGqSd"
    },
    {
      "cell_type": "markdown",
      "id": "9c1dc382-9408-46c1-b43a-3ba6854cda64",
      "metadata": {
        "tags": [],
        "id": "9c1dc382-9408-46c1-b43a-3ba6854cda64"
      },
      "source": [
        "___"
      ]
    },
    {
      "cell_type": "markdown",
      "id": "03885aaf-0607-4a8b-be62-e54968e8279f",
      "metadata": {
        "tags": [],
        "id": "03885aaf-0607-4a8b-be62-e54968e8279f"
      },
      "source": [
        "## ___Testing Different Models___"
      ]
    },
    {
      "cell_type": "code",
      "execution_count": 16,
      "id": "bdad6dd5-e54c-45ea-b695-bb3cd21096c8",
      "metadata": {
        "tags": [],
        "id": "bdad6dd5-e54c-45ea-b695-bb3cd21096c8"
      },
      "outputs": [],
      "source": [
        "from sklearn.neighbors import KNeighborsClassifier\n",
        "from sklearn.tree import DecisionTreeClassifier\n",
        "from sklearn.linear_model import LogisticRegression, SGDClassifier\n",
        "from sklearn.metrics import recall_score, precision_score, roc_auc_score, f1_score\n",
        "from sklearn.tree import DecisionTreeClassifier\n",
        "from sklearn.svm import SVC\n",
        "from xgboost import XGBClassifier"
      ]
    },
    {
      "cell_type": "code",
      "execution_count": 17,
      "id": "73a94cb2-caa3-4c57-8ac6-c9b6f11563e5",
      "metadata": {
        "tags": [],
        "id": "73a94cb2-caa3-4c57-8ac6-c9b6f11563e5"
      },
      "outputs": [],
      "source": [
        "def models_report(models, x_train, x_test, y_train, y_test):\n",
        "    report = pd.DataFrame()\n",
        "    #сюда можно вставить разделение выборки\n",
        "    for model in models:\n",
        "        clf = models[model].fit(x_train, y_train)\n",
        "        y_pred = clf.predict(x_test)\n",
        "        report.loc[model, 'Precision'] = precision_score(y_test, y_pred).round(4)\n",
        "        report.loc[model, 'Recall'] = recall_score(y_test, y_pred).round(4)\n",
        "        report.loc[model, 'F1-score'] = f1_score(y_test, y_pred).round(4)\n",
        "        report.loc[model, 'ROC-AUC'] = roc_auc_score(y_test, y_pred).round(4)\n",
        "    return report"
      ]
    },
    {
      "cell_type": "code",
      "execution_count": 18,
      "id": "ca5c259d-0891-490f-8cea-8908ae474550",
      "metadata": {
        "tags": [],
        "id": "ca5c259d-0891-490f-8cea-8908ae474550"
      },
      "outputs": [],
      "source": [
        "models = {'kNN': KNeighborsClassifier(),\n",
        "          'LogisticRegression': LogisticRegression(),\n",
        "          'SGDClassifier': SGDClassifier(loss='log_loss'),\n",
        "          'SVC': SVC(),\n",
        "          'XGBClassifier': XGBClassifier(),\n",
        "          'DecisionTree': DecisionTreeClassifier()}"
      ]
    },
    {
      "cell_type": "code",
      "execution_count": 19,
      "id": "160daa7d-251f-4bb3-a55b-fb545239df1d",
      "metadata": {
        "tags": [],
        "id": "160daa7d-251f-4bb3-a55b-fb545239df1d",
        "outputId": "c880cee5-65e4-4d2b-b3ed-8554ab02dad7",
        "colab": {
          "base_uri": "https://localhost:8080/",
          "height": 272
        }
      },
      "outputs": [
        {
          "output_type": "stream",
          "name": "stdout",
          "text": [
            "CPU times: user 1min 30s, sys: 1.46 s, total: 1min 32s\n",
            "Wall time: 1min 15s\n"
          ]
        },
        {
          "output_type": "execute_result",
          "data": {
            "text/plain": [
              "                    Precision  Recall  F1-score  ROC-AUC\n",
              "kNN                    0.8192  0.5212    0.6371   0.7317\n",
              "LogisticRegression     0.9160  0.5990    0.7243   0.7857\n",
              "SGDClassifier          0.9183  0.5824    0.7127   0.7782\n",
              "SVC                    0.9123  0.6363    0.7497   0.8028\n",
              "XGBClassifier          0.8891  0.4984    0.6388   0.7336\n",
              "DecisionTree           0.6980  0.6010    0.6459   0.7351"
            ],
            "text/html": [
              "\n",
              "  <div id=\"df-d7647c6a-ce92-4a65-9edd-562a027cf3b6\" class=\"colab-df-container\">\n",
              "    <div>\n",
              "<style scoped>\n",
              "    .dataframe tbody tr th:only-of-type {\n",
              "        vertical-align: middle;\n",
              "    }\n",
              "\n",
              "    .dataframe tbody tr th {\n",
              "        vertical-align: top;\n",
              "    }\n",
              "\n",
              "    .dataframe thead th {\n",
              "        text-align: right;\n",
              "    }\n",
              "</style>\n",
              "<table border=\"1\" class=\"dataframe\">\n",
              "  <thead>\n",
              "    <tr style=\"text-align: right;\">\n",
              "      <th></th>\n",
              "      <th>Precision</th>\n",
              "      <th>Recall</th>\n",
              "      <th>F1-score</th>\n",
              "      <th>ROC-AUC</th>\n",
              "    </tr>\n",
              "  </thead>\n",
              "  <tbody>\n",
              "    <tr>\n",
              "      <th>kNN</th>\n",
              "      <td>0.8192</td>\n",
              "      <td>0.5212</td>\n",
              "      <td>0.6371</td>\n",
              "      <td>0.7317</td>\n",
              "    </tr>\n",
              "    <tr>\n",
              "      <th>LogisticRegression</th>\n",
              "      <td>0.9160</td>\n",
              "      <td>0.5990</td>\n",
              "      <td>0.7243</td>\n",
              "      <td>0.7857</td>\n",
              "    </tr>\n",
              "    <tr>\n",
              "      <th>SGDClassifier</th>\n",
              "      <td>0.9183</td>\n",
              "      <td>0.5824</td>\n",
              "      <td>0.7127</td>\n",
              "      <td>0.7782</td>\n",
              "    </tr>\n",
              "    <tr>\n",
              "      <th>SVC</th>\n",
              "      <td>0.9123</td>\n",
              "      <td>0.6363</td>\n",
              "      <td>0.7497</td>\n",
              "      <td>0.8028</td>\n",
              "    </tr>\n",
              "    <tr>\n",
              "      <th>XGBClassifier</th>\n",
              "      <td>0.8891</td>\n",
              "      <td>0.4984</td>\n",
              "      <td>0.6388</td>\n",
              "      <td>0.7336</td>\n",
              "    </tr>\n",
              "    <tr>\n",
              "      <th>DecisionTree</th>\n",
              "      <td>0.6980</td>\n",
              "      <td>0.6010</td>\n",
              "      <td>0.6459</td>\n",
              "      <td>0.7351</td>\n",
              "    </tr>\n",
              "  </tbody>\n",
              "</table>\n",
              "</div>\n",
              "    <div class=\"colab-df-buttons\">\n",
              "\n",
              "  <div class=\"colab-df-container\">\n",
              "    <button class=\"colab-df-convert\" onclick=\"convertToInteractive('df-d7647c6a-ce92-4a65-9edd-562a027cf3b6')\"\n",
              "            title=\"Convert this dataframe to an interactive table.\"\n",
              "            style=\"display:none;\">\n",
              "\n",
              "  <svg xmlns=\"http://www.w3.org/2000/svg\" height=\"24px\" viewBox=\"0 -960 960 960\">\n",
              "    <path d=\"M120-120v-720h720v720H120Zm60-500h600v-160H180v160Zm220 220h160v-160H400v160Zm0 220h160v-160H400v160ZM180-400h160v-160H180v160Zm440 0h160v-160H620v160ZM180-180h160v-160H180v160Zm440 0h160v-160H620v160Z\"/>\n",
              "  </svg>\n",
              "    </button>\n",
              "\n",
              "  <style>\n",
              "    .colab-df-container {\n",
              "      display:flex;\n",
              "      gap: 12px;\n",
              "    }\n",
              "\n",
              "    .colab-df-convert {\n",
              "      background-color: #E8F0FE;\n",
              "      border: none;\n",
              "      border-radius: 50%;\n",
              "      cursor: pointer;\n",
              "      display: none;\n",
              "      fill: #1967D2;\n",
              "      height: 32px;\n",
              "      padding: 0 0 0 0;\n",
              "      width: 32px;\n",
              "    }\n",
              "\n",
              "    .colab-df-convert:hover {\n",
              "      background-color: #E2EBFA;\n",
              "      box-shadow: 0px 1px 2px rgba(60, 64, 67, 0.3), 0px 1px 3px 1px rgba(60, 64, 67, 0.15);\n",
              "      fill: #174EA6;\n",
              "    }\n",
              "\n",
              "    .colab-df-buttons div {\n",
              "      margin-bottom: 4px;\n",
              "    }\n",
              "\n",
              "    [theme=dark] .colab-df-convert {\n",
              "      background-color: #3B4455;\n",
              "      fill: #D2E3FC;\n",
              "    }\n",
              "\n",
              "    [theme=dark] .colab-df-convert:hover {\n",
              "      background-color: #434B5C;\n",
              "      box-shadow: 0px 1px 3px 1px rgba(0, 0, 0, 0.15);\n",
              "      filter: drop-shadow(0px 1px 2px rgba(0, 0, 0, 0.3));\n",
              "      fill: #FFFFFF;\n",
              "    }\n",
              "  </style>\n",
              "\n",
              "    <script>\n",
              "      const buttonEl =\n",
              "        document.querySelector('#df-d7647c6a-ce92-4a65-9edd-562a027cf3b6 button.colab-df-convert');\n",
              "      buttonEl.style.display =\n",
              "        google.colab.kernel.accessAllowed ? 'block' : 'none';\n",
              "\n",
              "      async function convertToInteractive(key) {\n",
              "        const element = document.querySelector('#df-d7647c6a-ce92-4a65-9edd-562a027cf3b6');\n",
              "        const dataTable =\n",
              "          await google.colab.kernel.invokeFunction('convertToInteractive',\n",
              "                                                    [key], {});\n",
              "        if (!dataTable) return;\n",
              "\n",
              "        const docLinkHtml = 'Like what you see? Visit the ' +\n",
              "          '<a target=\"_blank\" href=https://colab.research.google.com/notebooks/data_table.ipynb>data table notebook</a>'\n",
              "          + ' to learn more about interactive tables.';\n",
              "        element.innerHTML = '';\n",
              "        dataTable['output_type'] = 'display_data';\n",
              "        await google.colab.output.renderOutput(dataTable, element);\n",
              "        const docLink = document.createElement('div');\n",
              "        docLink.innerHTML = docLinkHtml;\n",
              "        element.appendChild(docLink);\n",
              "      }\n",
              "    </script>\n",
              "  </div>\n",
              "\n",
              "\n",
              "<div id=\"df-e537c3e1-8e38-4e09-a19d-77ff2e0320a5\">\n",
              "  <button class=\"colab-df-quickchart\" onclick=\"quickchart('df-e537c3e1-8e38-4e09-a19d-77ff2e0320a5')\"\n",
              "            title=\"Suggest charts.\"\n",
              "            style=\"display:none;\">\n",
              "\n",
              "<svg xmlns=\"http://www.w3.org/2000/svg\" height=\"24px\"viewBox=\"0 0 24 24\"\n",
              "     width=\"24px\">\n",
              "    <g>\n",
              "        <path d=\"M19 3H5c-1.1 0-2 .9-2 2v14c0 1.1.9 2 2 2h14c1.1 0 2-.9 2-2V5c0-1.1-.9-2-2-2zM9 17H7v-7h2v7zm4 0h-2V7h2v10zm4 0h-2v-4h2v4z\"/>\n",
              "    </g>\n",
              "</svg>\n",
              "  </button>\n",
              "\n",
              "<style>\n",
              "  .colab-df-quickchart {\n",
              "      --bg-color: #E8F0FE;\n",
              "      --fill-color: #1967D2;\n",
              "      --hover-bg-color: #E2EBFA;\n",
              "      --hover-fill-color: #174EA6;\n",
              "      --disabled-fill-color: #AAA;\n",
              "      --disabled-bg-color: #DDD;\n",
              "  }\n",
              "\n",
              "  [theme=dark] .colab-df-quickchart {\n",
              "      --bg-color: #3B4455;\n",
              "      --fill-color: #D2E3FC;\n",
              "      --hover-bg-color: #434B5C;\n",
              "      --hover-fill-color: #FFFFFF;\n",
              "      --disabled-bg-color: #3B4455;\n",
              "      --disabled-fill-color: #666;\n",
              "  }\n",
              "\n",
              "  .colab-df-quickchart {\n",
              "    background-color: var(--bg-color);\n",
              "    border: none;\n",
              "    border-radius: 50%;\n",
              "    cursor: pointer;\n",
              "    display: none;\n",
              "    fill: var(--fill-color);\n",
              "    height: 32px;\n",
              "    padding: 0;\n",
              "    width: 32px;\n",
              "  }\n",
              "\n",
              "  .colab-df-quickchart:hover {\n",
              "    background-color: var(--hover-bg-color);\n",
              "    box-shadow: 0 1px 2px rgba(60, 64, 67, 0.3), 0 1px 3px 1px rgba(60, 64, 67, 0.15);\n",
              "    fill: var(--button-hover-fill-color);\n",
              "  }\n",
              "\n",
              "  .colab-df-quickchart-complete:disabled,\n",
              "  .colab-df-quickchart-complete:disabled:hover {\n",
              "    background-color: var(--disabled-bg-color);\n",
              "    fill: var(--disabled-fill-color);\n",
              "    box-shadow: none;\n",
              "  }\n",
              "\n",
              "  .colab-df-spinner {\n",
              "    border: 2px solid var(--fill-color);\n",
              "    border-color: transparent;\n",
              "    border-bottom-color: var(--fill-color);\n",
              "    animation:\n",
              "      spin 1s steps(1) infinite;\n",
              "  }\n",
              "\n",
              "  @keyframes spin {\n",
              "    0% {\n",
              "      border-color: transparent;\n",
              "      border-bottom-color: var(--fill-color);\n",
              "      border-left-color: var(--fill-color);\n",
              "    }\n",
              "    20% {\n",
              "      border-color: transparent;\n",
              "      border-left-color: var(--fill-color);\n",
              "      border-top-color: var(--fill-color);\n",
              "    }\n",
              "    30% {\n",
              "      border-color: transparent;\n",
              "      border-left-color: var(--fill-color);\n",
              "      border-top-color: var(--fill-color);\n",
              "      border-right-color: var(--fill-color);\n",
              "    }\n",
              "    40% {\n",
              "      border-color: transparent;\n",
              "      border-right-color: var(--fill-color);\n",
              "      border-top-color: var(--fill-color);\n",
              "    }\n",
              "    60% {\n",
              "      border-color: transparent;\n",
              "      border-right-color: var(--fill-color);\n",
              "    }\n",
              "    80% {\n",
              "      border-color: transparent;\n",
              "      border-right-color: var(--fill-color);\n",
              "      border-bottom-color: var(--fill-color);\n",
              "    }\n",
              "    90% {\n",
              "      border-color: transparent;\n",
              "      border-bottom-color: var(--fill-color);\n",
              "    }\n",
              "  }\n",
              "</style>\n",
              "\n",
              "  <script>\n",
              "    async function quickchart(key) {\n",
              "      const quickchartButtonEl =\n",
              "        document.querySelector('#' + key + ' button');\n",
              "      quickchartButtonEl.disabled = true;  // To prevent multiple clicks.\n",
              "      quickchartButtonEl.classList.add('colab-df-spinner');\n",
              "      try {\n",
              "        const charts = await google.colab.kernel.invokeFunction(\n",
              "            'suggestCharts', [key], {});\n",
              "      } catch (error) {\n",
              "        console.error('Error during call to suggestCharts:', error);\n",
              "      }\n",
              "      quickchartButtonEl.classList.remove('colab-df-spinner');\n",
              "      quickchartButtonEl.classList.add('colab-df-quickchart-complete');\n",
              "    }\n",
              "    (() => {\n",
              "      let quickchartButtonEl =\n",
              "        document.querySelector('#df-e537c3e1-8e38-4e09-a19d-77ff2e0320a5 button');\n",
              "      quickchartButtonEl.style.display =\n",
              "        google.colab.kernel.accessAllowed ? 'block' : 'none';\n",
              "    })();\n",
              "  </script>\n",
              "</div>\n",
              "    </div>\n",
              "  </div>\n"
            ]
          },
          "metadata": {},
          "execution_count": 19
        }
      ],
      "source": [
        "%%time\n",
        "\n",
        "models_report(models, x_train, x_test, y_train, y_test)"
      ]
    },
    {
      "cell_type": "markdown",
      "id": "6f410518-3331-4cc2-bdd2-bdddbd7e5a6d",
      "metadata": {
        "id": "6f410518-3331-4cc2-bdd2-bdddbd7e5a6d"
      },
      "source": [
        "___"
      ]
    },
    {
      "cell_type": "markdown",
      "id": "1395d884-e54e-4482-b18e-db667cbaebec",
      "metadata": {
        "tags": [],
        "id": "1395d884-e54e-4482-b18e-db667cbaebec"
      },
      "source": [
        "## ___Search for Hyperparameters___"
      ]
    },
    {
      "cell_type": "code",
      "execution_count": 20,
      "id": "62963207-be21-4d84-a2dc-fed1e47cb73f",
      "metadata": {
        "tags": [],
        "id": "62963207-be21-4d84-a2dc-fed1e47cb73f"
      },
      "outputs": [],
      "source": [
        "from sklearn.model_selection import GridSearchCV\n",
        "from sklearn.metrics import classification_report"
      ]
    },
    {
      "cell_type": "markdown",
      "id": "e6837097-df25-4cb8-975a-5d010b2bb8ac",
      "metadata": {
        "tags": [],
        "id": "e6837097-df25-4cb8-975a-5d010b2bb8ac"
      },
      "source": [
        "### _kNN_"
      ]
    },
    {
      "cell_type": "code",
      "execution_count": 21,
      "id": "2d5f8199-9aa0-40d2-8a1c-8c8c6ea65f5a",
      "metadata": {
        "tags": [],
        "id": "2d5f8199-9aa0-40d2-8a1c-8c8c6ea65f5a",
        "outputId": "d982e9c6-7936-442f-8f58-1e6d7f6b0a07",
        "colab": {
          "base_uri": "https://localhost:8080/"
        }
      },
      "outputs": [
        {
          "output_type": "stream",
          "name": "stdout",
          "text": [
            "best params: {'n_neighbors': 13}\n",
            " best score: 0.8244427096886113\n",
            "              precision    recall  f1-score   support\n",
            "\n",
            "           0     0.8158    0.9536    0.8793      1918\n",
            "           1     0.8612    0.5720    0.6874       965\n",
            "\n",
            "    accuracy                         0.8259      2883\n",
            "   macro avg     0.8385    0.7628    0.7834      2883\n",
            "weighted avg     0.8310    0.8259    0.8151      2883\n",
            "\n",
            "CPU times: user 9min 58s, sys: 1.05 s, total: 9min 59s\n",
            "Wall time: 6min 23s\n"
          ]
        }
      ],
      "source": [
        "%%time\n",
        "\n",
        "knn_grid = GridSearchCV(KNeighborsClassifier(),\n",
        "                        param_grid={'n_neighbors': range(10, 21)},\n",
        "                        verbose=0,\n",
        "                        cv=3)\n",
        "knn_grid.fit(x_train, y_train)\n",
        "\n",
        "print(f'best params: {knn_grid.best_params_}')\n",
        "print(f' best score: {knn_grid.best_score_}')\n",
        "print(classification_report(y_test, knn_grid.predict(x_test), digits=4))"
      ]
    },
    {
      "cell_type": "markdown",
      "id": "ce91e2c7-dc7b-4540-abde-10df2212b921",
      "metadata": {
        "id": "ce91e2c7-dc7b-4540-abde-10df2212b921"
      },
      "source": [
        "___"
      ]
    },
    {
      "cell_type": "markdown",
      "id": "d75a7540-5482-42d7-b0d4-0c9f1b71b97e",
      "metadata": {
        "tags": [],
        "id": "d75a7540-5482-42d7-b0d4-0c9f1b71b97e"
      },
      "source": [
        "### _Logistic Regression_"
      ]
    },
    {
      "cell_type": "code",
      "execution_count": 22,
      "id": "f83ee15e-50c8-408a-878c-5cb08589a162",
      "metadata": {
        "tags": [],
        "id": "f83ee15e-50c8-408a-878c-5cb08589a162",
        "outputId": "cfaa979f-f5cf-4c86-fe44-1e5b326a145c",
        "colab": {
          "base_uri": "https://localhost:8080/"
        }
      },
      "outputs": [
        {
          "output_type": "stream",
          "name": "stdout",
          "text": [
            "best params: {'C': 23.95026619987486}\n",
            " best score: 0.8604388932257785\n",
            "              precision    recall  f1-score   support\n",
            "\n",
            "           0     0.8698    0.9400    0.9035      1918\n",
            "           1     0.8580    0.7202    0.7831       965\n",
            "\n",
            "    accuracy                         0.8665      2883\n",
            "   macro avg     0.8639    0.8301    0.8433      2883\n",
            "weighted avg     0.8658    0.8665    0.8632      2883\n",
            "\n",
            "CPU times: user 1min 16s, sys: 1min 38s, total: 2min 55s\n",
            "Wall time: 1min 41s\n"
          ]
        }
      ],
      "source": [
        "%%time\n",
        "\n",
        "lr_grid = GridSearchCV(LogisticRegression(max_iter=300),\n",
        "                       param_grid={'C': np.logspace(-1, 2, 30)},\n",
        "                       verbose=0,\n",
        "                       cv=3)\n",
        "lr_grid.fit(x_train, y_train)\n",
        "\n",
        "print(f'best params: {lr_grid.best_params_}')\n",
        "print(f' best score: {lr_grid.best_score_}')\n",
        "print(classification_report(y_test, lr_grid.predict(x_test), digits=4))"
      ]
    },
    {
      "cell_type": "code",
      "execution_count": 23,
      "id": "29f71ecf-c7d6-448a-88ab-714a532fa3c7",
      "metadata": {
        "id": "29f71ecf-c7d6-448a-88ab-714a532fa3c7"
      },
      "outputs": [],
      "source": [
        "from sklearn.metrics import precision_recall_curve\n",
        "\n",
        "pr, rc, ths = precision_recall_curve(y_true=y_test,\n",
        "                                     probas_pred=lr_grid.predict_proba(x_test)[:,1])"
      ]
    },
    {
      "cell_type": "code",
      "execution_count": 24,
      "id": "a9062777-91f4-46b9-a3f5-b7056eaf1d0e",
      "metadata": {
        "id": "a9062777-91f4-46b9-a3f5-b7056eaf1d0e",
        "outputId": "3d6b7886-fda5-4797-c24a-3c28e7ab31af",
        "colab": {
          "base_uri": "https://localhost:8080/",
          "height": 308
        }
      },
      "outputs": [
        {
          "output_type": "execute_result",
          "data": {
            "text/plain": [
              "[<matplotlib.lines.Line2D at 0x7aec4f49ea40>]"
            ]
          },
          "metadata": {},
          "execution_count": 24
        },
        {
          "output_type": "display_data",
          "data": {
            "text/plain": [
              "<Figure size 400x300 with 1 Axes>"
            ],
            "image/png": "[encoded data removed]"
          },
          "metadata": {}
        }
      ],
      "source": [
        "from matplotlib import pyplot as plt\n",
        "%matplotlib inline\n",
        "\n",
        "plt.figure(figsize=(4, 3))\n",
        "plt.plot(rc, pr)"
      ]
    },
    {
      "cell_type": "code",
      "execution_count": 25,
      "id": "62212130-0d39-47b1-b4b1-bd2ac12c0cd5",
      "metadata": {
        "tags": [],
        "id": "62212130-0d39-47b1-b4b1-bd2ac12c0cd5",
        "outputId": "acea484a-65f3-45d8-a48b-4c80a894a72f",
        "colab": {
          "base_uri": "https://localhost:8080/"
        }
      },
      "outputs": [
        {
          "output_type": "stream",
          "name": "stdout",
          "text": [
            "Precision: 0.95\n",
            "   Recall: 0.4332\n"
          ]
        }
      ],
      "source": [
        "pr_index = np.where(pr > 0.95)[0][0]\n",
        "threshold = ths[pr_index].round(4)\n",
        "probas = (lr_grid.predict_proba(x_test)[:,1] > threshold)\n",
        "print(f'Precision: {precision_score(y_test, probas).round(4)}')\n",
        "print(f'   Recall: {recall_score(y_test, probas).round(4)}')"
      ]
    },
    {
      "cell_type": "code",
      "execution_count": 26,
      "id": "65cd621d-851e-4ad0-8cf2-41a7e2b7281e",
      "metadata": {
        "tags": [],
        "id": "65cd621d-851e-4ad0-8cf2-41a7e2b7281e",
        "outputId": "d38d1457-00e3-4f5d-a430-e5d8e242bf94",
        "colab": {
          "base_uri": "https://localhost:8080/"
        }
      },
      "outputs": [
        {
          "output_type": "stream",
          "name": "stdout",
          "text": [
            "Threshold: 0.8663\n"
          ]
        }
      ],
      "source": [
        "print(f'Threshold: {threshold}')"
      ]
    },
    {
      "cell_type": "markdown",
      "id": "a2b793c5-e271-4835-b8dc-feda63072702",
      "metadata": {
        "id": "a2b793c5-e271-4835-b8dc-feda63072702"
      },
      "source": [
        "___"
      ]
    },
    {
      "cell_type": "markdown",
      "id": "259f8192-837b-4771-bb13-04bf15fa58fb",
      "metadata": {
        "id": "259f8192-837b-4771-bb13-04bf15fa58fb"
      },
      "source": [
        "### _Gradient Descent_"
      ]
    },
    {
      "cell_type": "code",
      "execution_count": 27,
      "id": "14d2f062-d8c3-42a8-9823-4a7015aba716",
      "metadata": {
        "id": "14d2f062-d8c3-42a8-9823-4a7015aba716",
        "outputId": "e9f50b6b-4fcb-45c5-df89-0450db013810",
        "colab": {
          "base_uri": "https://localhost:8080/"
        }
      },
      "outputs": [
        {
          "output_type": "stream",
          "name": "stdout",
          "text": [
            "best params: {'alpha': 0.00023, 'learning_rate': 'optimal'}\n",
            " best score: 0.7991152383765447\n",
            "              precision    recall  f1-score   support\n",
            "\n",
            "           0     0.7840    0.9880    0.8743      1918\n",
            "           1     0.9506    0.4591    0.6191       965\n",
            "\n",
            "    accuracy                         0.8110      2883\n",
            "   macro avg     0.8673    0.7235    0.7467      2883\n",
            "weighted avg     0.8398    0.8110    0.7889      2883\n",
            "\n",
            "CPU times: user 1.02 s, sys: 739 ms, total: 1.76 s\n",
            "Wall time: 1.05 s\n"
          ]
        }
      ],
      "source": [
        "%%time\n",
        "\n",
        "sgd_grid = GridSearchCV(SGDClassifier(loss='log_loss', early_stopping=True, validation_fraction=0.2, random_state=0),\n",
        "                        param_grid={'learning_rate': ['optimal'],\n",
        "                                    'alpha' : [0.00023, 0.001, 0.01]},\n",
        "                        cv=5)\n",
        "sgd_grid.fit(x_train, y_train)\n",
        "\n",
        "print(f'best params: {sgd_grid.best_params_}')\n",
        "print(f' best score: {sgd_grid.best_score_}')\n",
        "print(classification_report(y_test, sgd_grid.predict(x_test), digits=4))"
      ]
    },
    {
      "cell_type": "code",
      "execution_count": 28,
      "id": "e6d6e811-8019-486c-ae98-6341b273e8cb",
      "metadata": {
        "tags": [],
        "id": "e6d6e811-8019-486c-ae98-6341b273e8cb"
      },
      "outputs": [],
      "source": [
        "scores = []\n",
        "for alpha in np.linspace(0.0001, 0.001, 100):\n",
        "    sgd_grid = SGDClassifier(loss='log_loss',\n",
        "                             alpha=alpha,\n",
        "                             early_stopping=True,\n",
        "                             validation_fraction=0.2,\n",
        "                             random_state=0)\n",
        "    sgd_grid.fit(x_train, y_train)\n",
        "    prec = precision_score(y_test, sgd_grid.predict(x_test))\n",
        "    rec = recall_score(y_test, sgd_grid.predict(x_test))\n",
        "    if prec > 0.95:\n",
        "        scores.append((rec, alpha.round(6)))"
      ]
    },
    {
      "cell_type": "code",
      "execution_count": 29,
      "id": "377975db-0156-4175-a169-06e6f184d1ea",
      "metadata": {
        "tags": [],
        "id": "377975db-0156-4175-a169-06e6f184d1ea",
        "outputId": "f2700135-9d46-44d7-9d00-39e386efc28e",
        "colab": {
          "base_uri": "https://localhost:8080/"
        }
      },
      "outputs": [
        {
          "output_type": "execute_result",
          "data": {
            "text/plain": [
              "(0.46217616580310883, 0.000227)"
            ]
          },
          "metadata": {},
          "execution_count": 29
        }
      ],
      "source": [
        "max(scores)"
      ]
    },
    {
      "cell_type": "code",
      "execution_count": 30,
      "id": "0d20ca55-0a2d-4203-bb2a-9646edf88a0e",
      "metadata": {
        "id": "0d20ca55-0a2d-4203-bb2a-9646edf88a0e",
        "outputId": "28898027-a2d8-4c28-d7c0-7479d352a6ae",
        "colab": {
          "base_uri": "https://localhost:8080/"
        }
      },
      "outputs": [
        {
          "output_type": "execute_result",
          "data": {
            "text/plain": [
              "0.000227"
            ]
          },
          "metadata": {},
          "execution_count": 30
        }
      ],
      "source": [
        "best_alpha = max(scores)[1]\n",
        "best_alpha"
      ]
    },
    {
      "cell_type": "markdown",
      "id": "68b149cf-8646-4d37-aaaf-56cc82b148b1",
      "metadata": {
        "id": "68b149cf-8646-4d37-aaaf-56cc82b148b1"
      },
      "source": [
        "#### _Best SGD Classifier_"
      ]
    },
    {
      "cell_type": "code",
      "execution_count": 31,
      "id": "fde5fbc9-7040-400e-b5cd-53fd7ff409e2",
      "metadata": {
        "tags": [],
        "id": "fde5fbc9-7040-400e-b5cd-53fd7ff409e2",
        "outputId": "04fe240e-265d-4a72-81b7-5ed287244b56",
        "colab": {
          "base_uri": "https://localhost:8080/"
        }
      },
      "outputs": [
        {
          "output_type": "stream",
          "name": "stdout",
          "text": [
            "              precision    recall  f1-score   support\n",
            "\n",
            "           0     0.7850    0.9880    0.8749      1918\n",
            "           1     0.9510    0.4622    0.6220       965\n",
            "\n",
            "    accuracy                         0.8120      2883\n",
            "   macro avg     0.8680    0.7251    0.7485      2883\n",
            "weighted avg     0.8406    0.8120    0.7903      2883\n",
            "\n",
            "CPU times: user 50.7 ms, sys: 38.8 ms, total: 89.5 ms\n",
            "Wall time: 48.2 ms\n"
          ]
        }
      ],
      "source": [
        "%%time\n",
        "\n",
        "sgd = SGDClassifier(loss='log_loss', alpha=best_alpha, early_stopping=True, validation_fraction=0.2, random_state=0)\n",
        "sgd.fit(x_train, y_train)\n",
        "\n",
        "print(classification_report(y_test, sgd.predict(x_test), digits=4))"
      ]
    },
    {
      "cell_type": "markdown",
      "id": "4f2a9d2a-3983-43f0-811e-93941cc3b555",
      "metadata": {
        "id": "4f2a9d2a-3983-43f0-811e-93941cc3b555"
      },
      "source": [
        "___"
      ]
    },
    {
      "cell_type": "markdown",
      "id": "a147360d-07b5-4b23-a9cc-3416c35bdefb",
      "metadata": {
        "id": "a147360d-07b5-4b23-a9cc-3416c35bdefb"
      },
      "source": [
        "### _SVM_"
      ]
    },
    {
      "cell_type": "code",
      "execution_count": 32,
      "id": "26d0c07b-872d-49c9-9d1a-b25f937c3fda",
      "metadata": {
        "id": "26d0c07b-872d-49c9-9d1a-b25f937c3fda",
        "outputId": "605e1458-913e-4c54-a3e9-0912f76c60bf",
        "colab": {
          "base_uri": "https://localhost:8080/"
        }
      },
      "outputs": [
        {
          "output_type": "stream",
          "name": "stdout",
          "text": [
            "best params: {'C': 0.9, 'gamma': 0.09}\n",
            " best score: 0.9732548410231892\n",
            "              precision    recall  f1-score   support\n",
            "\n",
            "           0     0.7414    0.9927    0.8489      1918\n",
            "           1     0.9556    0.3119    0.4703       965\n",
            "\n",
            "    accuracy                         0.7648      2883\n",
            "   macro avg     0.8485    0.6523    0.6596      2883\n",
            "weighted avg     0.8131    0.7648    0.7222      2883\n",
            "\n",
            "CPU times: user 36.5 s, sys: 122 ms, total: 36.6 s\n",
            "Wall time: 36.6 s\n"
          ]
        }
      ],
      "source": [
        "%%time\n",
        "\n",
        "svc_grid = GridSearchCV(SVC(),\n",
        "                        param_grid={'C': [0.9],\n",
        "                                    'gamma': [0.09]\n",
        "                                   },\n",
        "                        verbose=0,\n",
        "                        scoring='precision',\n",
        "                        cv=2)\n",
        "svc_grid.fit(x_train, y_train)\n",
        "\n",
        "print(f'best params: {svc_grid.best_params_}')\n",
        "print(f' best score: {svc_grid.best_score_}')\n",
        "print(classification_report(y_test, svc_grid.predict(x_test), digits=4))"
      ]
    },
    {
      "cell_type": "markdown",
      "id": "ba693250-138e-4f3b-bca4-7a9fcac1d127",
      "metadata": {
        "id": "ba693250-138e-4f3b-bca4-7a9fcac1d127"
      },
      "source": [
        "___"
      ]
    },
    {
      "cell_type": "markdown",
      "id": "bec3a794-281f-4447-a5bc-061908aa9a87",
      "metadata": {
        "id": "bec3a794-281f-4447-a5bc-061908aa9a87"
      },
      "source": [
        "### _XGBoost_"
      ]
    },
    {
      "cell_type": "code",
      "execution_count": 33,
      "id": "c1807539-6356-4781-a6e8-506414b437e8",
      "metadata": {
        "id": "c1807539-6356-4781-a6e8-506414b437e8",
        "outputId": "40121788-a805-4589-d8b2-cda10a1649d8",
        "colab": {
          "base_uri": "https://localhost:8080/"
        }
      },
      "outputs": [
        {
          "output_type": "stream",
          "name": "stdout",
          "text": [
            "CPU times: user 1min 3s, sys: 1.39 s, total: 1min 4s\n",
            "Wall time: 35.9 s\n"
          ]
        }
      ],
      "source": [
        "%%time\n",
        "\n",
        "from sklearn.model_selection import cross_val_score\n",
        "\n",
        "trees = [1] + list(range(2, 15))\n",
        "xgb_scoring = []\n",
        "for tree in trees:\n",
        "    xgb = XGBClassifier(n_estimators=tree)\n",
        "    score = cross_val_score(xgb, x_train, y_train, scoring='precision', cv=3)\n",
        "    xgb_scoring.append(score)\n",
        "xgb_scoring = np.asmatrix(xgb_scoring)"
      ]
    },
    {
      "cell_type": "code",
      "execution_count": 34,
      "id": "6f460597-5f37-479f-a3de-d5a882ebbaa8",
      "metadata": {
        "tags": [],
        "id": "6f460597-5f37-479f-a3de-d5a882ebbaa8",
        "outputId": "5a52116c-3c13-4683-85da-77affa7843a0",
        "colab": {
          "base_uri": "https://localhost:8080/",
          "height": 311
        }
      },
      "outputs": [
        {
          "output_type": "display_data",
          "data": {
            "text/plain": [
              "<Figure size 400x300 with 1 Axes>"
            ],
            "image/png": "[encoded data removed]"
          },
          "metadata": {}
        }
      ],
      "source": [
        "plt.figure(figsize=[4,3])\n",
        "plt.plot(trees, xgb_scoring.mean(axis=1), label='XGBoost')\n",
        "plt.grid(True)\n",
        "plt.xlabel('trees')\n",
        "plt.ylabel('precision')\n",
        "plt.show()"
      ]
    },
    {
      "cell_type": "code",
      "execution_count": 35,
      "id": "c59ef79f-aa4c-44cc-9abd-63d0cbbf7690",
      "metadata": {
        "id": "c59ef79f-aa4c-44cc-9abd-63d0cbbf7690"
      },
      "outputs": [],
      "source": [
        "trees = list(range(10, 110, 10))\n",
        "scores = []\n",
        "for tree in trees:\n",
        "    xgb_grid = XGBClassifier(n_estimators=tree)\n",
        "    xgb_grid.fit(x_train, y_train)\n",
        "    prec = precision_score(y_test, xgb_grid.predict(x_test))\n",
        "    rec = recall_score(y_test, xgb_grid.predict(x_test))\n",
        "    if prec > 0.9:\n",
        "        scores.append((rec, tree))"
      ]
    },
    {
      "cell_type": "code",
      "execution_count": 36,
      "id": "afc85289-b583-41d8-990a-1e6caeb21bbf",
      "metadata": {
        "tags": [],
        "id": "afc85289-b583-41d8-990a-1e6caeb21bbf",
        "outputId": "b4d351a0-3d72-4c35-fbe1-065f6a75e651",
        "colab": {
          "base_uri": "https://localhost:8080/"
        }
      },
      "outputs": [
        {
          "output_type": "execute_result",
          "data": {
            "text/plain": [
              "[]"
            ]
          },
          "metadata": {},
          "execution_count": 36
        }
      ],
      "source": [
        "scores"
      ]
    },
    {
      "cell_type": "markdown",
      "id": "a64eba4a-6320-461a-a7ca-a224b84f5f25",
      "metadata": {
        "id": "a64eba4a-6320-461a-a7ca-a224b84f5f25"
      },
      "source": [
        "тут еще есть варианты настроки параметров"
      ]
    },
    {
      "cell_type": "markdown",
      "id": "1b7d0e0e-a74c-4195-8152-a211fed09773",
      "metadata": {
        "id": "1b7d0e0e-a74c-4195-8152-a211fed09773"
      },
      "source": [
        "___"
      ]
    },
    {
      "cell_type": "markdown",
      "id": "3b6bd966-25fb-4a0c-a6b2-926fa1fb45a3",
      "metadata": {
        "tags": [],
        "id": "3b6bd966-25fb-4a0c-a6b2-926fa1fb45a3"
      },
      "source": [
        "### _Decision Tree_"
      ]
    },
    {
      "cell_type": "code",
      "execution_count": null,
      "id": "cb2f8791-570e-4e18-82b0-dd7b1048d1ce",
      "metadata": {
        "tags": [],
        "id": "cb2f8791-570e-4e18-82b0-dd7b1048d1ce",
        "outputId": "10a0fa3d-5661-4e6c-e271-5d7f8031d742"
      },
      "outputs": [
        {
          "name": "stdout",
          "output_type": "stream",
          "text": [
            "best params: {'max_depth': 19}\n",
            " best score: 0.7398729711984016\n",
            "              precision    recall  f1-score   support\n",
            "\n",
            "           0     0.7300    0.9599    0.8293      1918\n",
            "           1     0.7867    0.2943    0.4284       965\n",
            "\n",
            "    accuracy                         0.7371      2883\n",
            "   macro avg     0.7583    0.6271    0.6288      2883\n",
            "weighted avg     0.7490    0.7371    0.6951      2883\n",
            "\n",
            "CPU times: total: 1min 35s\n",
            "Wall time: 1min 35s\n"
          ]
        }
      ],
      "source": [
        "%%time\n",
        "\n",
        "dtc_grid = GridSearchCV(DecisionTreeClassifier(random_state=0),\n",
        "                        param_grid={'max_depth' : range(1, 20)},\n",
        "                        cv=5)\n",
        "dtc_grid.fit(x_train, y_train)\n",
        "\n",
        "print(f'best params: {dtc_grid.best_params_}')\n",
        "print(f' best score: {dtc_grid.best_score_}')\n",
        "print(classification_report(y_test, dtc_grid.predict(x_test), digits=4))"
      ]
    },
    {
      "cell_type": "code",
      "execution_count": null,
      "id": "8d1f0069-15bf-4f29-9e11-9277ac6f5fc6",
      "metadata": {
        "tags": [],
        "id": "8d1f0069-15bf-4f29-9e11-9277ac6f5fc6"
      },
      "outputs": [],
      "source": [
        "scores = []\n",
        "for n in range(1, 10):\n",
        "    dtc_grid = DecisionTreeClassifier(random_state=0, max_depth=n)\n",
        "    dtc_grid.fit(x_train, y_train)\n",
        "    prec = precision_score(y_test, dtc_grid.predict(x_test))\n",
        "    rec = recall_score(y_test, dtc_grid.predict(x_test))\n",
        "    if prec > 0.95:\n",
        "        scores.append((rec, n))"
      ]
    },
    {
      "cell_type": "code",
      "execution_count": null,
      "id": "35bb474a-54b1-43e6-b3b6-15e5496b871f",
      "metadata": {
        "tags": [],
        "id": "35bb474a-54b1-43e6-b3b6-15e5496b871f",
        "outputId": "de49d90a-6329-4256-9a8b-a694eab79913"
      },
      "outputs": [
        {
          "data": {
            "text/plain": [
              "[(0.04766839378238342, 1)]"
            ]
          },
          "execution_count": 43,
          "metadata": {},
          "output_type": "execute_result"
        }
      ],
      "source": [
        "scores"
      ]
    },
    {
      "cell_type": "markdown",
      "id": "40023720-2ee6-4cb3-a30c-324d63b5cd58",
      "metadata": {
        "id": "40023720-2ee6-4cb3-a30c-324d63b5cd58"
      },
      "source": [
        "___"
      ]
    },
    {
      "cell_type": "markdown",
      "id": "76362481-e94b-4ebe-a0ef-dc5a2af05ffe",
      "metadata": {
        "tags": [],
        "id": "76362481-e94b-4ebe-a0ef-dc5a2af05ffe"
      },
      "source": [
        "## ___Predictions___"
      ]
    },
    {
      "cell_type": "code",
      "execution_count": 37,
      "id": "3adefa29-11d1-431a-839a-d57fa99e52e3",
      "metadata": {
        "tags": [],
        "id": "3adefa29-11d1-431a-839a-d57fa99e52e3"
      },
      "outputs": [],
      "source": [
        "from sklearn.pipeline import Pipeline"
      ]
    },
    {
      "cell_type": "code",
      "execution_count": 38,
      "id": "be6702b8-68a9-49d4-8d6f-390ba4e332c4",
      "metadata": {
        "tags": [],
        "id": "be6702b8-68a9-49d4-8d6f-390ba4e332c4"
      },
      "outputs": [],
      "source": [
        "x_train_pipe, x_test_pipe, y_train_pipe, y_test_pipe = train_test_split(features,\n",
        "                                                                        labels,\n",
        "                                                                        test_size=0.2,\n",
        "                                                                        random_state=0)"
      ]
    },
    {
      "cell_type": "code",
      "execution_count": 39,
      "id": "219f83b2-98be-41e9-92b8-b64ebc5a9e6b",
      "metadata": {
        "tags": [],
        "id": "219f83b2-98be-41e9-92b8-b64ebc5a9e6b",
        "outputId": "ef8eb1d1-b1ff-4903-d345-449f35d86fcc",
        "colab": {
          "base_uri": "https://localhost:8080/"
        }
      },
      "outputs": [
        {
          "output_type": "stream",
          "name": "stdout",
          "text": [
            "(0.9455, 0.4497)\n",
            "(0.9475, 0.4487)\n",
            "(0.9496, 0.4487)\n",
            "(0.9495, 0.4477)\n",
            "(0.9495, 0.4477)\n",
            "(0.9493, 0.4466)\n",
            "(0.9493, 0.4466)\n",
            "CPU times: user 2min 44s, sys: 1.04 s, total: 2min 45s\n",
            "Wall time: 2min 46s\n"
          ]
        }
      ],
      "source": [
        "%%time\n",
        "scores = []\n",
        "for alpha in np.linspace(0.000277, 0.000283, 7):\n",
        "    sgd_pipeline = Pipeline([('vectorizer', vectorizer),\n",
        "                             ('model', SGDClassifier(loss='log_loss',\n",
        "                                                     alpha=alpha,\n",
        "                                                     early_stopping=True,\n",
        "                                                     validation_fraction=0.2,\n",
        "                                                     random_state=0))])\n",
        "    sgd_pipeline.fit(x_train_pipe, y_train_pipe)\n",
        "    prec = precision_score(y_test_pipe, sgd_pipeline.predict(x_test_pipe))\n",
        "    rec = recall_score(y_test_pipe, sgd_pipeline.predict(x_test_pipe))\n",
        "    print((prec.round(4), rec.round(4)))\n",
        "    if prec >= 0.949:\n",
        "        scores.append((rec.round(4), alpha.round(6)))"
      ]
    },
    {
      "cell_type": "code",
      "execution_count": 40,
      "id": "d342505e-bff1-4809-827c-c89add1d9408",
      "metadata": {
        "tags": [],
        "id": "d342505e-bff1-4809-827c-c89add1d9408",
        "outputId": "ccf34b81-8963-402d-e58f-a4e2cf9e84ab",
        "colab": {
          "base_uri": "https://localhost:8080/"
        }
      },
      "outputs": [
        {
          "output_type": "execute_result",
          "data": {
            "text/plain": [
              "[(0.4487, 0.000279),\n",
              " (0.4477, 0.00028),\n",
              " (0.4477, 0.000281),\n",
              " (0.4466, 0.000282),\n",
              " (0.4466, 0.000283)]"
            ]
          },
          "metadata": {},
          "execution_count": 40
        }
      ],
      "source": [
        "scores"
      ]
    },
    {
      "cell_type": "code",
      "execution_count": 41,
      "id": "01b9a43a-8cea-4745-bb0d-b5e775bb3d7e",
      "metadata": {
        "tags": [],
        "id": "01b9a43a-8cea-4745-bb0d-b5e775bb3d7e",
        "outputId": "35d12dc2-a490-443c-ca14-9e00fe4bc431",
        "colab": {
          "base_uri": "https://localhost:8080/"
        }
      },
      "outputs": [
        {
          "output_type": "execute_result",
          "data": {
            "text/plain": [
              "0.000279"
            ]
          },
          "metadata": {},
          "execution_count": 41
        }
      ],
      "source": [
        "best_alpha_pipe = max(scores)[1]\n",
        "best_alpha_pipe"
      ]
    },
    {
      "cell_type": "code",
      "execution_count": 42,
      "id": "51a26f2a-822d-4cc0-91e9-63420f0857df",
      "metadata": {
        "tags": [],
        "id": "51a26f2a-822d-4cc0-91e9-63420f0857df",
        "outputId": "ce33b1b8-80d9-47de-cf68-74d04253c109",
        "colab": {
          "base_uri": "https://localhost:8080/"
        }
      },
      "outputs": [
        {
          "output_type": "stream",
          "name": "stdout",
          "text": [
            "              precision    recall  f1-score   support\n",
            "\n",
            "           0       0.78      0.99      0.87      1918\n",
            "           1       0.95      0.45      0.61       965\n",
            "\n",
            "    accuracy                           0.81      2883\n",
            "   macro avg       0.87      0.72      0.74      2883\n",
            "weighted avg       0.84      0.81      0.78      2883\n",
            "\n"
          ]
        }
      ],
      "source": [
        "sgd_pipeline = Pipeline([('vectorizer', vectorizer),\n",
        "                         ('model', SGDClassifier(loss='log_loss',\n",
        "                                                 alpha=best_alpha_pipe,\n",
        "                                                 early_stopping=True,\n",
        "                                                 validation_fraction=0.2,\n",
        "                                                 random_state=0))])\n",
        "sgd_pipeline.fit(x_train_pipe, y_train_pipe)\n",
        "print(classification_report(y_test_pipe, sgd_pipeline.predict(x_test_pipe)))"
      ]
    },
    {
      "cell_type": "code",
      "execution_count": 43,
      "id": "f5c0573c-56d2-4874-b580-668f5d0a1b2c",
      "metadata": {
        "tags": [],
        "id": "f5c0573c-56d2-4874-b580-668f5d0a1b2c"
      },
      "outputs": [],
      "source": [
        "def check_toxic(text: str):\n",
        "    if sgd_pipeline.predict([text])[0]:\n",
        "        return 'TOXIC'\n",
        "    else:\n",
        "        return 'normal'"
      ]
    },
    {
      "cell_type": "code",
      "execution_count": 44,
      "id": "b91c8375-7839-4daf-b647-2c6b8b10d439",
      "metadata": {
        "tags": [],
        "id": "b91c8375-7839-4daf-b647-2c6b8b10d439",
        "outputId": "0c4449f1-1bb3-42c2-b323-46955ef177c5",
        "colab": {
          "base_uri": "https://localhost:8080/",
          "height": 36
        }
      },
      "outputs": [
        {
          "output_type": "execute_result",
          "data": {
            "text/plain": [
              "'TOXIC'"
            ],
            "application/vnd.google.colaboratory.intrinsic+json": {
              "type": "string"
            }
          },
          "metadata": {},
          "execution_count": 44
        }
      ],
      "source": [
        "check_toxic('пошел прочь чертов псих!!!')"
      ]
    }
  ],
  "metadata": {
    "kernelspec": {
      "display_name": "Python 3",
      "name": "python3"
    },
    "language_info": {
      "codemirror_mode": {
        "name": "ipython",
        "version": 3
      },
      "file_extension": ".py",
      "mimetype": "text/x-python",
      "name": "python",
      "nbconvert_exporter": "python",
      "pygments_lexer": "ipython3",
      "version": "3.10.9"
    },
    "colab": {
      "provenance": []
    }
  },
  "nbformat": 4,
  "nbformat_minor": 5
}