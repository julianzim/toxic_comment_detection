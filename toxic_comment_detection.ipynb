{
 "cells": [
  {
   "cell_type": "code",
   "execution_count": 1,
   "id": "11e7b403-e5a4-4e43-8179-cf1083374c58",
   "metadata": {
    "tags": []
   },
   "outputs": [],
   "source": [
    "import pandas as pd"
   ]
  },
  {
   "cell_type": "code",
   "execution_count": 6,
   "id": "bcebad79-0107-41f6-ac90-1c2e8c41858c",
   "metadata": {
    "tags": []
   },
   "outputs": [],
   "source": [
    "df = pd.read_csv(\"labeled.csv\", sep=\",\")\n",
    "df['toxic'] = df['toxic'].apply(int)"
   ]
  },
  {
   "cell_type": "code",
   "execution_count": 7,
   "id": "57617c75-38a9-47b6-9fac-f0b701eef4d8",
   "metadata": {
    "tags": []
   },
   "outputs": [
    {
     "data": {
      "text/plain": [
       "(14412, 2)"
      ]
     },
     "execution_count": 7,
     "metadata": {},
     "output_type": "execute_result"
    }
   ],
   "source": [
    "df.shape"
   ]
  },
  {
   "cell_type": "code",
   "execution_count": 9,
   "id": "fb9f4e54-9c97-43bd-826d-4d5fe34ceb05",
   "metadata": {
    "tags": []
   },
   "outputs": [
    {
     "data": {
      "text/plain": [
       "0    9586\n",
       "1    4826\n",
       "Name: toxic, dtype: int64"
      ]
     },
     "execution_count": 9,
     "metadata": {},
     "output_type": "execute_result"
    }
   ],
   "source": [
    "df['toxic'].value_counts()"
   ]
  },
  {
   "cell_type": "code",
   "execution_count": 17,
   "id": "77cd272b-4d0d-45d2-b44c-44a6c823d8a8",
   "metadata": {
    "tags": []
   },
   "outputs": [
    {
     "data": {
      "text/plain": [
       "0                     Верблюдов-то за что? Дебилы, бл...\\n\n",
       "1        Хохлы, это отдушина затюканого россиянина, мол...\n",
       "2                                Собаке - собачья смерть\\n\n",
       "3        Страницу обнови, дебил. Это тоже не оскорблени...\n",
       "4        тебя не убедил 6-страничный пдф в том, что Скр...\n",
       "                               ...                        \n",
       "14404    ЖЕНЩИНА это ВЕНЕЦ ТВОРЕНИЯ, помните это ваньки...\n",
       "14405    Сейчас все авиакомпании мира вместе со специал...\n",
       "14407    Вонючий совковый скот прибежал и ноет. А вот и...\n",
       "14408    А кого любить? Гоблина тупорылого что-ли? Или ...\n",
       "14410    КРЫМОТРЕД НАРУШАЕТ ПРАВИЛА РАЗДЕЛА Т.К В НЕМ Н...\n",
       "Name: comment, Length: 4826, dtype: object"
      ]
     },
     "execution_count": 17,
     "metadata": {},
     "output_type": "execute_result"
    }
   ],
   "source": [
    "df.query('toxic == 1')['comment']"
   ]
  },
  {
   "cell_type": "code",
   "execution_count": 18,
   "id": "c30eccdb-a995-4d23-83cc-e3cb219a301c",
   "metadata": {
    "tags": []
   },
   "outputs": [
    {
     "data": {
      "text/plain": [
       "6        В шапке были ссылки на инфу по текущему фильму...\n",
       "12       Почитайте посты у этого автора,может найдете ч...\n",
       "17       Про графику было обидно) я так то проходил все...\n",
       "28       https: pp.userapi.com c848520 v848520411 11627...\n",
       "35       Возьмём как пример Россию, западноевропейские ...\n",
       "                               ...                        \n",
       "14392    ТАСС, 21 марта. Премьер-министр Новой Зеландии...\n",
       "14399    65 А чего так мало? Вот у гражданина был рейти...\n",
       "14406    Потому что запад прошел эту хуйню еще пару сот...\n",
       "14409    Посмотрел Утомленных солнцем 2. И оказалось, ч...\n",
       "14411    До сих пор пересматриваю его видео. Орамбо кст...\n",
       "Name: comment, Length: 9586, dtype: object"
      ]
     },
     "execution_count": 18,
     "metadata": {},
     "output_type": "execute_result"
    }
   ],
   "source": [
    "df.query('toxic == 0')['comment']"
   ]
  },
  {
   "cell_type": "code",
   "execution_count": 42,
   "id": "9e76d32b-f7f1-4828-8b10-490233bf7ec7",
   "metadata": {
    "tags": []
   },
   "outputs": [],
   "source": [
    "import nltk\n",
    "import string\n",
    "from nltk.corpus import stopwords\n",
    "from nltk.tokenize import word_tokenize\n",
    "from nltk.stem import SnowballStemmer\n",
    "# nltk.download('punkt')\n",
    "# nltk.download('stopwords')\n",
    "\n",
    "stemmer = SnowballStemmer(language='russian')\n",
    "russian_stop_words = stopwords.words('russian')\n",
    "\n",
    "def tokenize_sentence(sentence: str, remove_stop_words: bool=True):\n",
    "    \"\"\"Преобразует предложения в токены.\n",
    "    По шагам:\n",
    "    1) Токенизация - разбиение текста на отдельные слова и знаки пунктуации\n",
    "    2) Удаляем знаки пунктуации\n",
    "    3) Удаляем стоп-слова (часто используемые. не несущщие смысловой нагрузки)\n",
    "    4) Стемминг (stem - корень) - удаление окончаний и приведение к нижнему регистру\n",
    "    \"\"\"\n",
    "    tokens = word_tokenize(sentence, language='russian')\n",
    "    tokens = [i for i in tokens if i not in string.punctuation]\n",
    "    if remove_stop_words:\n",
    "        tokens = [i for i in tokens if i not in russian_stop_words]\n",
    "    tokens = [stemmer.stem(i) for i in tokens]\n",
    "    return tokens"
   ]
  },
  {
   "cell_type": "code",
   "execution_count": 49,
   "id": "6c1dba93-1ac1-4dc3-aa1f-6687cb5a21d7",
   "metadata": {
    "tags": []
   },
   "outputs": [
    {
     "data": {
      "text/plain": [
       "'Хохлы, это отдушина затюканого россиянина, мол, вон, а у хохлов еще хуже. Если бы хохлов не было, кисель их бы придумал.\\n'"
      ]
     },
     "execution_count": 49,
     "metadata": {},
     "output_type": "execute_result"
    }
   ],
   "source": [
    "example = df.loc[1]['comment']\n",
    "example"
   ]
  },
  {
   "cell_type": "code",
   "execution_count": 50,
   "id": "b830219a-be05-452a-b1f9-01ef5da3cfff",
   "metadata": {
    "tags": []
   },
   "outputs": [
    {
     "data": {
      "text/plain": [
       "['хохл',\n",
       " 'эт',\n",
       " 'отдушин',\n",
       " 'затюкан',\n",
       " 'россиянин',\n",
       " 'мол',\n",
       " 'вон',\n",
       " 'хохл',\n",
       " 'хуж',\n",
       " 'есл',\n",
       " 'хохл',\n",
       " 'кисел',\n",
       " 'придума']"
      ]
     },
     "execution_count": 50,
     "metadata": {},
     "output_type": "execute_result"
    }
   ],
   "source": [
    "tokenize_sentence(example)"
   ]
  },
  {
   "cell_type": "code",
   "execution_count": 51,
   "id": "251f692f-d55a-4419-a156-d109254ac18a",
   "metadata": {
    "tags": []
   },
   "outputs": [],
   "source": [
    "from sklearn.feature_extraction.text import TfidfVectorizer\n",
    "\n",
    "vectorizer = TfidfVectorizer(tokenizer=lambda x: tokenize_sentence(x))"
   ]
  },
  {
   "cell_type": "code",
   "execution_count": 62,
   "id": "17e671dd-dd76-4c53-81df-dea08f148739",
   "metadata": {
    "tags": []
   },
   "outputs": [],
   "source": [
    "from sklearn.model_selection import train_test_split\n",
    "\n",
    "features, labels = df['comment'], df['toxic']\n",
    "features = vectorizer.fit_transform(features)\n",
    "x_train, x_test, y_train, y_test = train_test_split(features, \n",
    "                                                   labels, \n",
    "                                                   test_size=0.2, \n",
    "                                                   random_state=27)"
   ]
  },
  {
   "cell_type": "code",
   "execution_count": 68,
   "id": "bdad6dd5-e54c-45ea-b695-bb3cd21096c8",
   "metadata": {
    "tags": []
   },
   "outputs": [],
   "source": [
    "from sklearn.neighbors import KNeighborsClassifier\n",
    "from sklearn.tree import DecisionTreeClassifier\n",
    "from sklearn.linear_model import LogisticRegression\n",
    "\n",
    "knn = KNeighborsClassifier().fit(x_train, y_train)\n",
    "tree = DecisionTreeClassifier().fit(x_train, y_train)\n",
    "log_reg = LogisticRegression().fit(x_train, y_train)"
   ]
  },
  {
   "cell_type": "code",
   "execution_count": 70,
   "id": "c8c8a7c8-2970-4d2b-86f5-38d047ceba61",
   "metadata": {
    "tags": []
   },
   "outputs": [
    {
     "name": "stdout",
     "output_type": "stream",
     "text": [
      "knn_recall: 0.6761006289308176\n",
      "tree_recall: 0.6016771488469602\n",
      "log_regr_recall: 0.6048218029350105\n"
     ]
    }
   ],
   "source": [
    "from sklearn.metrics import confusion_matrix, recall_score\n",
    "\n",
    "y_pred_knn = knn.predict(x_test)\n",
    "y_pred_tree = tree.predict(x_test)\n",
    "y_pred_log_reg = log_reg.predict(x_test)\n",
    "\n",
    "knn_recall = recall_score(y_test, y_pred_knn)\n",
    "tree_recall = recall_score(y_test, y_pred_tree)\n",
    "log_reg_recall = recall_score(y_test, y_pred_log_reg)\n",
    "\n",
    "print(f'knn_recall: {knn_recall}')\n",
    "print(f'tree_recall: {tree_recall}')\n",
    "print(f'log_regr_recall: {log_reg_recall}')"
   ]
  },
  {
   "cell_type": "code",
   "execution_count": null,
   "id": "9dc80ca9-6631-4d14-afe1-422f69c13ae2",
   "metadata": {},
   "outputs": [],
   "source": []
  },
  {
   "cell_type": "code",
   "execution_count": null,
   "id": "2d5f8199-9aa0-40d2-8a1c-8c8c6ea65f5a",
   "metadata": {},
   "outputs": [],
   "source": []
  },
  {
   "cell_type": "code",
   "execution_count": null,
   "id": "473592c0-3912-4dfb-97e3-02a09e0332a9",
   "metadata": {},
   "outputs": [],
   "source": []
  },
  {
   "cell_type": "code",
   "execution_count": null,
   "id": "60919b44-4342-4e75-8ef8-cfca47bbf590",
   "metadata": {},
   "outputs": [],
   "source": []
  },
  {
   "cell_type": "code",
   "execution_count": null,
   "id": "d56aa72a-1d54-4c02-9a9b-39b368253515",
   "metadata": {},
   "outputs": [],
   "source": []
  }
 ],
 "metadata": {
  "kernelspec": {
   "display_name": "Python 3 (ipykernel)",
   "language": "python",
   "name": "python3"
  },
  "language_info": {
   "codemirror_mode": {
    "name": "ipython",
    "version": 3
   },
   "file_extension": ".py",
   "mimetype": "text/x-python",
   "name": "python",
   "nbconvert_exporter": "python",
   "pygments_lexer": "ipython3",
   "version": "3.10.9"
  }
 },
 "nbformat": 4,
 "nbformat_minor": 5
}
