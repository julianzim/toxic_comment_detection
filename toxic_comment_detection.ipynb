{
 "cells": [
  {
   "cell_type": "markdown",
   "id": "e4b1025a-425c-41da-aff0-c8b3e7ff4509",
   "metadata": {
    "tags": []
   },
   "source": [
    "# <center>_Toxic Comment Detection_</center>"
   ]
  },
  {
   "cell_type": "markdown",
   "id": "393f20c1-47e9-4657-86c0-88041715e540",
   "metadata": {
    "tags": []
   },
   "source": [
    "## _Loading Data_"
   ]
  },
  {
   "cell_type": "code",
   "execution_count": 2,
   "id": "ad06e03e-d49d-4859-af4e-9b7ddffb604b",
   "metadata": {
    "tags": []
   },
   "outputs": [],
   "source": [
    "import pandas as pd\n",
    "import numpy as np"
   ]
  },
  {
   "cell_type": "code",
   "execution_count": 3,
   "id": "bcebad79-0107-41f6-ac90-1c2e8c41858c",
   "metadata": {
    "tags": []
   },
   "outputs": [],
   "source": [
    "df = pd.read_csv(\"labeled.csv\", sep=\",\")\n",
    "df['toxic'] = df['toxic'].apply(int)"
   ]
  },
  {
   "cell_type": "markdown",
   "id": "f7163cf5-02a2-432d-852c-3c3cb562bc3a",
   "metadata": {
    "tags": []
   },
   "source": [
    "## _EDA_"
   ]
  },
  {
   "cell_type": "code",
   "execution_count": 3,
   "id": "57617c75-38a9-47b6-9fac-f0b701eef4d8",
   "metadata": {
    "tags": []
   },
   "outputs": [
    {
     "data": {
      "text/plain": [
       "(14412, 2)"
      ]
     },
     "execution_count": 3,
     "metadata": {},
     "output_type": "execute_result"
    }
   ],
   "source": [
    "df.shape"
   ]
  },
  {
   "cell_type": "code",
   "execution_count": 4,
   "id": "fb9f4e54-9c97-43bd-826d-4d5fe34ceb05",
   "metadata": {
    "tags": []
   },
   "outputs": [
    {
     "data": {
      "text/plain": [
       "0    9586\n",
       "1    4826\n",
       "Name: toxic, dtype: int64"
      ]
     },
     "execution_count": 4,
     "metadata": {},
     "output_type": "execute_result"
    }
   ],
   "source": [
    "df['toxic'].value_counts()"
   ]
  },
  {
   "cell_type": "code",
   "execution_count": 5,
   "id": "77cd272b-4d0d-45d2-b44c-44a6c823d8a8",
   "metadata": {
    "tags": []
   },
   "outputs": [
    {
     "data": {
      "text/plain": [
       "0                     Верблюдов-то за что? Дебилы, бл...\\n\n",
       "1        Хохлы, это отдушина затюканого россиянина, мол...\n",
       "2                                Собаке - собачья смерть\\n\n",
       "3        Страницу обнови, дебил. Это тоже не оскорблени...\n",
       "4        тебя не убедил 6-страничный пдф в том, что Скр...\n",
       "                               ...                        \n",
       "14404    ЖЕНЩИНА это ВЕНЕЦ ТВОРЕНИЯ, помните это ваньки...\n",
       "14405    Сейчас все авиакомпании мира вместе со специал...\n",
       "14407    Вонючий совковый скот прибежал и ноет. А вот и...\n",
       "14408    А кого любить? Гоблина тупорылого что-ли? Или ...\n",
       "14410    КРЫМОТРЕД НАРУШАЕТ ПРАВИЛА РАЗДЕЛА Т.К В НЕМ Н...\n",
       "Name: comment, Length: 4826, dtype: object"
      ]
     },
     "execution_count": 5,
     "metadata": {},
     "output_type": "execute_result"
    }
   ],
   "source": [
    "df.query('toxic == 1')['comment']"
   ]
  },
  {
   "cell_type": "code",
   "execution_count": 6,
   "id": "c30eccdb-a995-4d23-83cc-e3cb219a301c",
   "metadata": {
    "tags": []
   },
   "outputs": [
    {
     "data": {
      "text/plain": [
       "6        В шапке были ссылки на инфу по текущему фильму...\n",
       "12       Почитайте посты у этого автора,может найдете ч...\n",
       "17       Про графику было обидно) я так то проходил все...\n",
       "28       https: pp.userapi.com c848520 v848520411 11627...\n",
       "35       Возьмём как пример Россию, западноевропейские ...\n",
       "                               ...                        \n",
       "14392    ТАСС, 21 марта. Премьер-министр Новой Зеландии...\n",
       "14399    65 А чего так мало? Вот у гражданина был рейти...\n",
       "14406    Потому что запад прошел эту хуйню еще пару сот...\n",
       "14409    Посмотрел Утомленных солнцем 2. И оказалось, ч...\n",
       "14411    До сих пор пересматриваю его видео. Орамбо кст...\n",
       "Name: comment, Length: 9586, dtype: object"
      ]
     },
     "execution_count": 6,
     "metadata": {},
     "output_type": "execute_result"
    }
   ],
   "source": [
    "df.query('toxic == 0')['comment']"
   ]
  },
  {
   "cell_type": "code",
   "execution_count": 7,
   "id": "9e76d32b-f7f1-4828-8b10-490233bf7ec7",
   "metadata": {
    "tags": []
   },
   "outputs": [],
   "source": [
    "import nltk\n",
    "import string\n",
    "from nltk.corpus import stopwords\n",
    "from nltk.tokenize import word_tokenize\n",
    "from nltk.stem import SnowballStemmer\n",
    "# nltk.download('punkt')\n",
    "# nltk.download('stopwords')\n",
    "\n",
    "stemmer = SnowballStemmer(language='russian')\n",
    "russian_stop_words = stopwords.words('russian')\n",
    "\n",
    "def tokenize_sentence(sentence: str, remove_stop_words: bool=True):\n",
    "    \"\"\"Преобразует предложения в токены.\n",
    "    По шагам:\n",
    "    1) Токенизация - разбиение текста на отдельные слова и знаки пунктуации\n",
    "    2) Удаляем знаки пунктуации\n",
    "    3) Удаляем стоп-слова (часто используемые. не несущщие смысловой нагрузки)\n",
    "    4) Стемминг (stem - корень) - удаление окончаний и приведение к нижнему регистру\n",
    "    \"\"\"\n",
    "    tokens = word_tokenize(sentence, language='russian')\n",
    "    tokens = [i for i in tokens if i not in string.punctuation]\n",
    "    if remove_stop_words:\n",
    "        tokens = [i for i in tokens if i not in russian_stop_words]\n",
    "    tokens = [stemmer.stem(i) for i in tokens]\n",
    "    return tokens"
   ]
  },
  {
   "cell_type": "code",
   "execution_count": 8,
   "id": "6c1dba93-1ac1-4dc3-aa1f-6687cb5a21d7",
   "metadata": {
    "tags": []
   },
   "outputs": [
    {
     "data": {
      "text/plain": [
       "'Хохлы, это отдушина затюканого россиянина, мол, вон, а у хохлов еще хуже. Если бы хохлов не было, кисель их бы придумал.\\n'"
      ]
     },
     "execution_count": 8,
     "metadata": {},
     "output_type": "execute_result"
    }
   ],
   "source": [
    "example = df.loc[1]['comment']\n",
    "example"
   ]
  },
  {
   "cell_type": "code",
   "execution_count": 9,
   "id": "b830219a-be05-452a-b1f9-01ef5da3cfff",
   "metadata": {
    "tags": []
   },
   "outputs": [
    {
     "data": {
      "text/plain": [
       "['хохл',\n",
       " 'эт',\n",
       " 'отдушин',\n",
       " 'затюкан',\n",
       " 'россиянин',\n",
       " 'мол',\n",
       " 'вон',\n",
       " 'хохл',\n",
       " 'хуж',\n",
       " 'есл',\n",
       " 'хохл',\n",
       " 'кисел',\n",
       " 'придума']"
      ]
     },
     "execution_count": 9,
     "metadata": {},
     "output_type": "execute_result"
    }
   ],
   "source": [
    "tokenize_sentence(example)"
   ]
  },
  {
   "cell_type": "code",
   "execution_count": 10,
   "id": "251f692f-d55a-4419-a156-d109254ac18a",
   "metadata": {
    "tags": []
   },
   "outputs": [],
   "source": [
    "from sklearn.feature_extraction.text import TfidfVectorizer\n",
    "\n",
    "vectorizer = TfidfVectorizer(tokenizer=lambda x: tokenize_sentence(x))"
   ]
  },
  {
   "cell_type": "code",
   "execution_count": 33,
   "id": "17e671dd-dd76-4c53-81df-dea08f148739",
   "metadata": {
    "tags": []
   },
   "outputs": [
    {
     "name": "stderr",
     "output_type": "stream",
     "text": [
      "C:\\Python310\\lib\\site-packages\\sklearn\\feature_extraction\\text.py:528: UserWarning: The parameter 'token_pattern' will not be used since 'tokenizer' is not None'\n",
      "  warnings.warn(\n"
     ]
    }
   ],
   "source": [
    "from sklearn.model_selection import train_test_split\n",
    "\n",
    "features, labels = df['comment'], df['toxic']\n",
    "features = vectorizer.fit_transform(features)\n",
    "x_train, x_test, y_train, y_test = train_test_split(features, \n",
    "                                                   labels, \n",
    "                                                   test_size=0.2, \n",
    "                                                   random_state=0)"
   ]
  },
  {
   "cell_type": "markdown",
   "id": "03885aaf-0607-4a8b-be62-e54968e8279f",
   "metadata": {
    "tags": []
   },
   "source": [
    "## _Testing Different Models_"
   ]
  },
  {
   "cell_type": "code",
   "execution_count": 38,
   "id": "bdad6dd5-e54c-45ea-b695-bb3cd21096c8",
   "metadata": {
    "tags": []
   },
   "outputs": [],
   "source": [
    "from sklearn.neighbors import KNeighborsClassifier\n",
    "from sklearn.tree import DecisionTreeClassifier\n",
    "from sklearn.linear_model import LogisticRegression\n",
    "\n",
    "knn = KNeighborsClassifier().fit(x_train, y_train)\n",
    "tree = DecisionTreeClassifier(random_state=0).fit(x_train, y_train)\n",
    "log_reg = LogisticRegression(random_state=0).fit(x_train, y_train)"
   ]
  },
  {
   "cell_type": "code",
   "execution_count": 39,
   "id": "c8c8a7c8-2970-4d2b-86f5-38d047ceba61",
   "metadata": {
    "tags": []
   },
   "outputs": [
    {
     "name": "stdout",
     "output_type": "stream",
     "text": [
      "knn_precision: 0.8192182410423453\n",
      "tree_precision: 0.7045735475896168\n",
      "log_regr_precision: 0.9160063391442155\n",
      "----------------------------------\n",
      "knn_recall: 0.5212435233160622\n",
      "tree_recall: 0.5906735751295337\n",
      "log_regr_recall: 0.5989637305699482\n",
      "----------------------------------\n",
      "knn_roc_auc: 0.7316853695829529\n",
      "tree_roc_auc: 0.7330323037274362\n",
      "log_regr_roc_auc: 0.7856653897896665\n"
     ]
    }
   ],
   "source": [
    "from sklearn.metrics import recall_score, precision_score, roc_auc_score\n",
    "\n",
    "y_pred_knn = knn.predict(x_test)\n",
    "y_pred_tree = tree.predict(x_test)\n",
    "y_pred_log_reg = log_reg.predict(x_test)\n",
    "\n",
    "knn_precision = precision_score(y_test, y_pred_knn)\n",
    "tree_precision = precision_score(y_test, y_pred_tree)\n",
    "log_reg_precision = precision_score(y_test, y_pred_log_reg)\n",
    "\n",
    "knn_recall = recall_score(y_test, y_pred_knn)\n",
    "tree_recall = recall_score(y_test, y_pred_tree)\n",
    "log_reg_recall = recall_score(y_test, y_pred_log_reg)\n",
    "\n",
    "knn_roc_auc = roc_auc_score(y_test, y_pred_knn)\n",
    "tree_roc_auc = roc_auc_score(y_test, y_pred_tree)\n",
    "log_reg_roc_auc = roc_auc_score(y_test, y_pred_log_reg)\n",
    "\n",
    "print(f'knn_precision: {knn_precision}')\n",
    "print(f'tree_precision: {tree_precision}')\n",
    "print(f'log_regr_precision: {log_reg_precision}')\n",
    "print('----------------------------------')\n",
    "print(f'knn_recall: {knn_recall}')\n",
    "print(f'tree_recall: {tree_recall}')\n",
    "print(f'log_regr_recall: {log_reg_recall}')\n",
    "print('----------------------------------')\n",
    "print(f'knn_roc_auc: {knn_roc_auc}')\n",
    "print(f'tree_roc_auc: {tree_roc_auc}')\n",
    "print(f'log_regr_roc_auc: {log_reg_roc_auc}')"
   ]
  },
  {
   "cell_type": "markdown",
   "id": "e6837097-df25-4cb8-975a-5d010b2bb8ac",
   "metadata": {
    "tags": []
   },
   "source": [
    "## _kNN_"
   ]
  },
  {
   "cell_type": "code",
   "execution_count": 40,
   "id": "2d5f8199-9aa0-40d2-8a1c-8c8c6ea65f5a",
   "metadata": {
    "tags": []
   },
   "outputs": [
    {
     "data": {
      "text/html": [
       "<style>#sk-container-id-8 {color: black;background-color: white;}#sk-container-id-8 pre{padding: 0;}#sk-container-id-8 div.sk-toggleable {background-color: white;}#sk-container-id-8 label.sk-toggleable__label {cursor: pointer;display: block;width: 100%;margin-bottom: 0;padding: 0.3em;box-sizing: border-box;text-align: center;}#sk-container-id-8 label.sk-toggleable__label-arrow:before {content: \"▸\";float: left;margin-right: 0.25em;color: #696969;}#sk-container-id-8 label.sk-toggleable__label-arrow:hover:before {color: black;}#sk-container-id-8 div.sk-estimator:hover label.sk-toggleable__label-arrow:before {color: black;}#sk-container-id-8 div.sk-toggleable__content {max-height: 0;max-width: 0;overflow: hidden;text-align: left;background-color: #f0f8ff;}#sk-container-id-8 div.sk-toggleable__content pre {margin: 0.2em;color: black;border-radius: 0.25em;background-color: #f0f8ff;}#sk-container-id-8 input.sk-toggleable__control:checked~div.sk-toggleable__content {max-height: 200px;max-width: 100%;overflow: auto;}#sk-container-id-8 input.sk-toggleable__control:checked~label.sk-toggleable__label-arrow:before {content: \"▾\";}#sk-container-id-8 div.sk-estimator input.sk-toggleable__control:checked~label.sk-toggleable__label {background-color: #d4ebff;}#sk-container-id-8 div.sk-label input.sk-toggleable__control:checked~label.sk-toggleable__label {background-color: #d4ebff;}#sk-container-id-8 input.sk-hidden--visually {border: 0;clip: rect(1px 1px 1px 1px);clip: rect(1px, 1px, 1px, 1px);height: 1px;margin: -1px;overflow: hidden;padding: 0;position: absolute;width: 1px;}#sk-container-id-8 div.sk-estimator {font-family: monospace;background-color: #f0f8ff;border: 1px dotted black;border-radius: 0.25em;box-sizing: border-box;margin-bottom: 0.5em;}#sk-container-id-8 div.sk-estimator:hover {background-color: #d4ebff;}#sk-container-id-8 div.sk-parallel-item::after {content: \"\";width: 100%;border-bottom: 1px solid gray;flex-grow: 1;}#sk-container-id-8 div.sk-label:hover label.sk-toggleable__label {background-color: #d4ebff;}#sk-container-id-8 div.sk-serial::before {content: \"\";position: absolute;border-left: 1px solid gray;box-sizing: border-box;top: 0;bottom: 0;left: 50%;z-index: 0;}#sk-container-id-8 div.sk-serial {display: flex;flex-direction: column;align-items: center;background-color: white;padding-right: 0.2em;padding-left: 0.2em;position: relative;}#sk-container-id-8 div.sk-item {position: relative;z-index: 1;}#sk-container-id-8 div.sk-parallel {display: flex;align-items: stretch;justify-content: center;background-color: white;position: relative;}#sk-container-id-8 div.sk-item::before, #sk-container-id-8 div.sk-parallel-item::before {content: \"\";position: absolute;border-left: 1px solid gray;box-sizing: border-box;top: 0;bottom: 0;left: 50%;z-index: -1;}#sk-container-id-8 div.sk-parallel-item {display: flex;flex-direction: column;z-index: 1;position: relative;background-color: white;}#sk-container-id-8 div.sk-parallel-item:first-child::after {align-self: flex-end;width: 50%;}#sk-container-id-8 div.sk-parallel-item:last-child::after {align-self: flex-start;width: 50%;}#sk-container-id-8 div.sk-parallel-item:only-child::after {width: 0;}#sk-container-id-8 div.sk-dashed-wrapped {border: 1px dashed gray;margin: 0 0.4em 0.5em 0.4em;box-sizing: border-box;padding-bottom: 0.4em;background-color: white;}#sk-container-id-8 div.sk-label label {font-family: monospace;font-weight: bold;display: inline-block;line-height: 1.2em;}#sk-container-id-8 div.sk-label-container {text-align: center;}#sk-container-id-8 div.sk-container {/* jupyter's `normalize.less` sets `[hidden] { display: none; }` but bootstrap.min.css set `[hidden] { display: none !important; }` so we also need the `!important` here to be able to override the default hidden behavior on the sphinx rendered scikit-learn.org. See: https://github.com/scikit-learn/scikit-learn/issues/21755 */display: inline-block !important;position: relative;}#sk-container-id-8 div.sk-text-repr-fallback {display: none;}</style><div id=\"sk-container-id-8\" class=\"sk-top-container\"><div class=\"sk-text-repr-fallback\"><pre>GridSearchCV(cv=3, estimator=KNeighborsClassifier(),\n",
       "             param_grid={&#x27;n_neighbors&#x27;: range(10, 61, 10)},\n",
       "             scoring=&#x27;precision&#x27;)</pre><b>In a Jupyter environment, please rerun this cell to show the HTML representation or trust the notebook. <br />On GitHub, the HTML representation is unable to render, please try loading this page with nbviewer.org.</b></div><div class=\"sk-container\" hidden><div class=\"sk-item sk-dashed-wrapped\"><div class=\"sk-label-container\"><div class=\"sk-label sk-toggleable\"><input class=\"sk-toggleable__control sk-hidden--visually\" id=\"sk-estimator-id-20\" type=\"checkbox\" ><label for=\"sk-estimator-id-20\" class=\"sk-toggleable__label sk-toggleable__label-arrow\">GridSearchCV</label><div class=\"sk-toggleable__content\"><pre>GridSearchCV(cv=3, estimator=KNeighborsClassifier(),\n",
       "             param_grid={&#x27;n_neighbors&#x27;: range(10, 61, 10)},\n",
       "             scoring=&#x27;precision&#x27;)</pre></div></div></div><div class=\"sk-parallel\"><div class=\"sk-parallel-item\"><div class=\"sk-item\"><div class=\"sk-label-container\"><div class=\"sk-label sk-toggleable\"><input class=\"sk-toggleable__control sk-hidden--visually\" id=\"sk-estimator-id-21\" type=\"checkbox\" ><label for=\"sk-estimator-id-21\" class=\"sk-toggleable__label sk-toggleable__label-arrow\">estimator: KNeighborsClassifier</label><div class=\"sk-toggleable__content\"><pre>KNeighborsClassifier()</pre></div></div></div><div class=\"sk-serial\"><div class=\"sk-item\"><div class=\"sk-estimator sk-toggleable\"><input class=\"sk-toggleable__control sk-hidden--visually\" id=\"sk-estimator-id-22\" type=\"checkbox\" ><label for=\"sk-estimator-id-22\" class=\"sk-toggleable__label sk-toggleable__label-arrow\">KNeighborsClassifier</label><div class=\"sk-toggleable__content\"><pre>KNeighborsClassifier()</pre></div></div></div></div></div></div></div></div></div></div>"
      ],
      "text/plain": [
       "GridSearchCV(cv=3, estimator=KNeighborsClassifier(),\n",
       "             param_grid={'n_neighbors': range(10, 61, 10)},\n",
       "             scoring='precision')"
      ]
     },
     "execution_count": 40,
     "metadata": {},
     "output_type": "execute_result"
    }
   ],
   "source": [
    "from sklearn.model_selection import GridSearchCV\n",
    "\n",
    "knn_grid = GridSearchCV(KNeighborsClassifier(), \n",
    "                        param_grid={'n_neighbors': range(10, 61, 10)}, \n",
    "                        scoring='precision',\n",
    "                        cv=3)\n",
    "knn_grid.fit(x_train, y_train)"
   ]
  },
  {
   "cell_type": "code",
   "execution_count": 41,
   "id": "b90ff311-4102-4f24-a83a-fffbaa09a911",
   "metadata": {},
   "outputs": [
    {
     "name": "stdout",
     "output_type": "stream",
     "text": [
      "best params: {'n_neighbors': 60}\n",
      "best score: 0.9308787636810716\n",
      "kNN precision with best params: 0.9334763948497854\n",
      "kNN recall with best params: 0.45077720207253885\n",
      "kNN roc_auc with best params: 0.717307266312599\n"
     ]
    }
   ],
   "source": [
    "print(f'best params: {knn_grid.best_params_}')\n",
    "print(f'best score: {knn_grid.best_score_}')\n",
    "\n",
    "knn.set_params(**knn_grid.best_params_).fit(x_train, y_train)    #эквивалентно knn_grid.fit(x_train y_train)\n",
    "\n",
    "y_pred_knn_best = knn.predict(x_test)                            #эквивалентно knn_grid.predict(x_test)\n",
    "knn_precision_best = precision_score(y_test, y_pred_knn_best)\n",
    "knn_recall_best = recall_score(y_test, y_pred_knn_best)\n",
    "knn_roc_auc_best = roc_auc_score(y_test, y_pred_knn_best)\n",
    "print(f'kNN precision with best params: {knn_precision_best}')\n",
    "print(f'kNN recall with best params: {knn_recall_best}')\n",
    "print(f'kNN roc_auc with best params: {knn_roc_auc_best}')\n",
    "# print('-------------------------------------------------')\n",
    "# print(classification_report(y_test, y_pred_knn_best))"
   ]
  },
  {
   "cell_type": "markdown",
   "id": "d75a7540-5482-42d7-b0d4-0c9f1b71b97e",
   "metadata": {
    "tags": []
   },
   "source": [
    "## _Logistic Regression_"
   ]
  },
  {
   "cell_type": "code",
   "execution_count": 54,
   "id": "542a9743-be39-46f2-8c29-e77620fd3d4a",
   "metadata": {
    "collapsed": true,
    "jupyter": {
     "outputs_hidden": true
    },
    "tags": []
   },
   "outputs": [
    {
     "data": {
      "text/html": [
       "<style>#sk-container-id-12 {color: black;background-color: white;}#sk-container-id-12 pre{padding: 0;}#sk-container-id-12 div.sk-toggleable {background-color: white;}#sk-container-id-12 label.sk-toggleable__label {cursor: pointer;display: block;width: 100%;margin-bottom: 0;padding: 0.3em;box-sizing: border-box;text-align: center;}#sk-container-id-12 label.sk-toggleable__label-arrow:before {content: \"▸\";float: left;margin-right: 0.25em;color: #696969;}#sk-container-id-12 label.sk-toggleable__label-arrow:hover:before {color: black;}#sk-container-id-12 div.sk-estimator:hover label.sk-toggleable__label-arrow:before {color: black;}#sk-container-id-12 div.sk-toggleable__content {max-height: 0;max-width: 0;overflow: hidden;text-align: left;background-color: #f0f8ff;}#sk-container-id-12 div.sk-toggleable__content pre {margin: 0.2em;color: black;border-radius: 0.25em;background-color: #f0f8ff;}#sk-container-id-12 input.sk-toggleable__control:checked~div.sk-toggleable__content {max-height: 200px;max-width: 100%;overflow: auto;}#sk-container-id-12 input.sk-toggleable__control:checked~label.sk-toggleable__label-arrow:before {content: \"▾\";}#sk-container-id-12 div.sk-estimator input.sk-toggleable__control:checked~label.sk-toggleable__label {background-color: #d4ebff;}#sk-container-id-12 div.sk-label input.sk-toggleable__control:checked~label.sk-toggleable__label {background-color: #d4ebff;}#sk-container-id-12 input.sk-hidden--visually {border: 0;clip: rect(1px 1px 1px 1px);clip: rect(1px, 1px, 1px, 1px);height: 1px;margin: -1px;overflow: hidden;padding: 0;position: absolute;width: 1px;}#sk-container-id-12 div.sk-estimator {font-family: monospace;background-color: #f0f8ff;border: 1px dotted black;border-radius: 0.25em;box-sizing: border-box;margin-bottom: 0.5em;}#sk-container-id-12 div.sk-estimator:hover {background-color: #d4ebff;}#sk-container-id-12 div.sk-parallel-item::after {content: \"\";width: 100%;border-bottom: 1px solid gray;flex-grow: 1;}#sk-container-id-12 div.sk-label:hover label.sk-toggleable__label {background-color: #d4ebff;}#sk-container-id-12 div.sk-serial::before {content: \"\";position: absolute;border-left: 1px solid gray;box-sizing: border-box;top: 0;bottom: 0;left: 50%;z-index: 0;}#sk-container-id-12 div.sk-serial {display: flex;flex-direction: column;align-items: center;background-color: white;padding-right: 0.2em;padding-left: 0.2em;position: relative;}#sk-container-id-12 div.sk-item {position: relative;z-index: 1;}#sk-container-id-12 div.sk-parallel {display: flex;align-items: stretch;justify-content: center;background-color: white;position: relative;}#sk-container-id-12 div.sk-item::before, #sk-container-id-12 div.sk-parallel-item::before {content: \"\";position: absolute;border-left: 1px solid gray;box-sizing: border-box;top: 0;bottom: 0;left: 50%;z-index: -1;}#sk-container-id-12 div.sk-parallel-item {display: flex;flex-direction: column;z-index: 1;position: relative;background-color: white;}#sk-container-id-12 div.sk-parallel-item:first-child::after {align-self: flex-end;width: 50%;}#sk-container-id-12 div.sk-parallel-item:last-child::after {align-self: flex-start;width: 50%;}#sk-container-id-12 div.sk-parallel-item:only-child::after {width: 0;}#sk-container-id-12 div.sk-dashed-wrapped {border: 1px dashed gray;margin: 0 0.4em 0.5em 0.4em;box-sizing: border-box;padding-bottom: 0.4em;background-color: white;}#sk-container-id-12 div.sk-label label {font-family: monospace;font-weight: bold;display: inline-block;line-height: 1.2em;}#sk-container-id-12 div.sk-label-container {text-align: center;}#sk-container-id-12 div.sk-container {/* jupyter's `normalize.less` sets `[hidden] { display: none; }` but bootstrap.min.css set `[hidden] { display: none !important; }` so we also need the `!important` here to be able to override the default hidden behavior on the sphinx rendered scikit-learn.org. See: https://github.com/scikit-learn/scikit-learn/issues/21755 */display: inline-block !important;position: relative;}#sk-container-id-12 div.sk-text-repr-fallback {display: none;}</style><div id=\"sk-container-id-12\" class=\"sk-top-container\"><div class=\"sk-text-repr-fallback\"><pre>LogisticRegressionCV(Cs=array([0.1       , 0.10481131, 0.10985411, 0.11513954, 0.12067926,\n",
       "       0.12648552, 0.13257114, 0.13894955, 0.14563485, 0.1526418 ,\n",
       "       0.15998587, 0.16768329, 0.17575106, 0.184207  , 0.19306977,\n",
       "       0.20235896, 0.21209509, 0.22229965, 0.23299518, 0.24420531,\n",
       "       0.25595479, 0.26826958, 0.28117687, 0.29470517, 0.30888436,\n",
       "       0.32374575, 0.33932218, 0.35564803, 0.37275937, 0.39069399,\n",
       "       0.40949151, 0.42919343, 0.44984327, 0.47148664, 0.49417134,\n",
       "       0.51794747, 0.54286754, 0.5689866 , 0.59636233, 0.62505519,\n",
       "       0.65512856, 0.68664885, 0.71968567, 0.75431201, 0.79060432,\n",
       "       0.82864277, 0.86851137, 0.91029818, 0.95409548, 1.        ]),\n",
       "                     cv=3, max_iter=200, random_state=0, scoring=&#x27;precision&#x27;)</pre><b>In a Jupyter environment, please rerun this cell to show the HTML representation or trust the notebook. <br />On GitHub, the HTML representation is unable to render, please try loading this page with nbviewer.org.</b></div><div class=\"sk-container\" hidden><div class=\"sk-item\"><div class=\"sk-estimator sk-toggleable\"><input class=\"sk-toggleable__control sk-hidden--visually\" id=\"sk-estimator-id-26\" type=\"checkbox\" checked><label for=\"sk-estimator-id-26\" class=\"sk-toggleable__label sk-toggleable__label-arrow\">LogisticRegressionCV</label><div class=\"sk-toggleable__content\"><pre>LogisticRegressionCV(Cs=array([0.1       , 0.10481131, 0.10985411, 0.11513954, 0.12067926,\n",
       "       0.12648552, 0.13257114, 0.13894955, 0.14563485, 0.1526418 ,\n",
       "       0.15998587, 0.16768329, 0.17575106, 0.184207  , 0.19306977,\n",
       "       0.20235896, 0.21209509, 0.22229965, 0.23299518, 0.24420531,\n",
       "       0.25595479, 0.26826958, 0.28117687, 0.29470517, 0.30888436,\n",
       "       0.32374575, 0.33932218, 0.35564803, 0.37275937, 0.39069399,\n",
       "       0.40949151, 0.42919343, 0.44984327, 0.47148664, 0.49417134,\n",
       "       0.51794747, 0.54286754, 0.5689866 , 0.59636233, 0.62505519,\n",
       "       0.65512856, 0.68664885, 0.71968567, 0.75431201, 0.79060432,\n",
       "       0.82864277, 0.86851137, 0.91029818, 0.95409548, 1.        ]),\n",
       "                     cv=3, max_iter=200, random_state=0, scoring=&#x27;precision&#x27;)</pre></div></div></div></div></div>"
      ],
      "text/plain": [
       "LogisticRegressionCV(Cs=array([0.1       , 0.10481131, 0.10985411, 0.11513954, 0.12067926,\n",
       "       0.12648552, 0.13257114, 0.13894955, 0.14563485, 0.1526418 ,\n",
       "       0.15998587, 0.16768329, 0.17575106, 0.184207  , 0.19306977,\n",
       "       0.20235896, 0.21209509, 0.22229965, 0.23299518, 0.24420531,\n",
       "       0.25595479, 0.26826958, 0.28117687, 0.29470517, 0.30888436,\n",
       "       0.32374575, 0.33932218, 0.35564803, 0.37275937, 0.39069399,\n",
       "       0.40949151, 0.42919343, 0.44984327, 0.47148664, 0.49417134,\n",
       "       0.51794747, 0.54286754, 0.5689866 , 0.59636233, 0.62505519,\n",
       "       0.65512856, 0.68664885, 0.71968567, 0.75431201, 0.79060432,\n",
       "       0.82864277, 0.86851137, 0.91029818, 0.95409548, 1.        ]),\n",
       "                     cv=3, max_iter=200, random_state=0, scoring='precision')"
      ]
     },
     "execution_count": 54,
     "metadata": {},
     "output_type": "execute_result"
    }
   ],
   "source": [
    "from sklearn.linear_model import LogisticRegressionCV\n",
    "\n",
    "cs = np.logspace(-1, 0, 50)\n",
    "log_reg_cv = LogisticRegressionCV(Cs=cs, \n",
    "                                  cv=3, \n",
    "                                  verbose=0, \n",
    "                                  max_iter=200,\n",
    "                                  scoring='precision',\n",
    "                                  random_state=0)\n",
    "log_reg_cv.fit(x_train, y_train)"
   ]
  },
  {
   "cell_type": "code",
   "execution_count": 55,
   "id": "b24f9436-bbf6-4f29-99fd-4732902b66b9",
   "metadata": {
    "tags": []
   },
   "outputs": [
    {
     "name": "stdout",
     "output_type": "stream",
     "text": [
      "best C: [0.10481131]\n",
      "LR precision with best params: 0.9915254237288136\n",
      "LR recall with best params: 0.12124352331606218\n",
      "LR roc_auc with best params: 0.5603610734411385\n"
     ]
    }
   ],
   "source": [
    "print(f'best C: {log_reg_cv.C_}')\n",
    "\n",
    "y_pred_lr_best = log_reg_cv.predict(x_test)\n",
    "\n",
    "lr_precision_best = precision_score(y_test, y_pred_lr_best)\n",
    "lr_recall_best = recall_score(y_test, y_pred_lr_best)\n",
    "lr_roc_auc_best = roc_auc_score(y_test, y_pred_lr_best)\n",
    "print(f'LR precision with best params: {lr_precision_best}')\n",
    "print(f'LR recall with best params: {lr_recall_best}')\n",
    "print(f'LR roc_auc with best params: {lr_roc_auc_best}')\n",
    "# print('-------------------------------------------------')\n",
    "# print(classification_report(y_test, y_pred_lr_best))"
   ]
  },
  {
   "cell_type": "code",
   "execution_count": 77,
   "id": "29f71ecf-c7d6-448a-88ab-714a532fa3c7",
   "metadata": {},
   "outputs": [],
   "source": [
    "from sklearn.metrics import precision_recall_curve\n",
    "\n",
    "pr, rc, th = precision_recall_curve(y_true=y_test, \n",
    "                                    probas_pred=log_reg_cv.predict_proba(x_test)[:,1])"
   ]
  },
  {
   "cell_type": "code",
   "execution_count": 78,
   "id": "a9062777-91f4-46b9-a3f5-b7056eaf1d0e",
   "metadata": {},
   "outputs": [
    {
     "data": {
      "text/plain": [
       "[<matplotlib.lines.Line2D at 0x214e67c38e0>]"
      ]
     },
     "execution_count": 78,
     "metadata": {},
     "output_type": "execute_result"
    },
    {
     "data": {
      "image/png": "[encoded data removed]",
      "text/plain": [
       "<Figure size 400x300 with 1 Axes>"
      ]
     },
     "metadata": {},
     "output_type": "display_data"
    }
   ],
   "source": [
    "from matplotlib import pyplot as plt\n",
    "%matplotlib inline\n",
    "\n",
    "plt.figure(figsize=(4, 3))\n",
    "plt.plot(rc, pr)"
   ]
  },
  {
   "cell_type": "code",
   "execution_count": 79,
   "id": "62212130-0d39-47b1-b4b1-bd2ac12c0cd5",
   "metadata": {},
   "outputs": [
    {
     "data": {
      "text/plain": [
       "(array([2464, 2471, 2472, 2473, 2474, 2475, 2476, 2477, 2478, 2479, 2480,\n",
       "        2481, 2482, 2483, 2484, 2485, 2486, 2487, 2488, 2489, 2490, 2491,\n",
       "        2492, 2493, 2494, 2495, 2496, 2497, 2498, 2499, 2500, 2501, 2502,\n",
       "        2503, 2504, 2545, 2546, 2547, 2548, 2549, 2550, 2551, 2552, 2553,\n",
       "        2554, 2555, 2556, 2557, 2558, 2559, 2560, 2561, 2562, 2563, 2564,\n",
       "        2565, 2566, 2567, 2568, 2569, 2570, 2571, 2572, 2573, 2574, 2575,\n",
       "        2576, 2577, 2578, 2579, 2580, 2581, 2582, 2583, 2584, 2585, 2586,\n",
       "        2587, 2588, 2589, 2590, 2591, 2592, 2593, 2594, 2595, 2596, 2597,\n",
       "        2598, 2599, 2600, 2601, 2602, 2603, 2604, 2605, 2606, 2607, 2608,\n",
       "        2609, 2610, 2611, 2612, 2613, 2614, 2615, 2616, 2617, 2618, 2619,\n",
       "        2620, 2621, 2622, 2623, 2624, 2625, 2626, 2627, 2628, 2629, 2630,\n",
       "        2631, 2632, 2633, 2634, 2635, 2636, 2637, 2638, 2639, 2640, 2641,\n",
       "        2642, 2643, 2644, 2645, 2646, 2647, 2648, 2649, 2650, 2651, 2652,\n",
       "        2653, 2654, 2655, 2656, 2657, 2658, 2659, 2660, 2661, 2662, 2663,\n",
       "        2664, 2665, 2666, 2667, 2668, 2669, 2670, 2671, 2672, 2673, 2674,\n",
       "        2675, 2676, 2677, 2678, 2679, 2680, 2681, 2682, 2683, 2684, 2685,\n",
       "        2686, 2687, 2688, 2689, 2690, 2691, 2692, 2693, 2694, 2695, 2696,\n",
       "        2697, 2698, 2699, 2700, 2701, 2702, 2703, 2704, 2705, 2706, 2707,\n",
       "        2708, 2709, 2710, 2711, 2712, 2713, 2714, 2715, 2716, 2717, 2718,\n",
       "        2719, 2720, 2721, 2722, 2723, 2724, 2725, 2726, 2727, 2728, 2729,\n",
       "        2730, 2731, 2732, 2733, 2734, 2735, 2736, 2737, 2738, 2739, 2740,\n",
       "        2741, 2742, 2743, 2744, 2745, 2746, 2747, 2748, 2749, 2750, 2751,\n",
       "        2752, 2753, 2754, 2755, 2756, 2757, 2758, 2759, 2760, 2761, 2762,\n",
       "        2763, 2764, 2765, 2766, 2767, 2768, 2769, 2770, 2771, 2772, 2773,\n",
       "        2774, 2775, 2776, 2777, 2778, 2779, 2780, 2781, 2782, 2783, 2784,\n",
       "        2785, 2786, 2787, 2788, 2789, 2790, 2791, 2792, 2793, 2794, 2795,\n",
       "        2796, 2797, 2798, 2799, 2800, 2801, 2802, 2803, 2804, 2805, 2806,\n",
       "        2807, 2808, 2809, 2810, 2811, 2812, 2813, 2814, 2815, 2816, 2817,\n",
       "        2818, 2819, 2820, 2821, 2822, 2823, 2824, 2825, 2826, 2827, 2828,\n",
       "        2829, 2830, 2831, 2832, 2833, 2834, 2835, 2836, 2837, 2838, 2839,\n",
       "        2840, 2841, 2842, 2843, 2844, 2845, 2846, 2847, 2848, 2849, 2850,\n",
       "        2851, 2852, 2853, 2854, 2855, 2856, 2857, 2858, 2859, 2860, 2861,\n",
       "        2862, 2863], dtype=int64),)"
      ]
     },
     "execution_count": 79,
     "metadata": {},
     "output_type": "execute_result"
    }
   ],
   "source": [
    "np.where(pr > 0.95)"
   ]
  },
  {
   "cell_type": "code",
   "execution_count": 86,
   "id": "e12b693b-6dbb-4c17-84ad-1ae25fcdd29e",
   "metadata": {
    "tags": []
   },
   "outputs": [
    {
     "name": "stdout",
     "output_type": "stream",
     "text": [
      "0.4188884602325338 0.7890727270129213\n"
     ]
    }
   ],
   "source": [
    "print(th[2464], th[2862])"
   ]
  },
  {
   "cell_type": "code",
   "execution_count": null,
   "id": "acbe142c-db4b-4568-aed5-85672c77418d",
   "metadata": {},
   "outputs": [],
   "source": []
  },
  {
   "cell_type": "code",
   "execution_count": null,
   "id": "a4dc5ef8-94ac-4339-aa5f-405505b1397a",
   "metadata": {},
   "outputs": [],
   "source": []
  },
  {
   "cell_type": "code",
   "execution_count": null,
   "id": "a83a8ef5-1bf9-429a-9f7d-c82fc0b25d8c",
   "metadata": {},
   "outputs": [],
   "source": []
  },
  {
   "cell_type": "code",
   "execution_count": null,
   "id": "4b83de58-47b4-46cc-9a14-3072c700159a",
   "metadata": {},
   "outputs": [],
   "source": []
  },
  {
   "cell_type": "markdown",
   "id": "3b6bd966-25fb-4a0c-a6b2-926fa1fb45a3",
   "metadata": {
    "tags": []
   },
   "source": [
    "## _Decision Tree_"
   ]
  },
  {
   "cell_type": "code",
   "execution_count": null,
   "id": "26d0c07b-872d-49c9-9d1a-b25f937c3fda",
   "metadata": {},
   "outputs": [],
   "source": []
  },
  {
   "cell_type": "code",
   "execution_count": null,
   "id": "fc48efab-3b4b-409a-ab71-e1036e5921e3",
   "metadata": {},
   "outputs": [],
   "source": []
  },
  {
   "cell_type": "code",
   "execution_count": null,
   "id": "33537885-36da-4a80-81a7-81fac0d5ff5a",
   "metadata": {},
   "outputs": [],
   "source": []
  },
  {
   "cell_type": "markdown",
   "id": "259f8192-837b-4771-bb13-04bf15fa58fb",
   "metadata": {},
   "source": [
    "## _Gradient Descent_"
   ]
  },
  {
   "cell_type": "code",
   "execution_count": null,
   "id": "14d2f062-d8c3-42a8-9823-4a7015aba716",
   "metadata": {},
   "outputs": [],
   "source": []
  },
  {
   "cell_type": "code",
   "execution_count": null,
   "id": "df3c1f5b-d360-428a-a4a7-01550c00cbd3",
   "metadata": {},
   "outputs": [],
   "source": []
  },
  {
   "cell_type": "code",
   "execution_count": null,
   "id": "2ee2f346-79e4-4dc7-bef8-760accb77046",
   "metadata": {},
   "outputs": [],
   "source": []
  },
  {
   "cell_type": "markdown",
   "id": "a147360d-07b5-4b23-a9cc-3416c35bdefb",
   "metadata": {},
   "source": [
    "## _Random Forest_"
   ]
  },
  {
   "cell_type": "code",
   "execution_count": null,
   "id": "c1807539-6356-4781-a6e8-506414b437e8",
   "metadata": {},
   "outputs": [],
   "source": []
  },
  {
   "cell_type": "code",
   "execution_count": null,
   "id": "271829f2-ea60-4654-8043-0e1f69a1c0b8",
   "metadata": {},
   "outputs": [],
   "source": []
  },
  {
   "cell_type": "code",
   "execution_count": null,
   "id": "c59ef79f-aa4c-44cc-9abd-63d0cbbf7690",
   "metadata": {},
   "outputs": [],
   "source": []
  }
 ],
 "metadata": {
  "kernelspec": {
   "display_name": "Python 3 (ipykernel)",
   "language": "python",
   "name": "python3"
  },
  "language_info": {
   "codemirror_mode": {
    "name": "ipython",
    "version": 3
   },
   "file_extension": ".py",
   "mimetype": "text/x-python",
   "name": "python",
   "nbconvert_exporter": "python",
   "pygments_lexer": "ipython3",
   "version": "3.10.9"
  }
 },
 "nbformat": 4,
 "nbformat_minor": 5
}
