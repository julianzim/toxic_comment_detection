{
 "cells": [
  {
   "cell_type": "markdown",
   "id": "e4b1025a-425c-41da-aff0-c8b3e7ff4509",
   "metadata": {
    "tags": []
   },
   "source": [
    "# <center>_Toxic Comment Detection_</center>"
   ]
  },
  {
   "cell_type": "markdown",
   "id": "393f20c1-47e9-4657-86c0-88041715e540",
   "metadata": {
    "tags": []
   },
   "source": [
    "## ___Loading Data___"
   ]
  },
  {
   "cell_type": "code",
   "execution_count": 1,
   "id": "ad06e03e-d49d-4859-af4e-9b7ddffb604b",
   "metadata": {
    "tags": []
   },
   "outputs": [],
   "source": [
    "import pandas as pd\n",
    "import numpy as np"
   ]
  },
  {
   "cell_type": "code",
   "execution_count": 2,
   "id": "bcebad79-0107-41f6-ac90-1c2e8c41858c",
   "metadata": {
    "tags": []
   },
   "outputs": [],
   "source": [
    "df = pd.read_csv(\"labeled.csv\", sep=\",\")\n",
    "df['toxic'] = df['toxic'].apply(int)"
   ]
  },
  {
   "cell_type": "markdown",
   "id": "06902601-3e0b-44ae-b217-3447d73d1ec8",
   "metadata": {},
   "source": [
    "___"
   ]
  },
  {
   "cell_type": "markdown",
   "id": "f7163cf5-02a2-432d-852c-3c3cb562bc3a",
   "metadata": {
    "tags": []
   },
   "source": [
    "## ___EDA___"
   ]
  },
  {
   "cell_type": "code",
   "execution_count": 3,
   "id": "57617c75-38a9-47b6-9fac-f0b701eef4d8",
   "metadata": {
    "tags": []
   },
   "outputs": [
    {
     "data": {
      "text/plain": [
       "(14412, 2)"
      ]
     },
     "execution_count": 3,
     "metadata": {},
     "output_type": "execute_result"
    }
   ],
   "source": [
    "df.shape"
   ]
  },
  {
   "cell_type": "code",
   "execution_count": 4,
   "id": "fb9f4e54-9c97-43bd-826d-4d5fe34ceb05",
   "metadata": {
    "tags": []
   },
   "outputs": [
    {
     "data": {
      "text/plain": [
       "0    9586\n",
       "1    4826\n",
       "Name: toxic, dtype: int64"
      ]
     },
     "execution_count": 4,
     "metadata": {},
     "output_type": "execute_result"
    }
   ],
   "source": [
    "df['toxic'].value_counts()"
   ]
  },
  {
   "cell_type": "code",
   "execution_count": 5,
   "id": "77cd272b-4d0d-45d2-b44c-44a6c823d8a8",
   "metadata": {
    "tags": []
   },
   "outputs": [
    {
     "data": {
      "text/plain": [
       "0                     Верблюдов-то за что? Дебилы, бл...\\n\n",
       "1        Хохлы, это отдушина затюканого россиянина, мол...\n",
       "2                                Собаке - собачья смерть\\n\n",
       "3        Страницу обнови, дебил. Это тоже не оскорблени...\n",
       "4        тебя не убедил 6-страничный пдф в том, что Скр...\n",
       "                               ...                        \n",
       "14404    ЖЕНЩИНА это ВЕНЕЦ ТВОРЕНИЯ, помните это ваньки...\n",
       "14405    Сейчас все авиакомпании мира вместе со специал...\n",
       "14407    Вонючий совковый скот прибежал и ноет. А вот и...\n",
       "14408    А кого любить? Гоблина тупорылого что-ли? Или ...\n",
       "14410    КРЫМОТРЕД НАРУШАЕТ ПРАВИЛА РАЗДЕЛА Т.К В НЕМ Н...\n",
       "Name: comment, Length: 4826, dtype: object"
      ]
     },
     "execution_count": 5,
     "metadata": {},
     "output_type": "execute_result"
    }
   ],
   "source": [
    "df.query('toxic == 1')['comment']"
   ]
  },
  {
   "cell_type": "code",
   "execution_count": 6,
   "id": "c30eccdb-a995-4d23-83cc-e3cb219a301c",
   "metadata": {
    "tags": []
   },
   "outputs": [
    {
     "data": {
      "text/plain": [
       "6        В шапке были ссылки на инфу по текущему фильму...\n",
       "12       Почитайте посты у этого автора,может найдете ч...\n",
       "17       Про графику было обидно) я так то проходил все...\n",
       "28       https: pp.userapi.com c848520 v848520411 11627...\n",
       "35       Возьмём как пример Россию, западноевропейские ...\n",
       "                               ...                        \n",
       "14392    ТАСС, 21 марта. Премьер-министр Новой Зеландии...\n",
       "14399    65 А чего так мало? Вот у гражданина был рейти...\n",
       "14406    Потому что запад прошел эту хуйню еще пару сот...\n",
       "14409    Посмотрел Утомленных солнцем 2. И оказалось, ч...\n",
       "14411    До сих пор пересматриваю его видео. Орамбо кст...\n",
       "Name: comment, Length: 9586, dtype: object"
      ]
     },
     "execution_count": 6,
     "metadata": {},
     "output_type": "execute_result"
    }
   ],
   "source": [
    "df.query('toxic == 0')['comment']"
   ]
  },
  {
   "cell_type": "code",
   "execution_count": 7,
   "id": "9e76d32b-f7f1-4828-8b10-490233bf7ec7",
   "metadata": {
    "tags": []
   },
   "outputs": [],
   "source": [
    "import nltk\n",
    "import string\n",
    "from nltk.corpus import stopwords\n",
    "from nltk.tokenize import word_tokenize\n",
    "from nltk.stem import SnowballStemmer\n",
    "# nltk.download('punkt')\n",
    "# nltk.download('stopwords')\n",
    "\n",
    "stemmer = SnowballStemmer(language='russian')\n",
    "russian_stop_words = stopwords.words('russian')\n",
    "\n",
    "def tokenize_sentence(sentence: str, remove_stop_words: bool=True):\n",
    "    \"\"\"Преобразует предложения в токены.\n",
    "    По шагам:\n",
    "    1) Токенизация - разбиение текста на отдельные слова и знаки пунктуации\n",
    "    2) Удаляем знаки пунктуации\n",
    "    3) Удаляем стоп-слова (часто используемые, не несущие смысловой нагрузки)\n",
    "    4) Стемминг (stem - корень) - удаление окончаний и приведение к нижнему регистру\n",
    "    \"\"\"\n",
    "    tokens = word_tokenize(sentence, language='russian')\n",
    "    tokens = [i for i in tokens if i not in string.punctuation]\n",
    "    if remove_stop_words:\n",
    "        tokens = [i for i in tokens if i not in russian_stop_words]\n",
    "    tokens = [stemmer.stem(i) for i in tokens]\n",
    "    return tokens"
   ]
  },
  {
   "cell_type": "code",
   "execution_count": 8,
   "id": "6c1dba93-1ac1-4dc3-aa1f-6687cb5a21d7",
   "metadata": {
    "tags": []
   },
   "outputs": [
    {
     "data": {
      "text/plain": [
       "'Хохлы, это отдушина затюканого россиянина, мол, вон, а у хохлов еще хуже. Если бы хохлов не было, кисель их бы придумал.\\n'"
      ]
     },
     "execution_count": 8,
     "metadata": {},
     "output_type": "execute_result"
    }
   ],
   "source": [
    "example = df.loc[1]['comment']\n",
    "example"
   ]
  },
  {
   "cell_type": "code",
   "execution_count": 9,
   "id": "b830219a-be05-452a-b1f9-01ef5da3cfff",
   "metadata": {
    "tags": []
   },
   "outputs": [
    {
     "data": {
      "text/plain": [
       "['хохл',\n",
       " 'эт',\n",
       " 'отдушин',\n",
       " 'затюкан',\n",
       " 'россиянин',\n",
       " 'мол',\n",
       " 'вон',\n",
       " 'хохл',\n",
       " 'хуж',\n",
       " 'есл',\n",
       " 'хохл',\n",
       " 'кисел',\n",
       " 'придума']"
      ]
     },
     "execution_count": 9,
     "metadata": {},
     "output_type": "execute_result"
    }
   ],
   "source": [
    "tokenize_sentence(example)"
   ]
  },
  {
   "cell_type": "code",
   "execution_count": 10,
   "id": "251f692f-d55a-4419-a156-d109254ac18a",
   "metadata": {
    "tags": []
   },
   "outputs": [],
   "source": [
    "from sklearn.feature_extraction.text import TfidfVectorizer\n",
    "\n",
    "vectorizer = TfidfVectorizer(tokenizer=lambda x: tokenize_sentence(x, remove_stop_words=True), \n",
    "                             token_pattern=None)"
   ]
  },
  {
   "cell_type": "code",
   "execution_count": 48,
   "id": "17e671dd-dd76-4c53-81df-dea08f148739",
   "metadata": {
    "tags": []
   },
   "outputs": [
    {
     "name": "stdout",
     "output_type": "stream",
     "text": [
      "CPU times: total: 17 s\n",
      "Wall time: 17 s\n"
     ]
    }
   ],
   "source": [
    "%%time\n",
    "\n",
    "from sklearn.model_selection import train_test_split\n",
    "\n",
    "features, labels = df['comment'], df['toxic']\n",
    "features_vect = vectorizer.fit_transform(features)\n",
    "x_train, x_test, y_train, y_test = train_test_split(features_vect, \n",
    "                                                    labels, \n",
    "                                                    test_size=0.2, \n",
    "                                                    random_state=0)"
   ]
  },
  {
   "cell_type": "markdown",
   "id": "9c1dc382-9408-46c1-b43a-3ba6854cda64",
   "metadata": {
    "tags": []
   },
   "source": [
    "___"
   ]
  },
  {
   "cell_type": "markdown",
   "id": "03885aaf-0607-4a8b-be62-e54968e8279f",
   "metadata": {
    "tags": []
   },
   "source": [
    "## ___Testing Different Models___"
   ]
  },
  {
   "cell_type": "code",
   "execution_count": 12,
   "id": "bdad6dd5-e54c-45ea-b695-bb3cd21096c8",
   "metadata": {
    "tags": []
   },
   "outputs": [],
   "source": [
    "from sklearn.neighbors import KNeighborsClassifier\n",
    "from sklearn.tree import DecisionTreeClassifier\n",
    "from sklearn.linear_model import LogisticRegression, SGDClassifier\n",
    "from sklearn.metrics import recall_score, precision_score, roc_auc_score, f1_score\n",
    "from sklearn.tree import DecisionTreeClassifier\n",
    "from sklearn.svm import SVC\n",
    "from xgboost import XGBClassifier"
   ]
  },
  {
   "cell_type": "code",
   "execution_count": 13,
   "id": "73a94cb2-caa3-4c57-8ac6-c9b6f11563e5",
   "metadata": {
    "tags": []
   },
   "outputs": [],
   "source": [
    "def models_report(models, x_train, x_test, y_train, y_test):\n",
    "    report = pd.DataFrame()\n",
    "    #сюда можно вставить разделение выборки \n",
    "    for model in models:\n",
    "        clf = models[model].fit(x_train, y_train)\n",
    "        y_pred = clf.predict(x_test)\n",
    "        report.loc[model, 'Precision'] = precision_score(y_test, y_pred).round(4)\n",
    "        report.loc[model, 'Recall'] = recall_score(y_test, y_pred).round(4)\n",
    "        report.loc[model, 'F1-score'] = f1_score(y_test, y_pred).round(4)\n",
    "        report.loc[model, 'ROC-AUC'] = roc_auc_score(y_test, y_pred).round(4)\n",
    "    return report"
   ]
  },
  {
   "cell_type": "code",
   "execution_count": 14,
   "id": "ca5c259d-0891-490f-8cea-8908ae474550",
   "metadata": {
    "tags": []
   },
   "outputs": [],
   "source": [
    "models = {'kNN': KNeighborsClassifier(),\n",
    "          'LogisticRegression': LogisticRegression(), \n",
    "          'SGDClassifier': SGDClassifier(loss='log_loss'), \n",
    "          'SVC': SVC(), \n",
    "          'XGBClassifier': XGBClassifier(), \n",
    "          'DecisionTree': DecisionTreeClassifier()}"
   ]
  },
  {
   "cell_type": "code",
   "execution_count": 15,
   "id": "160daa7d-251f-4bb3-a55b-fb545239df1d",
   "metadata": {
    "tags": []
   },
   "outputs": [
    {
     "name": "stdout",
     "output_type": "stream",
     "text": [
      "CPU times: total: 1min 35s\n",
      "Wall time: 1min 17s\n"
     ]
    },
    {
     "data": {
      "text/html": [
       "<div>\n",
       "<style scoped>\n",
       "    .dataframe tbody tr th:only-of-type {\n",
       "        vertical-align: middle;\n",
       "    }\n",
       "\n",
       "    .dataframe tbody tr th {\n",
       "        vertical-align: top;\n",
       "    }\n",
       "\n",
       "    .dataframe thead th {\n",
       "        text-align: right;\n",
       "    }\n",
       "</style>\n",
       "<table border=\"1\" class=\"dataframe\">\n",
       "  <thead>\n",
       "    <tr style=\"text-align: right;\">\n",
       "      <th></th>\n",
       "      <th>Precision</th>\n",
       "      <th>Recall</th>\n",
       "      <th>F1-score</th>\n",
       "      <th>ROC-AUC</th>\n",
       "    </tr>\n",
       "  </thead>\n",
       "  <tbody>\n",
       "    <tr>\n",
       "      <th>kNN</th>\n",
       "      <td>0.8192</td>\n",
       "      <td>0.5212</td>\n",
       "      <td>0.6371</td>\n",
       "      <td>0.7317</td>\n",
       "    </tr>\n",
       "    <tr>\n",
       "      <th>LogisticRegression</th>\n",
       "      <td>0.9160</td>\n",
       "      <td>0.5990</td>\n",
       "      <td>0.7243</td>\n",
       "      <td>0.7857</td>\n",
       "    </tr>\n",
       "    <tr>\n",
       "      <th>SGDClassifier</th>\n",
       "      <td>0.9175</td>\n",
       "      <td>0.5876</td>\n",
       "      <td>0.7164</td>\n",
       "      <td>0.7805</td>\n",
       "    </tr>\n",
       "    <tr>\n",
       "      <th>SVC</th>\n",
       "      <td>0.9123</td>\n",
       "      <td>0.6363</td>\n",
       "      <td>0.7497</td>\n",
       "      <td>0.8028</td>\n",
       "    </tr>\n",
       "    <tr>\n",
       "      <th>XGBClassifier</th>\n",
       "      <td>0.8931</td>\n",
       "      <td>0.5109</td>\n",
       "      <td>0.6500</td>\n",
       "      <td>0.7401</td>\n",
       "    </tr>\n",
       "    <tr>\n",
       "      <th>DecisionTree</th>\n",
       "      <td>0.7023</td>\n",
       "      <td>0.5917</td>\n",
       "      <td>0.6423</td>\n",
       "      <td>0.7328</td>\n",
       "    </tr>\n",
       "  </tbody>\n",
       "</table>\n",
       "</div>"
      ],
      "text/plain": [
       "                    Precision  Recall  F1-score  ROC-AUC\n",
       "kNN                    0.8192  0.5212    0.6371   0.7317\n",
       "LogisticRegression     0.9160  0.5990    0.7243   0.7857\n",
       "SGDClassifier          0.9175  0.5876    0.7164   0.7805\n",
       "SVC                    0.9123  0.6363    0.7497   0.8028\n",
       "XGBClassifier          0.8931  0.5109    0.6500   0.7401\n",
       "DecisionTree           0.7023  0.5917    0.6423   0.7328"
      ]
     },
     "execution_count": 15,
     "metadata": {},
     "output_type": "execute_result"
    }
   ],
   "source": [
    "%%time\n",
    "\n",
    "models_report(models, x_train, x_test, y_train, y_test)"
   ]
  },
  {
   "cell_type": "markdown",
   "id": "6f410518-3331-4cc2-bdd2-bdddbd7e5a6d",
   "metadata": {},
   "source": [
    "___"
   ]
  },
  {
   "cell_type": "markdown",
   "id": "1395d884-e54e-4482-b18e-db667cbaebec",
   "metadata": {
    "tags": []
   },
   "source": [
    "## ___Search fo Hyperparameters___"
   ]
  },
  {
   "cell_type": "code",
   "execution_count": 16,
   "id": "62963207-be21-4d84-a2dc-fed1e47cb73f",
   "metadata": {
    "tags": []
   },
   "outputs": [],
   "source": [
    "from sklearn.model_selection import GridSearchCV\n",
    "from sklearn.metrics import classification_report"
   ]
  },
  {
   "cell_type": "markdown",
   "id": "e6837097-df25-4cb8-975a-5d010b2bb8ac",
   "metadata": {
    "tags": []
   },
   "source": [
    "### _kNN_"
   ]
  },
  {
   "cell_type": "code",
   "execution_count": 17,
   "id": "2d5f8199-9aa0-40d2-8a1c-8c8c6ea65f5a",
   "metadata": {
    "tags": []
   },
   "outputs": [
    {
     "name": "stdout",
     "output_type": "stream",
     "text": [
      "best params: {'n_neighbors': 13}\n",
      " best score: 0.8251366120218581\n",
      "              precision    recall  f1-score   support\n",
      "\n",
      "           0     0.8153    0.9552    0.8797      1918\n",
      "           1     0.8648    0.5699    0.6871       965\n",
      "\n",
      "    accuracy                         0.8262      2883\n",
      "   macro avg     0.8400    0.7626    0.7834      2883\n",
      "weighted avg     0.8319    0.8262    0.8152      2883\n",
      "\n",
      "CPU times: total: 7min 2s\n",
      "Wall time: 2min 13s\n"
     ]
    }
   ],
   "source": [
    "%%time\n",
    "\n",
    "knn_grid = GridSearchCV(KNeighborsClassifier(), \n",
    "                        param_grid={'n_neighbors': range(10, 21)}, \n",
    "                        verbose=0,\n",
    "                        cv=3)\n",
    "knn_grid.fit(x_train, y_train)\n",
    "\n",
    "print(f'best params: {knn_grid.best_params_}')\n",
    "print(f' best score: {knn_grid.best_score_}')\n",
    "print(classification_report(y_test, knn_grid.predict(x_test), digits=4))"
   ]
  },
  {
   "cell_type": "markdown",
   "id": "ce91e2c7-dc7b-4540-abde-10df2212b921",
   "metadata": {},
   "source": [
    "___"
   ]
  },
  {
   "cell_type": "markdown",
   "id": "d75a7540-5482-42d7-b0d4-0c9f1b71b97e",
   "metadata": {
    "tags": []
   },
   "source": [
    "### _Logistic Regression_"
   ]
  },
  {
   "cell_type": "code",
   "execution_count": 18,
   "id": "f83ee15e-50c8-408a-878c-5cb08589a162",
   "metadata": {
    "tags": []
   },
   "outputs": [
    {
     "name": "stdout",
     "output_type": "stream",
     "text": [
      "best params: {'C': 23.95026619987486}\n",
      " best score: 0.8604388932257785\n",
      "              precision    recall  f1-score   support\n",
      "\n",
      "           0     0.8698    0.9400    0.9035      1918\n",
      "           1     0.8580    0.7202    0.7831       965\n",
      "\n",
      "    accuracy                         0.8665      2883\n",
      "   macro avg     0.8639    0.8301    0.8433      2883\n",
      "weighted avg     0.8658    0.8665    0.8632      2883\n",
      "\n",
      "CPU times: total: 1min 8s\n",
      "Wall time: 1min 3s\n"
     ]
    }
   ],
   "source": [
    "%%time\n",
    "\n",
    "lr_grid = GridSearchCV(LogisticRegression(max_iter=300), \n",
    "                       param_grid={'C': np.logspace(-1, 2, 30)}, \n",
    "                       verbose=0,\n",
    "                       cv=3)\n",
    "lr_grid.fit(x_train, y_train)\n",
    "\n",
    "print(f'best params: {lr_grid.best_params_}')\n",
    "print(f' best score: {lr_grid.best_score_}')\n",
    "print(classification_report(y_test, lr_grid.predict(x_test), digits=4))"
   ]
  },
  {
   "cell_type": "code",
   "execution_count": 19,
   "id": "29f71ecf-c7d6-448a-88ab-714a532fa3c7",
   "metadata": {},
   "outputs": [],
   "source": [
    "from sklearn.metrics import precision_recall_curve\n",
    "\n",
    "pr, rc, ths = precision_recall_curve(y_true=y_test, \n",
    "                                     probas_pred=lr_grid.predict_proba(x_test)[:,1])"
   ]
  },
  {
   "cell_type": "code",
   "execution_count": 20,
   "id": "a9062777-91f4-46b9-a3f5-b7056eaf1d0e",
   "metadata": {},
   "outputs": [
    {
     "data": {
      "text/plain": [
       "[<matplotlib.lines.Line2D at 0x29de0212d70>]"
      ]
     },
     "execution_count": 20,
     "metadata": {},
     "output_type": "execute_result"
    },
    {
     "data": {
      "image/png": "[encoded data removed]",
      "text/plain": [
       "<Figure size 400x300 with 1 Axes>"
      ]
     },
     "metadata": {},
     "output_type": "display_data"
    }
   ],
   "source": [
    "from matplotlib import pyplot as plt\n",
    "%matplotlib inline\n",
    "\n",
    "plt.figure(figsize=(4, 3))\n",
    "plt.plot(rc, pr)"
   ]
  },
  {
   "cell_type": "code",
   "execution_count": 21,
   "id": "62212130-0d39-47b1-b4b1-bd2ac12c0cd5",
   "metadata": {
    "tags": []
   },
   "outputs": [
    {
     "name": "stdout",
     "output_type": "stream",
     "text": [
      "Precision: 0.9501\n",
      "   Recall: 0.4342\n"
     ]
    }
   ],
   "source": [
    "pr_index = np.where(pr > 0.95)[0][0]\n",
    "threshold = ths[pr_index].round(4)\n",
    "probas = (lr_grid.predict_proba(x_test)[:,1] > threshold)\n",
    "print(f'Precision: {precision_score(y_test, probas).round(4)}')\n",
    "print(f'   Recall: {recall_score(y_test, probas).round(4)}')"
   ]
  },
  {
   "cell_type": "code",
   "execution_count": 22,
   "id": "65cd621d-851e-4ad0-8cf2-41a7e2b7281e",
   "metadata": {
    "tags": []
   },
   "outputs": [
    {
     "name": "stdout",
     "output_type": "stream",
     "text": [
      "Threshold: 0.8662\n"
     ]
    }
   ],
   "source": [
    "print(f'Threshold: {threshold}')"
   ]
  },
  {
   "cell_type": "markdown",
   "id": "a2b793c5-e271-4835-b8dc-feda63072702",
   "metadata": {},
   "source": [
    "___"
   ]
  },
  {
   "cell_type": "markdown",
   "id": "259f8192-837b-4771-bb13-04bf15fa58fb",
   "metadata": {},
   "source": [
    "### _Gradient Descent_"
   ]
  },
  {
   "cell_type": "code",
   "execution_count": 23,
   "id": "14d2f062-d8c3-42a8-9823-4a7015aba716",
   "metadata": {},
   "outputs": [
    {
     "name": "stdout",
     "output_type": "stream",
     "text": [
      "best params: {'alpha': 0.00023, 'learning_rate': 'optimal'}\n",
      " best score: 0.7991152383765447\n",
      "              precision    recall  f1-score   support\n",
      "\n",
      "           0     0.7840    0.9880    0.8743      1918\n",
      "           1     0.9506    0.4591    0.6191       965\n",
      "\n",
      "    accuracy                         0.8110      2883\n",
      "   macro avg     0.8673    0.7235    0.7467      2883\n",
      "weighted avg     0.8398    0.8110    0.7889      2883\n",
      "\n",
      "CPU times: total: 797 ms\n",
      "Wall time: 799 ms\n"
     ]
    }
   ],
   "source": [
    "%%time\n",
    "\n",
    "sgd_grid = GridSearchCV(SGDClassifier(loss='log_loss', early_stopping=True, validation_fraction=0.2, random_state=0), \n",
    "                        param_grid={'learning_rate': ['optimal'], \n",
    "                                    'alpha' : [0.00023, 0.001, 0.01]}, \n",
    "                        cv=5)\n",
    "sgd_grid.fit(x_train, y_train)\n",
    "\n",
    "print(f'best params: {sgd_grid.best_params_}')\n",
    "print(f' best score: {sgd_grid.best_score_}')\n",
    "print(classification_report(y_test, sgd_grid.predict(x_test), digits=4))"
   ]
  },
  {
   "cell_type": "code",
   "execution_count": 24,
   "id": "e6d6e811-8019-486c-ae98-6341b273e8cb",
   "metadata": {
    "tags": []
   },
   "outputs": [],
   "source": [
    "scores = []\n",
    "for alpha in np.linspace(0.0001, 0.001, 100):\n",
    "    sgd_grid = SGDClassifier(loss='log_loss', \n",
    "                             alpha=alpha, \n",
    "                             early_stopping=True, \n",
    "                             validation_fraction=0.2, \n",
    "                             random_state=0)\n",
    "    sgd_grid.fit(x_train, y_train)\n",
    "    prec = precision_score(y_test, sgd_grid.predict(x_test))\n",
    "    rec = recall_score(y_test, sgd_grid.predict(x_test))\n",
    "    if prec > 0.95:\n",
    "        scores.append((rec, alpha.round(6)))"
   ]
  },
  {
   "cell_type": "code",
   "execution_count": 25,
   "id": "377975db-0156-4175-a169-06e6f184d1ea",
   "metadata": {
    "tags": []
   },
   "outputs": [
    {
     "data": {
      "text/plain": [
       "(0.46217616580310883, 0.000227)"
      ]
     },
     "execution_count": 25,
     "metadata": {},
     "output_type": "execute_result"
    }
   ],
   "source": [
    "max(scores)"
   ]
  },
  {
   "cell_type": "code",
   "execution_count": 26,
   "id": "0d20ca55-0a2d-4203-bb2a-9646edf88a0e",
   "metadata": {},
   "outputs": [
    {
     "data": {
      "text/plain": [
       "0.000227"
      ]
     },
     "execution_count": 26,
     "metadata": {},
     "output_type": "execute_result"
    }
   ],
   "source": [
    "best_alpha = max(scores)[1]\n",
    "best_alpha"
   ]
  },
  {
   "cell_type": "markdown",
   "id": "68b149cf-8646-4d37-aaaf-56cc82b148b1",
   "metadata": {},
   "source": [
    "#### _Best SGD Classifier_"
   ]
  },
  {
   "cell_type": "code",
   "execution_count": 27,
   "id": "fde5fbc9-7040-400e-b5cd-53fd7ff409e2",
   "metadata": {
    "tags": []
   },
   "outputs": [
    {
     "name": "stdout",
     "output_type": "stream",
     "text": [
      "              precision    recall  f1-score   support\n",
      "\n",
      "           0     0.7850    0.9880    0.8749      1918\n",
      "           1     0.9510    0.4622    0.6220       965\n",
      "\n",
      "    accuracy                         0.8120      2883\n",
      "   macro avg     0.8680    0.7251    0.7485      2883\n",
      "weighted avg     0.8406    0.8120    0.7903      2883\n",
      "\n",
      "CPU times: total: 78.1 ms\n",
      "Wall time: 82 ms\n"
     ]
    }
   ],
   "source": [
    "%%time\n",
    "\n",
    "sgd = SGDClassifier(loss='log_loss', alpha=best_alpha, early_stopping=True, validation_fraction=0.2, random_state=0)\n",
    "sgd.fit(x_train, y_train)\n",
    "\n",
    "print(classification_report(y_test, sgd.predict(x_test), digits=4))"
   ]
  },
  {
   "cell_type": "markdown",
   "id": "4f2a9d2a-3983-43f0-811e-93941cc3b555",
   "metadata": {},
   "source": [
    "___"
   ]
  },
  {
   "cell_type": "markdown",
   "id": "a147360d-07b5-4b23-a9cc-3416c35bdefb",
   "metadata": {},
   "source": [
    "### _SVM_"
   ]
  },
  {
   "cell_type": "code",
   "execution_count": 47,
   "id": "26d0c07b-872d-49c9-9d1a-b25f937c3fda",
   "metadata": {},
   "outputs": [
    {
     "name": "stdout",
     "output_type": "stream",
     "text": [
      "best params: {'C': 0.9, 'gamma': 0.09}\n",
      " best score: 0.9732548410231892\n",
      "              precision    recall  f1-score   support\n",
      "\n",
      "           0     0.7414    0.9927    0.8489      1918\n",
      "           1     0.9556    0.3119    0.4703       965\n",
      "\n",
      "    accuracy                         0.7648      2883\n",
      "   macro avg     0.8485    0.6523    0.6596      2883\n",
      "weighted avg     0.8131    0.7648    0.7222      2883\n",
      "\n",
      "CPU times: total: 35.4 s\n",
      "Wall time: 35.5 s\n"
     ]
    }
   ],
   "source": [
    "%%time\n",
    "\n",
    "svc_grid = GridSearchCV(SVC(), \n",
    "                        param_grid={'C': [0.9], \n",
    "                                    'gamma': [0.09]\n",
    "                                   }, \n",
    "                        verbose=0, \n",
    "                        scoring='precision', \n",
    "                        cv=2)\n",
    "svc_grid.fit(x_train, y_train)\n",
    "\n",
    "print(f'best params: {svc_grid.best_params_}')\n",
    "print(f' best score: {svc_grid.best_score_}')\n",
    "print(classification_report(y_test, svc_grid.predict(x_test), digits=4))"
   ]
  },
  {
   "cell_type": "code",
   "execution_count": null,
   "id": "fc48efab-3b4b-409a-ab71-e1036e5921e3",
   "metadata": {},
   "outputs": [],
   "source": []
  },
  {
   "cell_type": "markdown",
   "id": "ba693250-138e-4f3b-bca4-7a9fcac1d127",
   "metadata": {},
   "source": [
    "___"
   ]
  },
  {
   "cell_type": "markdown",
   "id": "bec3a794-281f-4447-a5bc-061908aa9a87",
   "metadata": {},
   "source": [
    "### _XGBoost_"
   ]
  },
  {
   "cell_type": "code",
   "execution_count": 55,
   "id": "c1807539-6356-4781-a6e8-506414b437e8",
   "metadata": {},
   "outputs": [
    {
     "name": "stdout",
     "output_type": "stream",
     "text": [
      "CPU times: total: 37.4 s\n",
      "Wall time: 11.4 s\n"
     ]
    }
   ],
   "source": [
    "%%time\n",
    "\n",
    "from sklearn.model_selection import cross_val_score\n",
    "\n",
    "trees = [1] + list(range(2, 15))\n",
    "xgb_scoring = []\n",
    "for tree in trees:\n",
    "    xgb = XGBClassifier(n_estimators=tree)\n",
    "    score = cross_val_score(xgb, x_train, y_train, scoring='precision', cv=3)\n",
    "    xgb_scoring.append(score)\n",
    "xgb_scoring = np.asmatrix(xgb_scoring)"
   ]
  },
  {
   "cell_type": "code",
   "execution_count": 60,
   "id": "6f460597-5f37-479f-a3de-d5a882ebbaa8",
   "metadata": {
    "tags": []
   },
   "outputs": [
    {
     "data": {
      "image/png": "[encoded data removed]",
      "text/plain": [
       "<Figure size 400x300 with 1 Axes>"
      ]
     },
     "metadata": {},
     "output_type": "display_data"
    }
   ],
   "source": [
    "plt.figure(figsize=[4,3])\n",
    "plt.plot(trees, xgb_scoring.mean(axis=1), label='XGBoost')\n",
    "plt.grid(True)\n",
    "plt.xlabel('trees')\n",
    "plt.ylabel('precision')\n",
    "plt.show()"
   ]
  },
  {
   "cell_type": "code",
   "execution_count": 39,
   "id": "c59ef79f-aa4c-44cc-9abd-63d0cbbf7690",
   "metadata": {},
   "outputs": [],
   "source": [
    "trees = list(range(10, 110, 10))\n",
    "scores = []\n",
    "for tree in trees:\n",
    "    xgb_grid = XGBClassifier(n_estimators=tree)\n",
    "    xgb_grid.fit(x_train, y_train)\n",
    "    prec = precision_score(y_test, xgb_grid.predict(x_test))\n",
    "    rec = recall_score(y_test, xgb_grid.predict(x_test))\n",
    "    if prec > 0.9:\n",
    "        scores.append((rec, tree))"
   ]
  },
  {
   "cell_type": "code",
   "execution_count": 40,
   "id": "afc85289-b583-41d8-990a-1e6caeb21bbf",
   "metadata": {
    "tags": []
   },
   "outputs": [
    {
     "data": {
      "text/plain": [
       "[(0.32746113989637304, 20)]"
      ]
     },
     "execution_count": 40,
     "metadata": {},
     "output_type": "execute_result"
    }
   ],
   "source": [
    "scores"
   ]
  },
  {
   "cell_type": "markdown",
   "id": "a64eba4a-6320-461a-a7ca-a224b84f5f25",
   "metadata": {},
   "source": [
    "тут еще есть варианты настроки параметров"
   ]
  },
  {
   "cell_type": "markdown",
   "id": "1b7d0e0e-a74c-4195-8152-a211fed09773",
   "metadata": {},
   "source": [
    "___"
   ]
  },
  {
   "cell_type": "markdown",
   "id": "3b6bd966-25fb-4a0c-a6b2-926fa1fb45a3",
   "metadata": {
    "tags": []
   },
   "source": [
    "### _Decision Tree_"
   ]
  },
  {
   "cell_type": "code",
   "execution_count": 41,
   "id": "cb2f8791-570e-4e18-82b0-dd7b1048d1ce",
   "metadata": {
    "tags": []
   },
   "outputs": [
    {
     "name": "stdout",
     "output_type": "stream",
     "text": [
      "best params: {'max_depth': 19}\n",
      " best score: 0.7398729711984016\n",
      "              precision    recall  f1-score   support\n",
      "\n",
      "           0     0.7300    0.9599    0.8293      1918\n",
      "           1     0.7867    0.2943    0.4284       965\n",
      "\n",
      "    accuracy                         0.7371      2883\n",
      "   macro avg     0.7583    0.6271    0.6288      2883\n",
      "weighted avg     0.7490    0.7371    0.6951      2883\n",
      "\n",
      "CPU times: total: 1min 35s\n",
      "Wall time: 1min 35s\n"
     ]
    }
   ],
   "source": [
    "%%time\n",
    "\n",
    "dtc_grid = GridSearchCV(DecisionTreeClassifier(random_state=0), \n",
    "                        param_grid={'max_depth' : range(1, 20)}, \n",
    "                        cv=5)\n",
    "dtc_grid.fit(x_train, y_train)\n",
    "\n",
    "print(f'best params: {dtc_grid.best_params_}')\n",
    "print(f' best score: {dtc_grid.best_score_}')\n",
    "print(classification_report(y_test, dtc_grid.predict(x_test), digits=4))"
   ]
  },
  {
   "cell_type": "code",
   "execution_count": 42,
   "id": "8d1f0069-15bf-4f29-9e11-9277ac6f5fc6",
   "metadata": {
    "tags": []
   },
   "outputs": [],
   "source": [
    "scores = []\n",
    "for n in range(1, 10):\n",
    "    dtc_grid = DecisionTreeClassifier(random_state=0, max_depth=n)\n",
    "    dtc_grid.fit(x_train, y_train)\n",
    "    prec = precision_score(y_test, dtc_grid.predict(x_test))\n",
    "    rec = recall_score(y_test, dtc_grid.predict(x_test))\n",
    "    if prec > 0.95:\n",
    "        scores.append((rec, n))"
   ]
  },
  {
   "cell_type": "code",
   "execution_count": 43,
   "id": "35bb474a-54b1-43e6-b3b6-15e5496b871f",
   "metadata": {
    "tags": []
   },
   "outputs": [
    {
     "data": {
      "text/plain": [
       "[(0.04766839378238342, 1)]"
      ]
     },
     "execution_count": 43,
     "metadata": {},
     "output_type": "execute_result"
    }
   ],
   "source": [
    "scores"
   ]
  },
  {
   "cell_type": "markdown",
   "id": "40023720-2ee6-4cb3-a30c-324d63b5cd58",
   "metadata": {},
   "source": [
    "___"
   ]
  },
  {
   "cell_type": "markdown",
   "id": "76362481-e94b-4ebe-a0ef-dc5a2af05ffe",
   "metadata": {
    "tags": []
   },
   "source": [
    "## ___Predictions___"
   ]
  },
  {
   "cell_type": "code",
   "execution_count": 62,
   "id": "3adefa29-11d1-431a-839a-d57fa99e52e3",
   "metadata": {
    "tags": []
   },
   "outputs": [],
   "source": [
    "from sklearn.pipeline import Pipeline"
   ]
  },
  {
   "cell_type": "code",
   "execution_count": 63,
   "id": "be6702b8-68a9-49d4-8d6f-390ba4e332c4",
   "metadata": {
    "tags": []
   },
   "outputs": [],
   "source": [
    "x_train_pipe, x_test_pipe, y_train_pipe, y_test_pipe = train_test_split(features, \n",
    "                                                                        labels, \n",
    "                                                                        test_size=0.2, \n",
    "                                                                        random_state=0)"
   ]
  },
  {
   "cell_type": "code",
   "execution_count": 89,
   "id": "219f83b2-98be-41e9-92b8-b64ebc5a9e6b",
   "metadata": {
    "tags": []
   },
   "outputs": [
    {
     "name": "stdout",
     "output_type": "stream",
     "text": [
      "(0.9455, 0.4497)\n",
      "(0.9475, 0.4487)\n",
      "(0.9496, 0.4487)\n",
      "(0.9495, 0.4477)\n",
      "(0.9495, 0.4477)\n",
      "(0.9493, 0.4466)\n",
      "(0.9493, 0.4466)\n",
      "CPU times: total: 2min 25s\n",
      "Wall time: 2min 25s\n"
     ]
    }
   ],
   "source": [
    "%%time\n",
    "scores = []\n",
    "for alpha in np.linspace(0.000277, 0.000283, 7):\n",
    "    sgd_pipeline = Pipeline([('vectorizer', vectorizer), \n",
    "                             ('model', SGDClassifier(loss='log_loss', \n",
    "                                                     alpha=alpha, \n",
    "                                                     early_stopping=True, \n",
    "                                                     validation_fraction=0.2, \n",
    "                                                     random_state=0))])\n",
    "    sgd_pipeline.fit(x_train_pipe, y_train_pipe)\n",
    "    prec = precision_score(y_test_pipe, sgd_pipeline.predict(x_test_pipe))\n",
    "    rec = recall_score(y_test_pipe, sgd_pipeline.predict(x_test_pipe))\n",
    "    print((prec.round(4), rec.round(4)))\n",
    "    if prec >= 0.949:\n",
    "        scores.append((rec.round(4), alpha.round(6)))"
   ]
  },
  {
   "cell_type": "code",
   "execution_count": 90,
   "id": "d342505e-bff1-4809-827c-c89add1d9408",
   "metadata": {
    "tags": []
   },
   "outputs": [
    {
     "data": {
      "text/plain": [
       "[(0.4487, 0.000279),\n",
       " (0.4477, 0.00028),\n",
       " (0.4477, 0.000281),\n",
       " (0.4466, 0.000282),\n",
       " (0.4466, 0.000283)]"
      ]
     },
     "execution_count": 90,
     "metadata": {},
     "output_type": "execute_result"
    }
   ],
   "source": [
    "scores"
   ]
  },
  {
   "cell_type": "code",
   "execution_count": 91,
   "id": "01b9a43a-8cea-4745-bb0d-b5e775bb3d7e",
   "metadata": {
    "tags": []
   },
   "outputs": [
    {
     "data": {
      "text/plain": [
       "0.000279"
      ]
     },
     "execution_count": 91,
     "metadata": {},
     "output_type": "execute_result"
    }
   ],
   "source": [
    "best_alpha_pipe = max(scores)[1]\n",
    "best_alpha_pipe"
   ]
  },
  {
   "cell_type": "code",
   "execution_count": 92,
   "id": "51a26f2a-822d-4cc0-91e9-63420f0857df",
   "metadata": {
    "tags": []
   },
   "outputs": [
    {
     "name": "stdout",
     "output_type": "stream",
     "text": [
      "              precision    recall  f1-score   support\n",
      "\n",
      "           0       0.78      0.99      0.87      1918\n",
      "           1       0.95      0.45      0.61       965\n",
      "\n",
      "    accuracy                           0.81      2883\n",
      "   macro avg       0.87      0.72      0.74      2883\n",
      "weighted avg       0.84      0.81      0.78      2883\n",
      "\n"
     ]
    }
   ],
   "source": [
    "sgd_pipeline = Pipeline([('vectorizer', vectorizer), \n",
    "                         ('model', SGDClassifier(loss='log_loss', \n",
    "                                                 alpha=best_alpha_pipe, \n",
    "                                                 early_stopping=True, \n",
    "                                                 validation_fraction=0.2, \n",
    "                                                 random_state=0))])\n",
    "sgd_pipeline.fit(x_train_pipe, y_train_pipe)\n",
    "print(classification_report(y_test_pipe, sgd_pipeline.predict(x_test_pipe)))"
   ]
  },
  {
   "cell_type": "code",
   "execution_count": 93,
   "id": "f5c0573c-56d2-4874-b580-668f5d0a1b2c",
   "metadata": {
    "tags": []
   },
   "outputs": [],
   "source": [
    "def check_toxic(text: str):\n",
    "    if sgd_pipeline.predict([text])[0]:\n",
    "        return 'TOXIC'\n",
    "    else:\n",
    "        return 'normal'"
   ]
  },
  {
   "cell_type": "code",
   "execution_count": 102,
   "id": "b91c8375-7839-4daf-b647-2c6b8b10d439",
   "metadata": {
    "tags": []
   },
   "outputs": [
    {
     "data": {
      "text/plain": [
       "'TOXIC'"
      ]
     },
     "execution_count": 102,
     "metadata": {},
     "output_type": "execute_result"
    }
   ],
   "source": [
    "check_toxic('саня хуила')"
   ]
  },
  {
   "cell_type": "code",
   "execution_count": null,
   "id": "d96eb6d7-9ed0-4712-804b-eda5d7face17",
   "metadata": {},
   "outputs": [],
   "source": []
  }
 ],
 "metadata": {
  "kernelspec": {
   "display_name": "Python 3 (ipykernel)",
   "language": "python",
   "name": "python3"
  },
  "language_info": {
   "codemirror_mode": {
    "name": "ipython",
    "version": 3
   },
   "file_extension": ".py",
   "mimetype": "text/x-python",
   "name": "python",
   "nbconvert_exporter": "python",
   "pygments_lexer": "ipython3",
   "version": "3.10.9"
  }
 },
 "nbformat": 4,
 "nbformat_minor": 5
}
