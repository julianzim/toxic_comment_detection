{
 "cells": [
  {
   "cell_type": "code",
   "execution_count": 68,
   "id": "11e7b403-e5a4-4e43-8179-cf1083374c58",
   "metadata": {
    "tags": []
   },
   "outputs": [],
   "source": [
    "import pandas as pd\n",
    "import numpy as np"
   ]
  },
  {
   "cell_type": "code",
   "execution_count": 2,
   "id": "bcebad79-0107-41f6-ac90-1c2e8c41858c",
   "metadata": {
    "tags": []
   },
   "outputs": [],
   "source": [
    "df = pd.read_csv(\"labeled.csv\", sep=\",\")\n",
    "df['toxic'] = df['toxic'].apply(int)"
   ]
  },
  {
   "cell_type": "code",
   "execution_count": 3,
   "id": "57617c75-38a9-47b6-9fac-f0b701eef4d8",
   "metadata": {
    "tags": []
   },
   "outputs": [
    {
     "data": {
      "text/plain": [
       "(14412, 2)"
      ]
     },
     "execution_count": 3,
     "metadata": {},
     "output_type": "execute_result"
    }
   ],
   "source": [
    "df.shape"
   ]
  },
  {
   "cell_type": "code",
   "execution_count": 4,
   "id": "fb9f4e54-9c97-43bd-826d-4d5fe34ceb05",
   "metadata": {
    "tags": []
   },
   "outputs": [
    {
     "data": {
      "text/plain": [
       "0    9586\n",
       "1    4826\n",
       "Name: toxic, dtype: int64"
      ]
     },
     "execution_count": 4,
     "metadata": {},
     "output_type": "execute_result"
    }
   ],
   "source": [
    "df['toxic'].value_counts()"
   ]
  },
  {
   "cell_type": "code",
   "execution_count": 5,
   "id": "77cd272b-4d0d-45d2-b44c-44a6c823d8a8",
   "metadata": {
    "tags": []
   },
   "outputs": [
    {
     "data": {
      "text/plain": [
       "0                     Верблюдов-то за что? Дебилы, бл...\\n\n",
       "1        Хохлы, это отдушина затюканого россиянина, мол...\n",
       "2                                Собаке - собачья смерть\\n\n",
       "3        Страницу обнови, дебил. Это тоже не оскорблени...\n",
       "4        тебя не убедил 6-страничный пдф в том, что Скр...\n",
       "                               ...                        \n",
       "14404    ЖЕНЩИНА это ВЕНЕЦ ТВОРЕНИЯ, помните это ваньки...\n",
       "14405    Сейчас все авиакомпании мира вместе со специал...\n",
       "14407    Вонючий совковый скот прибежал и ноет. А вот и...\n",
       "14408    А кого любить? Гоблина тупорылого что-ли? Или ...\n",
       "14410    КРЫМОТРЕД НАРУШАЕТ ПРАВИЛА РАЗДЕЛА Т.К В НЕМ Н...\n",
       "Name: comment, Length: 4826, dtype: object"
      ]
     },
     "execution_count": 5,
     "metadata": {},
     "output_type": "execute_result"
    }
   ],
   "source": [
    "df.query('toxic == 1')['comment']"
   ]
  },
  {
   "cell_type": "code",
   "execution_count": 6,
   "id": "c30eccdb-a995-4d23-83cc-e3cb219a301c",
   "metadata": {
    "tags": []
   },
   "outputs": [
    {
     "data": {
      "text/plain": [
       "6        В шапке были ссылки на инфу по текущему фильму...\n",
       "12       Почитайте посты у этого автора,может найдете ч...\n",
       "17       Про графику было обидно) я так то проходил все...\n",
       "28       https: pp.userapi.com c848520 v848520411 11627...\n",
       "35       Возьмём как пример Россию, западноевропейские ...\n",
       "                               ...                        \n",
       "14392    ТАСС, 21 марта. Премьер-министр Новой Зеландии...\n",
       "14399    65 А чего так мало? Вот у гражданина был рейти...\n",
       "14406    Потому что запад прошел эту хуйню еще пару сот...\n",
       "14409    Посмотрел Утомленных солнцем 2. И оказалось, ч...\n",
       "14411    До сих пор пересматриваю его видео. Орамбо кст...\n",
       "Name: comment, Length: 9586, dtype: object"
      ]
     },
     "execution_count": 6,
     "metadata": {},
     "output_type": "execute_result"
    }
   ],
   "source": [
    "df.query('toxic == 0')['comment']"
   ]
  },
  {
   "cell_type": "code",
   "execution_count": 7,
   "id": "9e76d32b-f7f1-4828-8b10-490233bf7ec7",
   "metadata": {
    "tags": []
   },
   "outputs": [],
   "source": [
    "import nltk\n",
    "import string\n",
    "from nltk.corpus import stopwords\n",
    "from nltk.tokenize import word_tokenize\n",
    "from nltk.stem import SnowballStemmer\n",
    "# nltk.download('punkt')\n",
    "# nltk.download('stopwords')\n",
    "\n",
    "stemmer = SnowballStemmer(language='russian')\n",
    "russian_stop_words = stopwords.words('russian')\n",
    "\n",
    "def tokenize_sentence(sentence: str, remove_stop_words: bool=True):\n",
    "    \"\"\"Преобразует предложения в токены.\n",
    "    По шагам:\n",
    "    1) Токенизация - разбиение текста на отдельные слова и знаки пунктуации\n",
    "    2) Удаляем знаки пунктуации\n",
    "    3) Удаляем стоп-слова (часто используемые. не несущщие смысловой нагрузки)\n",
    "    4) Стемминг (stem - корень) - удаление окончаний и приведение к нижнему регистру\n",
    "    \"\"\"\n",
    "    tokens = word_tokenize(sentence, language='russian')\n",
    "    tokens = [i for i in tokens if i not in string.punctuation]\n",
    "    if remove_stop_words:\n",
    "        tokens = [i for i in tokens if i not in russian_stop_words]\n",
    "    tokens = [stemmer.stem(i) for i in tokens]\n",
    "    return tokens"
   ]
  },
  {
   "cell_type": "code",
   "execution_count": 8,
   "id": "6c1dba93-1ac1-4dc3-aa1f-6687cb5a21d7",
   "metadata": {
    "tags": []
   },
   "outputs": [
    {
     "data": {
      "text/plain": [
       "'Хохлы, это отдушина затюканого россиянина, мол, вон, а у хохлов еще хуже. Если бы хохлов не было, кисель их бы придумал.\\n'"
      ]
     },
     "execution_count": 8,
     "metadata": {},
     "output_type": "execute_result"
    }
   ],
   "source": [
    "example = df.loc[1]['comment']\n",
    "example"
   ]
  },
  {
   "cell_type": "code",
   "execution_count": 9,
   "id": "b830219a-be05-452a-b1f9-01ef5da3cfff",
   "metadata": {
    "tags": []
   },
   "outputs": [
    {
     "data": {
      "text/plain": [
       "['хохл',\n",
       " 'эт',\n",
       " 'отдушин',\n",
       " 'затюкан',\n",
       " 'россиянин',\n",
       " 'мол',\n",
       " 'вон',\n",
       " 'хохл',\n",
       " 'хуж',\n",
       " 'есл',\n",
       " 'хохл',\n",
       " 'кисел',\n",
       " 'придума']"
      ]
     },
     "execution_count": 9,
     "metadata": {},
     "output_type": "execute_result"
    }
   ],
   "source": [
    "tokenize_sentence(example)"
   ]
  },
  {
   "cell_type": "code",
   "execution_count": 10,
   "id": "251f692f-d55a-4419-a156-d109254ac18a",
   "metadata": {
    "tags": []
   },
   "outputs": [],
   "source": [
    "from sklearn.feature_extraction.text import TfidfVectorizer\n",
    "\n",
    "vectorizer = TfidfVectorizer(tokenizer=lambda x: tokenize_sentence(x))"
   ]
  },
  {
   "cell_type": "code",
   "execution_count": 11,
   "id": "17e671dd-dd76-4c53-81df-dea08f148739",
   "metadata": {
    "tags": []
   },
   "outputs": [
    {
     "name": "stderr",
     "output_type": "stream",
     "text": [
      "C:\\Python310\\lib\\site-packages\\sklearn\\feature_extraction\\text.py:528: UserWarning: The parameter 'token_pattern' will not be used since 'tokenizer' is not None'\n",
      "  warnings.warn(\n"
     ]
    }
   ],
   "source": [
    "from sklearn.model_selection import train_test_split\n",
    "\n",
    "features, labels = df['comment'], df['toxic']\n",
    "features = vectorizer.fit_transform(features)\n",
    "x_train, x_test, y_train, y_test = train_test_split(features, \n",
    "                                                   labels, \n",
    "                                                   test_size=0.2, \n",
    "                                                   random_state=27)"
   ]
  },
  {
   "cell_type": "code",
   "execution_count": 12,
   "id": "bdad6dd5-e54c-45ea-b695-bb3cd21096c8",
   "metadata": {
    "tags": []
   },
   "outputs": [],
   "source": [
    "from sklearn.neighbors import KNeighborsClassifier\n",
    "from sklearn.tree import DecisionTreeClassifier\n",
    "from sklearn.linear_model import LogisticRegression\n",
    "\n",
    "knn = KNeighborsClassifier().fit(x_train, y_train)\n",
    "tree = DecisionTreeClassifier().fit(x_train, y_train)\n",
    "log_reg = LogisticRegression().fit(x_train, y_train)"
   ]
  },
  {
   "cell_type": "code",
   "execution_count": 52,
   "id": "c8c8a7c8-2970-4d2b-86f5-38d047ceba61",
   "metadata": {
    "tags": []
   },
   "outputs": [
    {
     "name": "stdout",
     "output_type": "stream",
     "text": [
      "knn_recall: 0.6415094339622641\n",
      "tree_recall: 0.6205450733752621\n",
      "log_regr_recall: 0.6048218029350105\n",
      "----------------------------------\n",
      "knn_roc_auc: 0.798463374316539\n",
      "tree_roc_auc: 0.7524705667550236\n",
      "log_regr_roc_auc: 0.79178363345299\n"
     ]
    }
   ],
   "source": [
    "from sklearn.metrics import recall_score, roc_auc_score\n",
    "\n",
    "y_pred_knn = knn.predict(x_test)\n",
    "y_pred_tree = tree.predict(x_test)\n",
    "y_pred_log_reg = log_reg.predict(x_test)\n",
    "\n",
    "knn_recall = recall_score(y_test, y_pred_knn)\n",
    "tree_recall = recall_score(y_test, y_pred_tree)\n",
    "log_reg_recall = recall_score(y_test, y_pred_log_reg)\n",
    "\n",
    "knn_roc_auc = roc_auc_score(y_test, y_pred_knn)\n",
    "tree_roc_auc = roc_auc_score(y_test, y_pred_tree)\n",
    "log_reg_roc_auc = roc_auc_score(y_test, y_pred_log_reg)\n",
    "\n",
    "print(f'knn_recall: {knn_recall}')\n",
    "print(f'tree_recall: {tree_recall}')\n",
    "print(f'log_regr_recall: {log_reg_recall}')\n",
    "print('----------------------------------')\n",
    "print(f'knn_roc_auc: {knn_roc_auc}')\n",
    "print(f'tree_roc_auc: {tree_roc_auc}')\n",
    "print(f'log_regr_roc_auc: {log_reg_roc_auc}')"
   ]
  },
  {
   "cell_type": "code",
   "execution_count": 61,
   "id": "2d5f8199-9aa0-40d2-8a1c-8c8c6ea65f5a",
   "metadata": {
    "tags": []
   },
   "outputs": [
    {
     "data": {
      "text/html": [
       "<style>#sk-container-id-11 {color: black;background-color: white;}#sk-container-id-11 pre{padding: 0;}#sk-container-id-11 div.sk-toggleable {background-color: white;}#sk-container-id-11 label.sk-toggleable__label {cursor: pointer;display: block;width: 100%;margin-bottom: 0;padding: 0.3em;box-sizing: border-box;text-align: center;}#sk-container-id-11 label.sk-toggleable__label-arrow:before {content: \"▸\";float: left;margin-right: 0.25em;color: #696969;}#sk-container-id-11 label.sk-toggleable__label-arrow:hover:before {color: black;}#sk-container-id-11 div.sk-estimator:hover label.sk-toggleable__label-arrow:before {color: black;}#sk-container-id-11 div.sk-toggleable__content {max-height: 0;max-width: 0;overflow: hidden;text-align: left;background-color: #f0f8ff;}#sk-container-id-11 div.sk-toggleable__content pre {margin: 0.2em;color: black;border-radius: 0.25em;background-color: #f0f8ff;}#sk-container-id-11 input.sk-toggleable__control:checked~div.sk-toggleable__content {max-height: 200px;max-width: 100%;overflow: auto;}#sk-container-id-11 input.sk-toggleable__control:checked~label.sk-toggleable__label-arrow:before {content: \"▾\";}#sk-container-id-11 div.sk-estimator input.sk-toggleable__control:checked~label.sk-toggleable__label {background-color: #d4ebff;}#sk-container-id-11 div.sk-label input.sk-toggleable__control:checked~label.sk-toggleable__label {background-color: #d4ebff;}#sk-container-id-11 input.sk-hidden--visually {border: 0;clip: rect(1px 1px 1px 1px);clip: rect(1px, 1px, 1px, 1px);height: 1px;margin: -1px;overflow: hidden;padding: 0;position: absolute;width: 1px;}#sk-container-id-11 div.sk-estimator {font-family: monospace;background-color: #f0f8ff;border: 1px dotted black;border-radius: 0.25em;box-sizing: border-box;margin-bottom: 0.5em;}#sk-container-id-11 div.sk-estimator:hover {background-color: #d4ebff;}#sk-container-id-11 div.sk-parallel-item::after {content: \"\";width: 100%;border-bottom: 1px solid gray;flex-grow: 1;}#sk-container-id-11 div.sk-label:hover label.sk-toggleable__label {background-color: #d4ebff;}#sk-container-id-11 div.sk-serial::before {content: \"\";position: absolute;border-left: 1px solid gray;box-sizing: border-box;top: 0;bottom: 0;left: 50%;z-index: 0;}#sk-container-id-11 div.sk-serial {display: flex;flex-direction: column;align-items: center;background-color: white;padding-right: 0.2em;padding-left: 0.2em;position: relative;}#sk-container-id-11 div.sk-item {position: relative;z-index: 1;}#sk-container-id-11 div.sk-parallel {display: flex;align-items: stretch;justify-content: center;background-color: white;position: relative;}#sk-container-id-11 div.sk-item::before, #sk-container-id-11 div.sk-parallel-item::before {content: \"\";position: absolute;border-left: 1px solid gray;box-sizing: border-box;top: 0;bottom: 0;left: 50%;z-index: -1;}#sk-container-id-11 div.sk-parallel-item {display: flex;flex-direction: column;z-index: 1;position: relative;background-color: white;}#sk-container-id-11 div.sk-parallel-item:first-child::after {align-self: flex-end;width: 50%;}#sk-container-id-11 div.sk-parallel-item:last-child::after {align-self: flex-start;width: 50%;}#sk-container-id-11 div.sk-parallel-item:only-child::after {width: 0;}#sk-container-id-11 div.sk-dashed-wrapped {border: 1px dashed gray;margin: 0 0.4em 0.5em 0.4em;box-sizing: border-box;padding-bottom: 0.4em;background-color: white;}#sk-container-id-11 div.sk-label label {font-family: monospace;font-weight: bold;display: inline-block;line-height: 1.2em;}#sk-container-id-11 div.sk-label-container {text-align: center;}#sk-container-id-11 div.sk-container {/* jupyter's `normalize.less` sets `[hidden] { display: none; }` but bootstrap.min.css set `[hidden] { display: none !important; }` so we also need the `!important` here to be able to override the default hidden behavior on the sphinx rendered scikit-learn.org. See: https://github.com/scikit-learn/scikit-learn/issues/21755 */display: inline-block !important;position: relative;}#sk-container-id-11 div.sk-text-repr-fallback {display: none;}</style><div id=\"sk-container-id-11\" class=\"sk-top-container\"><div class=\"sk-text-repr-fallback\"><pre>GridSearchCV(cv=3, estimator=KNeighborsClassifier(),\n",
       "             param_grid={&#x27;n_neighbors&#x27;: range(1, 21)}, scoring=&#x27;recall&#x27;)</pre><b>In a Jupyter environment, please rerun this cell to show the HTML representation or trust the notebook. <br />On GitHub, the HTML representation is unable to render, please try loading this page with nbviewer.org.</b></div><div class=\"sk-container\" hidden><div class=\"sk-item sk-dashed-wrapped\"><div class=\"sk-label-container\"><div class=\"sk-label sk-toggleable\"><input class=\"sk-toggleable__control sk-hidden--visually\" id=\"sk-estimator-id-21\" type=\"checkbox\" ><label for=\"sk-estimator-id-21\" class=\"sk-toggleable__label sk-toggleable__label-arrow\">GridSearchCV</label><div class=\"sk-toggleable__content\"><pre>GridSearchCV(cv=3, estimator=KNeighborsClassifier(),\n",
       "             param_grid={&#x27;n_neighbors&#x27;: range(1, 21)}, scoring=&#x27;recall&#x27;)</pre></div></div></div><div class=\"sk-parallel\"><div class=\"sk-parallel-item\"><div class=\"sk-item\"><div class=\"sk-label-container\"><div class=\"sk-label sk-toggleable\"><input class=\"sk-toggleable__control sk-hidden--visually\" id=\"sk-estimator-id-22\" type=\"checkbox\" ><label for=\"sk-estimator-id-22\" class=\"sk-toggleable__label sk-toggleable__label-arrow\">estimator: KNeighborsClassifier</label><div class=\"sk-toggleable__content\"><pre>KNeighborsClassifier()</pre></div></div></div><div class=\"sk-serial\"><div class=\"sk-item\"><div class=\"sk-estimator sk-toggleable\"><input class=\"sk-toggleable__control sk-hidden--visually\" id=\"sk-estimator-id-23\" type=\"checkbox\" ><label for=\"sk-estimator-id-23\" class=\"sk-toggleable__label sk-toggleable__label-arrow\">KNeighborsClassifier</label><div class=\"sk-toggleable__content\"><pre>KNeighborsClassifier()</pre></div></div></div></div></div></div></div></div></div></div>"
      ],
      "text/plain": [
       "GridSearchCV(cv=3, estimator=KNeighborsClassifier(),\n",
       "             param_grid={'n_neighbors': range(1, 21)}, scoring='recall')"
      ]
     },
     "execution_count": 61,
     "metadata": {},
     "output_type": "execute_result"
    }
   ],
   "source": [
    "from sklearn.model_selection import GridSearchCV\n",
    "\n",
    "\n",
    "knn_grid = GridSearchCV(KNeighborsClassifier(), \n",
    "                        param_grid={'n_neighbors': range(1, 21)}, \n",
    "                        scoring='recall',\n",
    "                        cv=3)\n",
    "knn_grid.fit(x_train, y_train)"
   ]
  },
  {
   "cell_type": "code",
   "execution_count": 64,
   "id": "b90ff311-4102-4f24-a83a-fffbaa09a911",
   "metadata": {},
   "outputs": [
    {
     "name": "stdout",
     "output_type": "stream",
     "text": [
      "best params: {'n_neighbors': 1}\n",
      "best score: 0.6443707880236261\n",
      "kNN recall with best params: 0.6519916142557652\n",
      "kNN roc_auc with best params: 0.7448656878951194\n",
      "-------------------------------------------------\n",
      "              precision    recall  f1-score   support\n",
      "\n",
      "           0       0.83      0.84      0.83      1929\n",
      "           1       0.67      0.65      0.66       954\n",
      "\n",
      "    accuracy                           0.78      2883\n",
      "   macro avg       0.75      0.74      0.75      2883\n",
      "weighted avg       0.78      0.78      0.78      2883\n",
      "\n"
     ]
    }
   ],
   "source": [
    "print(f'best params: {knn_grid.best_params_}')\n",
    "print(f'best score: {knn_grid.best_score_}')\n",
    "\n",
    "knn.set_params(**knn_grid.best_params_).fit(x_train, y_train)\n",
    "\n",
    "y_pred_knn_best = knn.predict(x_test)\n",
    "knn_recall_best = recall_score(y_test, y_pred_knn_best)\n",
    "knn_roc_auc_best = roc_auc_score(y_test, y_pred_knn_best)\n",
    "print(f'kNN recall with best params: {knn_recall_best}')\n",
    "print(f'kNN roc_auc with best params: {knn_roc_auc_best}')\n",
    "print('-------------------------------------------------')\n",
    "print(classification_report(y_test, y_pred_knn_best))"
   ]
  },
  {
   "cell_type": "code",
   "execution_count": 74,
   "id": "542a9743-be39-46f2-8c29-e77620fd3d4a",
   "metadata": {
    "collapsed": true,
    "jupyter": {
     "outputs_hidden": true
    },
    "tags": []
   },
   "outputs": [
    {
     "data": {
      "text/html": [
       "<style>#sk-container-id-13 {color: black;background-color: white;}#sk-container-id-13 pre{padding: 0;}#sk-container-id-13 div.sk-toggleable {background-color: white;}#sk-container-id-13 label.sk-toggleable__label {cursor: pointer;display: block;width: 100%;margin-bottom: 0;padding: 0.3em;box-sizing: border-box;text-align: center;}#sk-container-id-13 label.sk-toggleable__label-arrow:before {content: \"▸\";float: left;margin-right: 0.25em;color: #696969;}#sk-container-id-13 label.sk-toggleable__label-arrow:hover:before {color: black;}#sk-container-id-13 div.sk-estimator:hover label.sk-toggleable__label-arrow:before {color: black;}#sk-container-id-13 div.sk-toggleable__content {max-height: 0;max-width: 0;overflow: hidden;text-align: left;background-color: #f0f8ff;}#sk-container-id-13 div.sk-toggleable__content pre {margin: 0.2em;color: black;border-radius: 0.25em;background-color: #f0f8ff;}#sk-container-id-13 input.sk-toggleable__control:checked~div.sk-toggleable__content {max-height: 200px;max-width: 100%;overflow: auto;}#sk-container-id-13 input.sk-toggleable__control:checked~label.sk-toggleable__label-arrow:before {content: \"▾\";}#sk-container-id-13 div.sk-estimator input.sk-toggleable__control:checked~label.sk-toggleable__label {background-color: #d4ebff;}#sk-container-id-13 div.sk-label input.sk-toggleable__control:checked~label.sk-toggleable__label {background-color: #d4ebff;}#sk-container-id-13 input.sk-hidden--visually {border: 0;clip: rect(1px 1px 1px 1px);clip: rect(1px, 1px, 1px, 1px);height: 1px;margin: -1px;overflow: hidden;padding: 0;position: absolute;width: 1px;}#sk-container-id-13 div.sk-estimator {font-family: monospace;background-color: #f0f8ff;border: 1px dotted black;border-radius: 0.25em;box-sizing: border-box;margin-bottom: 0.5em;}#sk-container-id-13 div.sk-estimator:hover {background-color: #d4ebff;}#sk-container-id-13 div.sk-parallel-item::after {content: \"\";width: 100%;border-bottom: 1px solid gray;flex-grow: 1;}#sk-container-id-13 div.sk-label:hover label.sk-toggleable__label {background-color: #d4ebff;}#sk-container-id-13 div.sk-serial::before {content: \"\";position: absolute;border-left: 1px solid gray;box-sizing: border-box;top: 0;bottom: 0;left: 50%;z-index: 0;}#sk-container-id-13 div.sk-serial {display: flex;flex-direction: column;align-items: center;background-color: white;padding-right: 0.2em;padding-left: 0.2em;position: relative;}#sk-container-id-13 div.sk-item {position: relative;z-index: 1;}#sk-container-id-13 div.sk-parallel {display: flex;align-items: stretch;justify-content: center;background-color: white;position: relative;}#sk-container-id-13 div.sk-item::before, #sk-container-id-13 div.sk-parallel-item::before {content: \"\";position: absolute;border-left: 1px solid gray;box-sizing: border-box;top: 0;bottom: 0;left: 50%;z-index: -1;}#sk-container-id-13 div.sk-parallel-item {display: flex;flex-direction: column;z-index: 1;position: relative;background-color: white;}#sk-container-id-13 div.sk-parallel-item:first-child::after {align-self: flex-end;width: 50%;}#sk-container-id-13 div.sk-parallel-item:last-child::after {align-self: flex-start;width: 50%;}#sk-container-id-13 div.sk-parallel-item:only-child::after {width: 0;}#sk-container-id-13 div.sk-dashed-wrapped {border: 1px dashed gray;margin: 0 0.4em 0.5em 0.4em;box-sizing: border-box;padding-bottom: 0.4em;background-color: white;}#sk-container-id-13 div.sk-label label {font-family: monospace;font-weight: bold;display: inline-block;line-height: 1.2em;}#sk-container-id-13 div.sk-label-container {text-align: center;}#sk-container-id-13 div.sk-container {/* jupyter's `normalize.less` sets `[hidden] { display: none; }` but bootstrap.min.css set `[hidden] { display: none !important; }` so we also need the `!important` here to be able to override the default hidden behavior on the sphinx rendered scikit-learn.org. See: https://github.com/scikit-learn/scikit-learn/issues/21755 */display: inline-block !important;position: relative;}#sk-container-id-13 div.sk-text-repr-fallback {display: none;}</style><div id=\"sk-container-id-13\" class=\"sk-top-container\"><div class=\"sk-text-repr-fallback\"><pre>LogisticRegressionCV(Cs=array([1.00000000e-01, 1.09749877e-01, 1.20450354e-01, 1.32194115e-01,\n",
       "       1.45082878e-01, 1.59228279e-01, 1.74752840e-01, 1.91791026e-01,\n",
       "       2.10490414e-01, 2.31012970e-01, 2.53536449e-01, 2.78255940e-01,\n",
       "       3.05385551e-01, 3.35160265e-01, 3.67837977e-01, 4.03701726e-01,\n",
       "       4.43062146e-01, 4.86260158e-01, 5.33669923e-01, 5.85702082e-01,\n",
       "       6.42807312e-01, 7.05...\n",
       "       1.70735265e+02, 1.87381742e+02, 2.05651231e+02, 2.25701972e+02,\n",
       "       2.47707636e+02, 2.71858824e+02, 2.98364724e+02, 3.27454916e+02,\n",
       "       3.59381366e+02, 3.94420606e+02, 4.32876128e+02, 4.75081016e+02,\n",
       "       5.21400829e+02, 5.72236766e+02, 6.28029144e+02, 6.89261210e+02,\n",
       "       7.56463328e+02, 8.30217568e+02, 9.11162756e+02, 1.00000000e+03]),\n",
       "                     cv=3, max_iter=200, random_state=27, scoring=&#x27;recall&#x27;)</pre><b>In a Jupyter environment, please rerun this cell to show the HTML representation or trust the notebook. <br />On GitHub, the HTML representation is unable to render, please try loading this page with nbviewer.org.</b></div><div class=\"sk-container\" hidden><div class=\"sk-item\"><div class=\"sk-estimator sk-toggleable\"><input class=\"sk-toggleable__control sk-hidden--visually\" id=\"sk-estimator-id-25\" type=\"checkbox\" checked><label for=\"sk-estimator-id-25\" class=\"sk-toggleable__label sk-toggleable__label-arrow\">LogisticRegressionCV</label><div class=\"sk-toggleable__content\"><pre>LogisticRegressionCV(Cs=array([1.00000000e-01, 1.09749877e-01, 1.20450354e-01, 1.32194115e-01,\n",
       "       1.45082878e-01, 1.59228279e-01, 1.74752840e-01, 1.91791026e-01,\n",
       "       2.10490414e-01, 2.31012970e-01, 2.53536449e-01, 2.78255940e-01,\n",
       "       3.05385551e-01, 3.35160265e-01, 3.67837977e-01, 4.03701726e-01,\n",
       "       4.43062146e-01, 4.86260158e-01, 5.33669923e-01, 5.85702082e-01,\n",
       "       6.42807312e-01, 7.05...\n",
       "       1.70735265e+02, 1.87381742e+02, 2.05651231e+02, 2.25701972e+02,\n",
       "       2.47707636e+02, 2.71858824e+02, 2.98364724e+02, 3.27454916e+02,\n",
       "       3.59381366e+02, 3.94420606e+02, 4.32876128e+02, 4.75081016e+02,\n",
       "       5.21400829e+02, 5.72236766e+02, 6.28029144e+02, 6.89261210e+02,\n",
       "       7.56463328e+02, 8.30217568e+02, 9.11162756e+02, 1.00000000e+03]),\n",
       "                     cv=3, max_iter=200, random_state=27, scoring=&#x27;recall&#x27;)</pre></div></div></div></div></div>"
      ],
      "text/plain": [
       "LogisticRegressionCV(Cs=array([1.00000000e-01, 1.09749877e-01, 1.20450354e-01, 1.32194115e-01,\n",
       "       1.45082878e-01, 1.59228279e-01, 1.74752840e-01, 1.91791026e-01,\n",
       "       2.10490414e-01, 2.31012970e-01, 2.53536449e-01, 2.78255940e-01,\n",
       "       3.05385551e-01, 3.35160265e-01, 3.67837977e-01, 4.03701726e-01,\n",
       "       4.43062146e-01, 4.86260158e-01, 5.33669923e-01, 5.85702082e-01,\n",
       "       6.42807312e-01, 7.05...\n",
       "       1.70735265e+02, 1.87381742e+02, 2.05651231e+02, 2.25701972e+02,\n",
       "       2.47707636e+02, 2.71858824e+02, 2.98364724e+02, 3.27454916e+02,\n",
       "       3.59381366e+02, 3.94420606e+02, 4.32876128e+02, 4.75081016e+02,\n",
       "       5.21400829e+02, 5.72236766e+02, 6.28029144e+02, 6.89261210e+02,\n",
       "       7.56463328e+02, 8.30217568e+02, 9.11162756e+02, 1.00000000e+03]),\n",
       "                     cv=3, max_iter=200, random_state=27, scoring='recall')"
      ]
     },
     "execution_count": 74,
     "metadata": {},
     "output_type": "execute_result"
    }
   ],
   "source": [
    "from sklearn.linear_model import LogisticRegressionCV\n",
    "\n",
    "cs = np.logspace(-1, 3, 100)\n",
    "log_reg_cv = LogisticRegressionCV(Cs=cs, \n",
    "                                  cv=3, \n",
    "                                  verbose=0, \n",
    "                                  max_iter=200,\n",
    "                                  scoring='recall',\n",
    "                                  random_state=27)\n",
    "log_reg_cv.fit(x_train, y_train)"
   ]
  },
  {
   "cell_type": "code",
   "execution_count": 75,
   "id": "b24f9436-bbf6-4f29-99fd-4732902b66b9",
   "metadata": {
    "tags": []
   },
   "outputs": [
    {
     "name": "stdout",
     "output_type": "stream",
     "text": [
      "best C: [572.23676594]\n",
      "LR recall with best params: 0.7389937106918238\n",
      "LR roc_auc with best params: 0.8404662695501628\n",
      "-------------------------------------------------\n",
      "              precision    recall  f1-score   support\n",
      "\n",
      "           0       0.88      0.94      0.91      1929\n",
      "           1       0.86      0.74      0.80       954\n",
      "\n",
      "    accuracy                           0.87      2883\n",
      "   macro avg       0.87      0.84      0.85      2883\n",
      "weighted avg       0.87      0.87      0.87      2883\n",
      "\n"
     ]
    }
   ],
   "source": [
    "print(f'best C: {log_reg_cv.C_}')\n",
    "\n",
    "y_pred_lr_best = log_reg_cv.predict(x_test)\n",
    "lr_recall_best = recall_score(y_test, y_pred_lr_best)\n",
    "lr_roc_auc_best = roc_auc_score(y_test, y_pred_lr_best)\n",
    "print(f'LR recall with best params: {lr_recall_best}')\n",
    "print(f'LR roc_auc with best params: {lr_roc_auc_best}')\n",
    "print('-------------------------------------------------')\n",
    "print(classification_report(y_test, y_pred_lr_best))"
   ]
  },
  {
   "cell_type": "code",
   "execution_count": null,
   "id": "29f71ecf-c7d6-448a-88ab-714a532fa3c7",
   "metadata": {},
   "outputs": [],
   "source": []
  },
  {
   "cell_type": "code",
   "execution_count": null,
   "id": "a9062777-91f4-46b9-a3f5-b7056eaf1d0e",
   "metadata": {},
   "outputs": [],
   "source": []
  },
  {
   "cell_type": "code",
   "execution_count": null,
   "id": "62212130-0d39-47b1-b4b1-bd2ac12c0cd5",
   "metadata": {},
   "outputs": [],
   "source": []
  },
  {
   "cell_type": "code",
   "execution_count": null,
   "id": "473592c0-3912-4dfb-97e3-02a09e0332a9",
   "metadata": {},
   "outputs": [],
   "source": []
  },
  {
   "cell_type": "code",
   "execution_count": null,
   "id": "60919b44-4342-4e75-8ef8-cfca47bbf590",
   "metadata": {},
   "outputs": [],
   "source": []
  },
  {
   "cell_type": "code",
   "execution_count": null,
   "id": "d56aa72a-1d54-4c02-9a9b-39b368253515",
   "metadata": {},
   "outputs": [],
   "source": []
  }
 ],
 "metadata": {
  "kernelspec": {
   "display_name": "Python 3 (ipykernel)",
   "language": "python",
   "name": "python3"
  },
  "language_info": {
   "codemirror_mode": {
    "name": "ipython",
    "version": 3
   },
   "file_extension": ".py",
   "mimetype": "text/x-python",
   "name": "python",
   "nbconvert_exporter": "python",
   "pygments_lexer": "ipython3",
   "version": "3.10.9"
  }
 },
 "nbformat": 4,
 "nbformat_minor": 5
}
