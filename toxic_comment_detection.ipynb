{
 "cells": [
  {
   "cell_type": "markdown",
   "id": "e4b1025a-425c-41da-aff0-c8b3e7ff4509",
   "metadata": {
    "tags": []
   },
   "source": [
    "# <center>_Toxic Comment Detection_</center>"
   ]
  },
  {
   "cell_type": "markdown",
   "id": "393f20c1-47e9-4657-86c0-88041715e540",
   "metadata": {
    "tags": []
   },
   "source": [
    "## _Loading Data_"
   ]
  },
  {
   "cell_type": "code",
   "execution_count": 1,
   "id": "ad06e03e-d49d-4859-af4e-9b7ddffb604b",
   "metadata": {
    "tags": []
   },
   "outputs": [],
   "source": [
    "import pandas as pd\n",
    "import numpy as np"
   ]
  },
  {
   "cell_type": "code",
   "execution_count": 2,
   "id": "bcebad79-0107-41f6-ac90-1c2e8c41858c",
   "metadata": {
    "tags": []
   },
   "outputs": [],
   "source": [
    "df = pd.read_csv(\"labeled.csv\", sep=\",\")\n",
    "df['toxic'] = df['toxic'].apply(int)"
   ]
  },
  {
   "cell_type": "markdown",
   "id": "06902601-3e0b-44ae-b217-3447d73d1ec8",
   "metadata": {},
   "source": [
    "___"
   ]
  },
  {
   "cell_type": "markdown",
   "id": "f7163cf5-02a2-432d-852c-3c3cb562bc3a",
   "metadata": {
    "tags": []
   },
   "source": [
    "## _EDA_"
   ]
  },
  {
   "cell_type": "code",
   "execution_count": 3,
   "id": "57617c75-38a9-47b6-9fac-f0b701eef4d8",
   "metadata": {
    "tags": []
   },
   "outputs": [
    {
     "data": {
      "text/plain": [
       "(14412, 2)"
      ]
     },
     "execution_count": 3,
     "metadata": {},
     "output_type": "execute_result"
    }
   ],
   "source": [
    "df.shape"
   ]
  },
  {
   "cell_type": "code",
   "execution_count": 4,
   "id": "fb9f4e54-9c97-43bd-826d-4d5fe34ceb05",
   "metadata": {
    "tags": []
   },
   "outputs": [
    {
     "data": {
      "text/plain": [
       "0    9586\n",
       "1    4826\n",
       "Name: toxic, dtype: int64"
      ]
     },
     "execution_count": 4,
     "metadata": {},
     "output_type": "execute_result"
    }
   ],
   "source": [
    "df['toxic'].value_counts()"
   ]
  },
  {
   "cell_type": "code",
   "execution_count": 5,
   "id": "77cd272b-4d0d-45d2-b44c-44a6c823d8a8",
   "metadata": {
    "tags": []
   },
   "outputs": [
    {
     "data": {
      "text/plain": [
       "0                     Верблюдов-то за что? Дебилы, бл...\\n\n",
       "1        Хохлы, это отдушина затюканого россиянина, мол...\n",
       "2                                Собаке - собачья смерть\\n\n",
       "3        Страницу обнови, дебил. Это тоже не оскорблени...\n",
       "4        тебя не убедил 6-страничный пдф в том, что Скр...\n",
       "                               ...                        \n",
       "14404    ЖЕНЩИНА это ВЕНЕЦ ТВОРЕНИЯ, помните это ваньки...\n",
       "14405    Сейчас все авиакомпании мира вместе со специал...\n",
       "14407    Вонючий совковый скот прибежал и ноет. А вот и...\n",
       "14408    А кого любить? Гоблина тупорылого что-ли? Или ...\n",
       "14410    КРЫМОТРЕД НАРУШАЕТ ПРАВИЛА РАЗДЕЛА Т.К В НЕМ Н...\n",
       "Name: comment, Length: 4826, dtype: object"
      ]
     },
     "execution_count": 5,
     "metadata": {},
     "output_type": "execute_result"
    }
   ],
   "source": [
    "df.query('toxic == 1')['comment']"
   ]
  },
  {
   "cell_type": "code",
   "execution_count": 6,
   "id": "c30eccdb-a995-4d23-83cc-e3cb219a301c",
   "metadata": {
    "tags": []
   },
   "outputs": [
    {
     "data": {
      "text/plain": [
       "6        В шапке были ссылки на инфу по текущему фильму...\n",
       "12       Почитайте посты у этого автора,может найдете ч...\n",
       "17       Про графику было обидно) я так то проходил все...\n",
       "28       https: pp.userapi.com c848520 v848520411 11627...\n",
       "35       Возьмём как пример Россию, западноевропейские ...\n",
       "                               ...                        \n",
       "14392    ТАСС, 21 марта. Премьер-министр Новой Зеландии...\n",
       "14399    65 А чего так мало? Вот у гражданина был рейти...\n",
       "14406    Потому что запад прошел эту хуйню еще пару сот...\n",
       "14409    Посмотрел Утомленных солнцем 2. И оказалось, ч...\n",
       "14411    До сих пор пересматриваю его видео. Орамбо кст...\n",
       "Name: comment, Length: 9586, dtype: object"
      ]
     },
     "execution_count": 6,
     "metadata": {},
     "output_type": "execute_result"
    }
   ],
   "source": [
    "df.query('toxic == 0')['comment']"
   ]
  },
  {
   "cell_type": "code",
   "execution_count": 7,
   "id": "9e76d32b-f7f1-4828-8b10-490233bf7ec7",
   "metadata": {
    "tags": []
   },
   "outputs": [],
   "source": [
    "import nltk\n",
    "import string\n",
    "from nltk.corpus import stopwords\n",
    "from nltk.tokenize import word_tokenize\n",
    "from nltk.stem import SnowballStemmer\n",
    "# nltk.download('punkt')\n",
    "# nltk.download('stopwords')\n",
    "\n",
    "stemmer = SnowballStemmer(language='russian')\n",
    "russian_stop_words = stopwords.words('russian')\n",
    "\n",
    "def tokenize_sentence(sentence: str, remove_stop_words: bool=True):\n",
    "    \"\"\"Преобразует предложения в токены.\n",
    "    По шагам:\n",
    "    1) Токенизация - разбиение текста на отдельные слова и знаки пунктуации\n",
    "    2) Удаляем знаки пунктуации\n",
    "    3) Удаляем стоп-слова (часто используемые, не несущие смысловой нагрузки)\n",
    "    4) Стемминг (stem - корень) - удаление окончаний и приведение к нижнему регистру\n",
    "    \"\"\"\n",
    "    tokens = word_tokenize(sentence, language='russian')\n",
    "    tokens = [i for i in tokens if i not in string.punctuation]\n",
    "    if remove_stop_words:\n",
    "        tokens = [i for i in tokens if i not in russian_stop_words]\n",
    "    tokens = [stemmer.stem(i) for i in tokens]\n",
    "    return tokens"
   ]
  },
  {
   "cell_type": "code",
   "execution_count": 8,
   "id": "6c1dba93-1ac1-4dc3-aa1f-6687cb5a21d7",
   "metadata": {
    "tags": []
   },
   "outputs": [
    {
     "data": {
      "text/plain": [
       "'Хохлы, это отдушина затюканого россиянина, мол, вон, а у хохлов еще хуже. Если бы хохлов не было, кисель их бы придумал.\\n'"
      ]
     },
     "execution_count": 8,
     "metadata": {},
     "output_type": "execute_result"
    }
   ],
   "source": [
    "example = df.loc[1]['comment']\n",
    "example"
   ]
  },
  {
   "cell_type": "code",
   "execution_count": 9,
   "id": "b830219a-be05-452a-b1f9-01ef5da3cfff",
   "metadata": {
    "tags": []
   },
   "outputs": [
    {
     "data": {
      "text/plain": [
       "['хохл',\n",
       " 'эт',\n",
       " 'отдушин',\n",
       " 'затюкан',\n",
       " 'россиянин',\n",
       " 'мол',\n",
       " 'вон',\n",
       " 'хохл',\n",
       " 'хуж',\n",
       " 'есл',\n",
       " 'хохл',\n",
       " 'кисел',\n",
       " 'придума']"
      ]
     },
     "execution_count": 9,
     "metadata": {},
     "output_type": "execute_result"
    }
   ],
   "source": [
    "tokenize_sentence(example)"
   ]
  },
  {
   "cell_type": "code",
   "execution_count": 10,
   "id": "251f692f-d55a-4419-a156-d109254ac18a",
   "metadata": {
    "tags": []
   },
   "outputs": [],
   "source": [
    "from sklearn.feature_extraction.text import TfidfVectorizer\n",
    "\n",
    "vectorizer = TfidfVectorizer(tokenizer=lambda x: tokenize_sentence(x, remove_stop_words=True), \n",
    "                             token_pattern=None)"
   ]
  },
  {
   "cell_type": "code",
   "execution_count": 11,
   "id": "17e671dd-dd76-4c53-81df-dea08f148739",
   "metadata": {
    "tags": []
   },
   "outputs": [],
   "source": [
    "from sklearn.model_selection import train_test_split\n",
    "\n",
    "features, labels = df['comment'], df['toxic']\n",
    "x_train, x_test, y_train, y_test = train_test_split(features, \n",
    "                                                    labels, \n",
    "                                                    test_size=0.2, \n",
    "                                                    random_state=0)"
   ]
  },
  {
   "cell_type": "markdown",
   "id": "9c1dc382-9408-46c1-b43a-3ba6854cda64",
   "metadata": {
    "tags": []
   },
   "source": [
    "___"
   ]
  },
  {
   "cell_type": "markdown",
   "id": "03885aaf-0607-4a8b-be62-e54968e8279f",
   "metadata": {
    "tags": []
   },
   "source": [
    "## _Testing Different Models_"
   ]
  },
  {
   "cell_type": "code",
   "execution_count": 12,
   "id": "bdad6dd5-e54c-45ea-b695-bb3cd21096c8",
   "metadata": {
    "tags": []
   },
   "outputs": [],
   "source": [
    "from sklearn.neighbors import KNeighborsClassifier\n",
    "from sklearn.tree import DecisionTreeClassifier\n",
    "from sklearn.linear_model import LogisticRegression, SGDClassifier\n",
    "from sklearn.metrics import recall_score, precision_score, roc_auc_score\n",
    "from sklearn.tree import DecisionTreeClassifier\n",
    "from sklearn.ensemble import RandomForestClassifier\n",
    "from sklearn.pipeline import Pipeline"
   ]
  },
  {
   "cell_type": "code",
   "execution_count": 13,
   "id": "ca5c259d-0891-490f-8cea-8908ae474550",
   "metadata": {
    "tags": []
   },
   "outputs": [],
   "source": [
    "models = {'kNN': KNeighborsClassifier(),\n",
    "          'LogisticRegression': LogisticRegression(),\n",
    "          'DecisionTree': DecisionTreeClassifier(), \n",
    "          'SGDClassifier': SGDClassifier(loss='log_loss')}"
   ]
  },
  {
   "cell_type": "code",
   "execution_count": 14,
   "id": "73a94cb2-caa3-4c57-8ac6-c9b6f11563e5",
   "metadata": {
    "tags": []
   },
   "outputs": [],
   "source": [
    "def models_report(models, x_train, x_test, y_train, y_test):\n",
    "    report = pd.DataFrame()\n",
    "    for model in models:\n",
    "        model_pipeline = Pipeline([('vectorizer', vectorizer), \n",
    "                                   ('model', models[model])])\n",
    "        model_pipeline.fit(x_train, y_train)\n",
    "        y_pred = model_pipeline.predict(x_test)\n",
    "        report.loc[model, 'Precision'] = precision_score(y_test, y_pred)\n",
    "        report.loc[model, 'Recall'] = recall_score(y_test, y_pred)\n",
    "        report.loc[model, 'ROC-AUC'] = roc_auc_score(y_test, y_pred)\n",
    "    return report"
   ]
  },
  {
   "cell_type": "code",
   "execution_count": 15,
   "id": "160daa7d-251f-4bb3-a55b-fb545239df1d",
   "metadata": {
    "tags": []
   },
   "outputs": [
    {
     "data": {
      "text/html": [
       "<div>\n",
       "<style scoped>\n",
       "    .dataframe tbody tr th:only-of-type {\n",
       "        vertical-align: middle;\n",
       "    }\n",
       "\n",
       "    .dataframe tbody tr th {\n",
       "        vertical-align: top;\n",
       "    }\n",
       "\n",
       "    .dataframe thead th {\n",
       "        text-align: right;\n",
       "    }\n",
       "</style>\n",
       "<table border=\"1\" class=\"dataframe\">\n",
       "  <thead>\n",
       "    <tr style=\"text-align: right;\">\n",
       "      <th></th>\n",
       "      <th>Precision</th>\n",
       "      <th>Recall</th>\n",
       "      <th>ROC-AUC</th>\n",
       "    </tr>\n",
       "  </thead>\n",
       "  <tbody>\n",
       "    <tr>\n",
       "      <th>kNN</th>\n",
       "      <td>0.820724</td>\n",
       "      <td>0.517098</td>\n",
       "      <td>0.730134</td>\n",
       "    </tr>\n",
       "    <tr>\n",
       "      <th>LogisticRegression</th>\n",
       "      <td>0.914504</td>\n",
       "      <td>0.620725</td>\n",
       "      <td>0.795764</td>\n",
       "    </tr>\n",
       "    <tr>\n",
       "      <th>DecisionTree</th>\n",
       "      <td>0.687209</td>\n",
       "      <td>0.612435</td>\n",
       "      <td>0.736092</td>\n",
       "    </tr>\n",
       "    <tr>\n",
       "      <th>SGDClassifier</th>\n",
       "      <td>0.913447</td>\n",
       "      <td>0.612435</td>\n",
       "      <td>0.791619</td>\n",
       "    </tr>\n",
       "  </tbody>\n",
       "</table>\n",
       "</div>"
      ],
      "text/plain": [
       "                    Precision    Recall   ROC-AUC\n",
       "kNN                  0.820724  0.517098  0.730134\n",
       "LogisticRegression   0.914504  0.620725  0.795764\n",
       "DecisionTree         0.687209  0.612435  0.736092\n",
       "SGDClassifier        0.913447  0.612435  0.791619"
      ]
     },
     "execution_count": 15,
     "metadata": {},
     "output_type": "execute_result"
    }
   ],
   "source": [
    "models_report(models, x_train, x_test, y_train, y_test)"
   ]
  },
  {
   "cell_type": "markdown",
   "id": "6f410518-3331-4cc2-bdd2-bdddbd7e5a6d",
   "metadata": {},
   "source": [
    "___"
   ]
  },
  {
   "cell_type": "code",
   "execution_count": 16,
   "id": "62963207-be21-4d84-a2dc-fed1e47cb73f",
   "metadata": {
    "tags": []
   },
   "outputs": [],
   "source": [
    "from sklearn.model_selection import GridSearchCV\n",
    "from sklearn.metrics import classification_report"
   ]
  },
  {
   "cell_type": "markdown",
   "id": "e6837097-df25-4cb8-975a-5d010b2bb8ac",
   "metadata": {
    "tags": []
   },
   "source": [
    "## _kNN_"
   ]
  },
  {
   "cell_type": "code",
   "execution_count": 24,
   "id": "2d5f8199-9aa0-40d2-8a1c-8c8c6ea65f5a",
   "metadata": {
    "tags": []
   },
   "outputs": [
    {
     "name": "stdout",
     "output_type": "stream",
     "text": [
      "best params: {'n_neighbors': 15}\n",
      "best score: 0.8221007893139042\n",
      "              precision    recall  f1-score   support\n",
      "\n",
      "           0       0.81      0.96      0.88      1918\n",
      "           1       0.88      0.55      0.68       965\n",
      "\n",
      "    accuracy                           0.82      2883\n",
      "   macro avg       0.84      0.76      0.78      2883\n",
      "weighted avg       0.83      0.82      0.81      2883\n",
      "\n"
     ]
    }
   ],
   "source": [
    "knn_grid = GridSearchCV(KNeighborsClassifier(), \n",
    "                        param_grid={'n_neighbors': range(10, 21)}, \n",
    "                        verbose=0,\n",
    "                        cv=3)\n",
    "knn_pipeline = Pipeline([('vectorizer', vectorizer), \n",
    "                         ('model', knn_grid)])\n",
    "knn_pipeline.fit(x_train, y_train)\n",
    "\n",
    "print(f'best params: {knn_grid.best_params_}')\n",
    "print(f'best score: {knn_grid.best_score_}')\n",
    "print(classification_report(y_test, knn_pipeline.predict(x_test)))"
   ]
  },
  {
   "cell_type": "markdown",
   "id": "ce91e2c7-dc7b-4540-abde-10df2212b921",
   "metadata": {},
   "source": [
    "___"
   ]
  },
  {
   "cell_type": "markdown",
   "id": "d75a7540-5482-42d7-b0d4-0c9f1b71b97e",
   "metadata": {
    "tags": []
   },
   "source": [
    "## _Logistic Regression_"
   ]
  },
  {
   "cell_type": "code",
   "execution_count": 25,
   "id": "f83ee15e-50c8-408a-878c-5cb08589a162",
   "metadata": {
    "tags": []
   },
   "outputs": [
    {
     "name": "stdout",
     "output_type": "stream",
     "text": [
      "best params: {'C': 9.23670857187386}\n",
      "best score: 0.860699106600746\n",
      "              precision    recall  f1-score   support\n",
      "\n",
      "           0       0.87      0.95      0.91      1918\n",
      "           1       0.87      0.73      0.80       965\n",
      "\n",
      "    accuracy                           0.87      2883\n",
      "   macro avg       0.87      0.84      0.85      2883\n",
      "weighted avg       0.87      0.87      0.87      2883\n",
      "\n"
     ]
    }
   ],
   "source": [
    "lr_grid = GridSearchCV(LogisticRegression(max_iter=300), \n",
    "                       param_grid={'C': np.logspace(-1, 2, 30)}, \n",
    "                       verbose=0,\n",
    "                       cv=3)\n",
    "lr_pipeline = Pipeline([('vectorizer', vectorizer), \n",
    "                        ('model', lr_grid)])\n",
    "lr_pipeline.fit(x_train, y_train)\n",
    "\n",
    "print(f'best params: {lr_grid.best_params_}')\n",
    "print(f'best score: {lr_grid.best_score_}')\n",
    "print(classification_report(y_test, lr_pipeline.predict(x_test)))"
   ]
  },
  {
   "cell_type": "code",
   "execution_count": 26,
   "id": "29f71ecf-c7d6-448a-88ab-714a532fa3c7",
   "metadata": {},
   "outputs": [],
   "source": [
    "from sklearn.metrics import precision_recall_curve\n",
    "\n",
    "pr, rc, ths = precision_recall_curve(y_true=y_test, \n",
    "                                     probas_pred=lr_pipeline.predict_proba(x_test)[:,1])"
   ]
  },
  {
   "cell_type": "code",
   "execution_count": 27,
   "id": "a9062777-91f4-46b9-a3f5-b7056eaf1d0e",
   "metadata": {},
   "outputs": [
    {
     "data": {
      "text/plain": [
       "[<matplotlib.lines.Line2D at 0x1f919165210>]"
      ]
     },
     "execution_count": 27,
     "metadata": {},
     "output_type": "execute_result"
    },
    {
     "data": {
      "image/png": "[encoded data removed]",
      "text/plain": [
       "<Figure size 400x300 with 1 Axes>"
      ]
     },
     "metadata": {},
     "output_type": "display_data"
    }
   ],
   "source": [
    "from matplotlib import pyplot as plt\n",
    "%matplotlib inline\n",
    "\n",
    "plt.figure(figsize=(4, 3))\n",
    "plt.plot(rc, pr)"
   ]
  },
  {
   "cell_type": "code",
   "execution_count": 28,
   "id": "62212130-0d39-47b1-b4b1-bd2ac12c0cd5",
   "metadata": {
    "tags": []
   },
   "outputs": [
    {
     "name": "stdout",
     "output_type": "stream",
     "text": [
      "Precision: 0.9528907922912205\n",
      "   Recall: 0.46113989637305697\n"
     ]
    }
   ],
   "source": [
    "pr_index = np.where(pr > 0.95)[0][0]\n",
    "threshold = ths[pr_index].round(4)\n",
    "probas = (lr_pipeline.predict_proba(x_test)[:,1] > threshold)\n",
    "print(f'Precision: {precision_score(y_test, probas)}')\n",
    "print(f'   Recall: {recall_score(y_test, probas)}')"
   ]
  },
  {
   "cell_type": "code",
   "execution_count": 29,
   "id": "65cd621d-851e-4ad0-8cf2-41a7e2b7281e",
   "metadata": {
    "tags": []
   },
   "outputs": [
    {
     "data": {
      "text/plain": [
       "0.8219"
      ]
     },
     "execution_count": 29,
     "metadata": {},
     "output_type": "execute_result"
    }
   ],
   "source": [
    "threshold"
   ]
  },
  {
   "cell_type": "code",
   "execution_count": null,
   "id": "52a68980-2d05-425a-8f1f-611af66cd39f",
   "metadata": {},
   "outputs": [],
   "source": []
  },
  {
   "cell_type": "markdown",
   "id": "a2b793c5-e271-4835-b8dc-feda63072702",
   "metadata": {},
   "source": [
    "___"
   ]
  },
  {
   "cell_type": "markdown",
   "id": "259f8192-837b-4771-bb13-04bf15fa58fb",
   "metadata": {},
   "source": [
    "## _Gradient Descent_"
   ]
  },
  {
   "cell_type": "code",
   "execution_count": 42,
   "id": "14d2f062-d8c3-42a8-9823-4a7015aba716",
   "metadata": {},
   "outputs": [
    {
     "name": "stdout",
     "output_type": "stream",
     "text": [
      "best params: {'alpha': 0.00028, 'learning_rate': 'optimal'}\n",
      "best score: 0.7864516031930284\n",
      "              precision    recall  f1-score   support\n",
      "\n",
      "           0       0.78      0.99      0.87      1918\n",
      "           1       0.95      0.45      0.61       965\n",
      "\n",
      "    accuracy                           0.81      2883\n",
      "   macro avg       0.86      0.72      0.74      2883\n",
      "weighted avg       0.84      0.81      0.78      2883\n",
      "\n"
     ]
    }
   ],
   "source": [
    "sgd_grid = GridSearchCV(SGDClassifier(loss='log_loss', early_stopping=True, validation_fraction=0.2, random_state=0), \n",
    "                        param_grid={'learning_rate': ['optimal'], \n",
    "                                    'alpha' : [0.00028, 0.001, 0.01]}, \n",
    "                        cv=5)\n",
    "sgd_pipeline = Pipeline([('vectorizer', vectorizer), \n",
    "                         ('model', sgd_grid)])\n",
    "sgd_pipeline.fit(x_train, y_train)\n",
    "print(f'best params: {sgd_grid.best_params_}')\n",
    "print(f'best score: {sgd_grid.best_score_}')\n",
    "print(classification_report(y_test, sgd_pipeline.predict(x_test)))"
   ]
  },
  {
   "cell_type": "code",
   "execution_count": null,
   "id": "ada1076b-2a63-417d-b20b-53e7e6229324",
   "metadata": {},
   "outputs": [],
   "source": []
  },
  {
   "cell_type": "markdown",
   "id": "b7988c2b-170d-4de2-b171-026543a1d331",
   "metadata": {
    "tags": []
   },
   "source": [
    "___"
   ]
  },
  {
   "cell_type": "markdown",
   "id": "3b6bd966-25fb-4a0c-a6b2-926fa1fb45a3",
   "metadata": {
    "tags": []
   },
   "source": [
    "## _Decision Tree_"
   ]
  },
  {
   "cell_type": "code",
   "execution_count": null,
   "id": "26d0c07b-872d-49c9-9d1a-b25f937c3fda",
   "metadata": {},
   "outputs": [],
   "source": []
  },
  {
   "cell_type": "code",
   "execution_count": null,
   "id": "33537885-36da-4a80-81a7-81fac0d5ff5a",
   "metadata": {},
   "outputs": [],
   "source": []
  },
  {
   "cell_type": "code",
   "execution_count": null,
   "id": "fc48efab-3b4b-409a-ab71-e1036e5921e3",
   "metadata": {},
   "outputs": [],
   "source": []
  },
  {
   "cell_type": "markdown",
   "id": "ba693250-138e-4f3b-bca4-7a9fcac1d127",
   "metadata": {},
   "source": [
    "___"
   ]
  },
  {
   "cell_type": "markdown",
   "id": "a147360d-07b5-4b23-a9cc-3416c35bdefb",
   "metadata": {},
   "source": [
    "## _Random Forest_"
   ]
  },
  {
   "cell_type": "code",
   "execution_count": null,
   "id": "c1807539-6356-4781-a6e8-506414b437e8",
   "metadata": {},
   "outputs": [],
   "source": []
  },
  {
   "cell_type": "code",
   "execution_count": null,
   "id": "271829f2-ea60-4654-8043-0e1f69a1c0b8",
   "metadata": {},
   "outputs": [],
   "source": []
  },
  {
   "cell_type": "code",
   "execution_count": null,
   "id": "c59ef79f-aa4c-44cc-9abd-63d0cbbf7690",
   "metadata": {},
   "outputs": [],
   "source": []
  },
  {
   "cell_type": "markdown",
   "id": "1b7d0e0e-a74c-4195-8152-a211fed09773",
   "metadata": {},
   "source": [
    "___"
   ]
  },
  {
   "cell_type": "markdown",
   "id": "76362481-e94b-4ebe-a0ef-dc5a2af05ffe",
   "metadata": {},
   "source": []
  },
  {
   "cell_type": "code",
   "execution_count": null,
   "id": "f5c0573c-56d2-4874-b580-668f5d0a1b2c",
   "metadata": {},
   "outputs": [],
   "source": []
  },
  {
   "cell_type": "code",
   "execution_count": null,
   "id": "b91c8375-7839-4daf-b647-2c6b8b10d439",
   "metadata": {},
   "outputs": [],
   "source": []
  },
  {
   "cell_type": "code",
   "execution_count": null,
   "id": "d81ac73d-a40f-4ed8-a029-5976eee76db1",
   "metadata": {},
   "outputs": [],
   "source": []
  }
 ],
 "metadata": {
  "kernelspec": {
   "display_name": "Python 3 (ipykernel)",
   "language": "python",
   "name": "python3"
  },
  "language_info": {
   "codemirror_mode": {
    "name": "ipython",
    "version": 3
   },
   "file_extension": ".py",
   "mimetype": "text/x-python",
   "name": "python",
   "nbconvert_exporter": "python",
   "pygments_lexer": "ipython3",
   "version": "3.10.9"
  }
 },
 "nbformat": 4,
 "nbformat_minor": 5
}
