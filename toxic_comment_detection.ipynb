{
 "cells": [
  {
   "cell_type": "markdown",
   "id": "e4b1025a-425c-41da-aff0-c8b3e7ff4509",
   "metadata": {
    "tags": []
   },
   "source": [
    "# <center>_Toxic Comment Detection_</center>"
   ]
  },
  {
   "cell_type": "markdown",
   "id": "393f20c1-47e9-4657-86c0-88041715e540",
   "metadata": {
    "tags": []
   },
   "source": [
    "## _Loading Data_"
   ]
  },
  {
   "cell_type": "code",
   "execution_count": 1,
   "id": "ad06e03e-d49d-4859-af4e-9b7ddffb604b",
   "metadata": {
    "tags": []
   },
   "outputs": [],
   "source": [
    "import pandas as pd\n",
    "import numpy as np"
   ]
  },
  {
   "cell_type": "code",
   "execution_count": 2,
   "id": "bcebad79-0107-41f6-ac90-1c2e8c41858c",
   "metadata": {
    "tags": []
   },
   "outputs": [],
   "source": [
    "df = pd.read_csv(\"labeled.csv\", sep=\",\")\n",
    "df['toxic'] = df['toxic'].apply(int)"
   ]
  },
  {
   "cell_type": "markdown",
   "id": "06902601-3e0b-44ae-b217-3447d73d1ec8",
   "metadata": {},
   "source": [
    "___"
   ]
  },
  {
   "cell_type": "markdown",
   "id": "f7163cf5-02a2-432d-852c-3c3cb562bc3a",
   "metadata": {
    "tags": []
   },
   "source": [
    "## _EDA_"
   ]
  },
  {
   "cell_type": "code",
   "execution_count": 3,
   "id": "57617c75-38a9-47b6-9fac-f0b701eef4d8",
   "metadata": {
    "tags": []
   },
   "outputs": [
    {
     "data": {
      "text/plain": [
       "(14412, 2)"
      ]
     },
     "execution_count": 3,
     "metadata": {},
     "output_type": "execute_result"
    }
   ],
   "source": [
    "df.shape"
   ]
  },
  {
   "cell_type": "code",
   "execution_count": 4,
   "id": "fb9f4e54-9c97-43bd-826d-4d5fe34ceb05",
   "metadata": {
    "tags": []
   },
   "outputs": [
    {
     "data": {
      "text/plain": [
       "0    9586\n",
       "1    4826\n",
       "Name: toxic, dtype: int64"
      ]
     },
     "execution_count": 4,
     "metadata": {},
     "output_type": "execute_result"
    }
   ],
   "source": [
    "df['toxic'].value_counts()"
   ]
  },
  {
   "cell_type": "code",
   "execution_count": 5,
   "id": "77cd272b-4d0d-45d2-b44c-44a6c823d8a8",
   "metadata": {
    "tags": []
   },
   "outputs": [
    {
     "data": {
      "text/plain": [
       "0                     Верблюдов-то за что? Дебилы, бл...\\n\n",
       "1        Хохлы, это отдушина затюканого россиянина, мол...\n",
       "2                                Собаке - собачья смерть\\n\n",
       "3        Страницу обнови, дебил. Это тоже не оскорблени...\n",
       "4        тебя не убедил 6-страничный пдф в том, что Скр...\n",
       "                               ...                        \n",
       "14404    ЖЕНЩИНА это ВЕНЕЦ ТВОРЕНИЯ, помните это ваньки...\n",
       "14405    Сейчас все авиакомпании мира вместе со специал...\n",
       "14407    Вонючий совковый скот прибежал и ноет. А вот и...\n",
       "14408    А кого любить? Гоблина тупорылого что-ли? Или ...\n",
       "14410    КРЫМОТРЕД НАРУШАЕТ ПРАВИЛА РАЗДЕЛА Т.К В НЕМ Н...\n",
       "Name: comment, Length: 4826, dtype: object"
      ]
     },
     "execution_count": 5,
     "metadata": {},
     "output_type": "execute_result"
    }
   ],
   "source": [
    "df.query('toxic == 1')['comment']"
   ]
  },
  {
   "cell_type": "code",
   "execution_count": 6,
   "id": "c30eccdb-a995-4d23-83cc-e3cb219a301c",
   "metadata": {
    "tags": []
   },
   "outputs": [
    {
     "data": {
      "text/plain": [
       "6        В шапке были ссылки на инфу по текущему фильму...\n",
       "12       Почитайте посты у этого автора,может найдете ч...\n",
       "17       Про графику было обидно) я так то проходил все...\n",
       "28       https: pp.userapi.com c848520 v848520411 11627...\n",
       "35       Возьмём как пример Россию, западноевропейские ...\n",
       "                               ...                        \n",
       "14392    ТАСС, 21 марта. Премьер-министр Новой Зеландии...\n",
       "14399    65 А чего так мало? Вот у гражданина был рейти...\n",
       "14406    Потому что запад прошел эту хуйню еще пару сот...\n",
       "14409    Посмотрел Утомленных солнцем 2. И оказалось, ч...\n",
       "14411    До сих пор пересматриваю его видео. Орамбо кст...\n",
       "Name: comment, Length: 9586, dtype: object"
      ]
     },
     "execution_count": 6,
     "metadata": {},
     "output_type": "execute_result"
    }
   ],
   "source": [
    "df.query('toxic == 0')['comment']"
   ]
  },
  {
   "cell_type": "code",
   "execution_count": 7,
   "id": "9e76d32b-f7f1-4828-8b10-490233bf7ec7",
   "metadata": {
    "tags": []
   },
   "outputs": [],
   "source": [
    "import nltk\n",
    "import string\n",
    "from nltk.corpus import stopwords\n",
    "from nltk.tokenize import word_tokenize\n",
    "from nltk.stem import SnowballStemmer\n",
    "# nltk.download('punkt')\n",
    "# nltk.download('stopwords')\n",
    "\n",
    "stemmer = SnowballStemmer(language='russian')\n",
    "russian_stop_words = stopwords.words('russian')\n",
    "\n",
    "def tokenize_sentence(sentence: str, remove_stop_words: bool=True):\n",
    "    \"\"\"Преобразует предложения в токены.\n",
    "    По шагам:\n",
    "    1) Токенизация - разбиение текста на отдельные слова и знаки пунктуации\n",
    "    2) Удаляем знаки пунктуации\n",
    "    3) Удаляем стоп-слова (часто используемые, не несущие смысловой нагрузки)\n",
    "    4) Стемминг (stem - корень) - удаление окончаний и приведение к нижнему регистру\n",
    "    \"\"\"\n",
    "    tokens = word_tokenize(sentence, language='russian')\n",
    "    tokens = [i for i in tokens if i not in string.punctuation]\n",
    "    if remove_stop_words:\n",
    "        tokens = [i for i in tokens if i not in russian_stop_words]\n",
    "    tokens = [stemmer.stem(i) for i in tokens]\n",
    "    return tokens"
   ]
  },
  {
   "cell_type": "code",
   "execution_count": 8,
   "id": "6c1dba93-1ac1-4dc3-aa1f-6687cb5a21d7",
   "metadata": {
    "tags": []
   },
   "outputs": [
    {
     "data": {
      "text/plain": [
       "'Хохлы, это отдушина затюканого россиянина, мол, вон, а у хохлов еще хуже. Если бы хохлов не было, кисель их бы придумал.\\n'"
      ]
     },
     "execution_count": 8,
     "metadata": {},
     "output_type": "execute_result"
    }
   ],
   "source": [
    "example = df.loc[1]['comment']\n",
    "example"
   ]
  },
  {
   "cell_type": "code",
   "execution_count": 9,
   "id": "b830219a-be05-452a-b1f9-01ef5da3cfff",
   "metadata": {
    "tags": []
   },
   "outputs": [
    {
     "data": {
      "text/plain": [
       "['хохл',\n",
       " 'эт',\n",
       " 'отдушин',\n",
       " 'затюкан',\n",
       " 'россиянин',\n",
       " 'мол',\n",
       " 'вон',\n",
       " 'хохл',\n",
       " 'хуж',\n",
       " 'есл',\n",
       " 'хохл',\n",
       " 'кисел',\n",
       " 'придума']"
      ]
     },
     "execution_count": 9,
     "metadata": {},
     "output_type": "execute_result"
    }
   ],
   "source": [
    "tokenize_sentence(example)"
   ]
  },
  {
   "cell_type": "code",
   "execution_count": 10,
   "id": "251f692f-d55a-4419-a156-d109254ac18a",
   "metadata": {
    "tags": []
   },
   "outputs": [],
   "source": [
    "from sklearn.feature_extraction.text import TfidfVectorizer\n",
    "\n",
    "vectorizer = TfidfVectorizer(tokenizer=lambda x: tokenize_sentence(x, remove_stop_words=True))"
   ]
  },
  {
   "cell_type": "code",
   "execution_count": 11,
   "id": "17e671dd-dd76-4c53-81df-dea08f148739",
   "metadata": {
    "tags": []
   },
   "outputs": [
    {
     "name": "stderr",
     "output_type": "stream",
     "text": [
      "C:\\Python310\\lib\\site-packages\\sklearn\\feature_extraction\\text.py:528: UserWarning: The parameter 'token_pattern' will not be used since 'tokenizer' is not None'\n",
      "  warnings.warn(\n"
     ]
    }
   ],
   "source": [
    "from sklearn.model_selection import train_test_split\n",
    "\n",
    "features, labels = df['comment'], df['toxic']\n",
    "features = vectorizer.fit_transform(features)\n",
    "x_train, x_test, y_train, y_test = train_test_split(features, \n",
    "                                                   labels, \n",
    "                                                   test_size=0.2, \n",
    "                                                   random_state=0)"
   ]
  },
  {
   "cell_type": "markdown",
   "id": "9c1dc382-9408-46c1-b43a-3ba6854cda64",
   "metadata": {
    "tags": []
   },
   "source": [
    "___"
   ]
  },
  {
   "cell_type": "markdown",
   "id": "03885aaf-0607-4a8b-be62-e54968e8279f",
   "metadata": {
    "tags": []
   },
   "source": [
    "## _Testing Different Models_"
   ]
  },
  {
   "cell_type": "code",
   "execution_count": 12,
   "id": "bdad6dd5-e54c-45ea-b695-bb3cd21096c8",
   "metadata": {
    "tags": []
   },
   "outputs": [],
   "source": [
    "from sklearn.neighbors import KNeighborsClassifier\n",
    "from sklearn.tree import DecisionTreeClassifier\n",
    "from sklearn.linear_model import LogisticRegression, SGDClassifier\n",
    "from sklearn.metrics import recall_score, precision_score, roc_auc_score\n",
    "from sklearn.tree import DecisionTreeClassifier\n",
    "from sklearn.ensemble import RandomForestClassifier"
   ]
  },
  {
   "cell_type": "code",
   "execution_count": 158,
   "id": "de167a0b-d072-4745-bc0b-cac6baf4ef78",
   "metadata": {},
   "outputs": [],
   "source": [
    "def model_testing(clf, x_train, y_train, x_test, y_test):\n",
    "    model = clf.fit(x_train, y_train)\n",
    "    y_pred = model.predict(x_test)\n",
    "    prec, rc, roc_auc = precision_score(y_test, y_pred), recall_score(y_test, y_pred), roc_auc_score(y_test, y_pred)\n",
    "    print(f'Precision: {prec}\\n   Recall: {rc}\\n  ROC-AUC: {roc_auc}')"
   ]
  },
  {
   "cell_type": "code",
   "execution_count": 140,
   "id": "f49f589e-4277-4de2-8f27-8f11f781fe5e",
   "metadata": {
    "tags": []
   },
   "outputs": [
    {
     "name": "stdout",
     "output_type": "stream",
     "text": [
      "Precision: 0.8192182410423453\n",
      "   Recall: 0.5212435233160622\n",
      "  ROC-AUC: 0.7316853695829529\n"
     ]
    }
   ],
   "source": [
    "model_testing(KNeighborsClassifier(), x_train, y_train, x_test, y_test)"
   ]
  },
  {
   "cell_type": "code",
   "execution_count": 135,
   "id": "11df17bb-fbfc-408d-b405-523b494bbaa9",
   "metadata": {
    "tags": []
   },
   "outputs": [
    {
     "name": "stdout",
     "output_type": "stream",
     "text": [
      "Precision: 0.9160063391442155\n",
      "   Recall: 0.5989637305699482\n",
      "  ROC-AUC: 0.7856653897896665\n"
     ]
    }
   ],
   "source": [
    "model_testing(LogisticRegression(), x_train, y_train, x_test, y_test)"
   ]
  },
  {
   "cell_type": "code",
   "execution_count": 136,
   "id": "a75773d3-4dab-433b-a7ab-db3a6bd5ce60",
   "metadata": {
    "tags": []
   },
   "outputs": [
    {
     "name": "stdout",
     "output_type": "stream",
     "text": [
      "Precision: 0.6968215158924206\n",
      "   Recall: 0.5906735751295337\n",
      "  ROC-AUC: 0.7306861097754028\n"
     ]
    }
   ],
   "source": [
    "model_testing(DecisionTreeClassifier(), x_train, y_train, x_test, y_test)"
   ]
  },
  {
   "cell_type": "code",
   "execution_count": 159,
   "id": "205d9c28-8395-4397-9be9-b6a0ac7bb843",
   "metadata": {
    "tags": []
   },
   "outputs": [
    {
     "name": "stdout",
     "output_type": "stream",
     "text": [
      "Precision: 0.9174757281553398\n",
      "   Recall: 0.5875647668393782\n",
      "  ROC-AUC: 0.7804872843581667\n"
     ]
    }
   ],
   "source": [
    "model_testing(SGDClassifier(loss='log_loss'), x_train, y_train, x_test, y_test)"
   ]
  },
  {
   "cell_type": "code",
   "execution_count": 132,
   "id": "801099ec-e12b-4018-8b67-5b74896a11b2",
   "metadata": {
    "tags": []
   },
   "outputs": [
    {
     "name": "stdout",
     "output_type": "stream",
     "text": [
      "Precision: 0.8993174061433447\n",
      "   Recall: 0.5461139896373057\n",
      "  ROC-AUC: 0.7576763900219897\n"
     ]
    }
   ],
   "source": [
    "model_testing(RandomForestClassifier(n_estimators=50), x_train, y_train, x_test, y_test)"
   ]
  },
  {
   "cell_type": "code",
   "execution_count": null,
   "id": "4c03ddfb-14c2-4a4b-887f-7b2db42b363c",
   "metadata": {},
   "outputs": [],
   "source": []
  },
  {
   "cell_type": "markdown",
   "id": "6f410518-3331-4cc2-bdd2-bdddbd7e5a6d",
   "metadata": {},
   "source": [
    "___"
   ]
  },
  {
   "cell_type": "markdown",
   "id": "e6837097-df25-4cb8-975a-5d010b2bb8ac",
   "metadata": {
    "tags": []
   },
   "source": [
    "## _kNN_"
   ]
  },
  {
   "cell_type": "code",
   "execution_count": 19,
   "id": "2d5f8199-9aa0-40d2-8a1c-8c8c6ea65f5a",
   "metadata": {
    "tags": []
   },
   "outputs": [
    {
     "data": {
      "text/html": [
       "<style>#sk-container-id-1 {color: black;background-color: white;}#sk-container-id-1 pre{padding: 0;}#sk-container-id-1 div.sk-toggleable {background-color: white;}#sk-container-id-1 label.sk-toggleable__label {cursor: pointer;display: block;width: 100%;margin-bottom: 0;padding: 0.3em;box-sizing: border-box;text-align: center;}#sk-container-id-1 label.sk-toggleable__label-arrow:before {content: \"▸\";float: left;margin-right: 0.25em;color: #696969;}#sk-container-id-1 label.sk-toggleable__label-arrow:hover:before {color: black;}#sk-container-id-1 div.sk-estimator:hover label.sk-toggleable__label-arrow:before {color: black;}#sk-container-id-1 div.sk-toggleable__content {max-height: 0;max-width: 0;overflow: hidden;text-align: left;background-color: #f0f8ff;}#sk-container-id-1 div.sk-toggleable__content pre {margin: 0.2em;color: black;border-radius: 0.25em;background-color: #f0f8ff;}#sk-container-id-1 input.sk-toggleable__control:checked~div.sk-toggleable__content {max-height: 200px;max-width: 100%;overflow: auto;}#sk-container-id-1 input.sk-toggleable__control:checked~label.sk-toggleable__label-arrow:before {content: \"▾\";}#sk-container-id-1 div.sk-estimator input.sk-toggleable__control:checked~label.sk-toggleable__label {background-color: #d4ebff;}#sk-container-id-1 div.sk-label input.sk-toggleable__control:checked~label.sk-toggleable__label {background-color: #d4ebff;}#sk-container-id-1 input.sk-hidden--visually {border: 0;clip: rect(1px 1px 1px 1px);clip: rect(1px, 1px, 1px, 1px);height: 1px;margin: -1px;overflow: hidden;padding: 0;position: absolute;width: 1px;}#sk-container-id-1 div.sk-estimator {font-family: monospace;background-color: #f0f8ff;border: 1px dotted black;border-radius: 0.25em;box-sizing: border-box;margin-bottom: 0.5em;}#sk-container-id-1 div.sk-estimator:hover {background-color: #d4ebff;}#sk-container-id-1 div.sk-parallel-item::after {content: \"\";width: 100%;border-bottom: 1px solid gray;flex-grow: 1;}#sk-container-id-1 div.sk-label:hover label.sk-toggleable__label {background-color: #d4ebff;}#sk-container-id-1 div.sk-serial::before {content: \"\";position: absolute;border-left: 1px solid gray;box-sizing: border-box;top: 0;bottom: 0;left: 50%;z-index: 0;}#sk-container-id-1 div.sk-serial {display: flex;flex-direction: column;align-items: center;background-color: white;padding-right: 0.2em;padding-left: 0.2em;position: relative;}#sk-container-id-1 div.sk-item {position: relative;z-index: 1;}#sk-container-id-1 div.sk-parallel {display: flex;align-items: stretch;justify-content: center;background-color: white;position: relative;}#sk-container-id-1 div.sk-item::before, #sk-container-id-1 div.sk-parallel-item::before {content: \"\";position: absolute;border-left: 1px solid gray;box-sizing: border-box;top: 0;bottom: 0;left: 50%;z-index: -1;}#sk-container-id-1 div.sk-parallel-item {display: flex;flex-direction: column;z-index: 1;position: relative;background-color: white;}#sk-container-id-1 div.sk-parallel-item:first-child::after {align-self: flex-end;width: 50%;}#sk-container-id-1 div.sk-parallel-item:last-child::after {align-self: flex-start;width: 50%;}#sk-container-id-1 div.sk-parallel-item:only-child::after {width: 0;}#sk-container-id-1 div.sk-dashed-wrapped {border: 1px dashed gray;margin: 0 0.4em 0.5em 0.4em;box-sizing: border-box;padding-bottom: 0.4em;background-color: white;}#sk-container-id-1 div.sk-label label {font-family: monospace;font-weight: bold;display: inline-block;line-height: 1.2em;}#sk-container-id-1 div.sk-label-container {text-align: center;}#sk-container-id-1 div.sk-container {/* jupyter's `normalize.less` sets `[hidden] { display: none; }` but bootstrap.min.css set `[hidden] { display: none !important; }` so we also need the `!important` here to be able to override the default hidden behavior on the sphinx rendered scikit-learn.org. See: https://github.com/scikit-learn/scikit-learn/issues/21755 */display: inline-block !important;position: relative;}#sk-container-id-1 div.sk-text-repr-fallback {display: none;}</style><div id=\"sk-container-id-1\" class=\"sk-top-container\"><div class=\"sk-text-repr-fallback\"><pre>GridSearchCV(cv=3, estimator=KNeighborsClassifier(),\n",
       "             param_grid={&#x27;n_neighbors&#x27;: range(10, 21)})</pre><b>In a Jupyter environment, please rerun this cell to show the HTML representation or trust the notebook. <br />On GitHub, the HTML representation is unable to render, please try loading this page with nbviewer.org.</b></div><div class=\"sk-container\" hidden><div class=\"sk-item sk-dashed-wrapped\"><div class=\"sk-label-container\"><div class=\"sk-label sk-toggleable\"><input class=\"sk-toggleable__control sk-hidden--visually\" id=\"sk-estimator-id-1\" type=\"checkbox\" ><label for=\"sk-estimator-id-1\" class=\"sk-toggleable__label sk-toggleable__label-arrow\">GridSearchCV</label><div class=\"sk-toggleable__content\"><pre>GridSearchCV(cv=3, estimator=KNeighborsClassifier(),\n",
       "             param_grid={&#x27;n_neighbors&#x27;: range(10, 21)})</pre></div></div></div><div class=\"sk-parallel\"><div class=\"sk-parallel-item\"><div class=\"sk-item\"><div class=\"sk-label-container\"><div class=\"sk-label sk-toggleable\"><input class=\"sk-toggleable__control sk-hidden--visually\" id=\"sk-estimator-id-2\" type=\"checkbox\" ><label for=\"sk-estimator-id-2\" class=\"sk-toggleable__label sk-toggleable__label-arrow\">estimator: KNeighborsClassifier</label><div class=\"sk-toggleable__content\"><pre>KNeighborsClassifier()</pre></div></div></div><div class=\"sk-serial\"><div class=\"sk-item\"><div class=\"sk-estimator sk-toggleable\"><input class=\"sk-toggleable__control sk-hidden--visually\" id=\"sk-estimator-id-3\" type=\"checkbox\" ><label for=\"sk-estimator-id-3\" class=\"sk-toggleable__label sk-toggleable__label-arrow\">KNeighborsClassifier</label><div class=\"sk-toggleable__content\"><pre>KNeighborsClassifier()</pre></div></div></div></div></div></div></div></div></div></div>"
      ],
      "text/plain": [
       "GridSearchCV(cv=3, estimator=KNeighborsClassifier(),\n",
       "             param_grid={'n_neighbors': range(10, 21)})"
      ]
     },
     "execution_count": 19,
     "metadata": {},
     "output_type": "execute_result"
    }
   ],
   "source": [
    "from sklearn.model_selection import GridSearchCV\n",
    "\n",
    "knn_grid = GridSearchCV(KNeighborsClassifier(), \n",
    "                        param_grid={'n_neighbors': range(10, 21)}, \n",
    "                        cv=3)\n",
    "knn_grid.fit(x_train, y_train)"
   ]
  },
  {
   "cell_type": "code",
   "execution_count": 20,
   "id": "b90ff311-4102-4f24-a83a-fffbaa09a911",
   "metadata": {},
   "outputs": [
    {
     "name": "stdout",
     "output_type": "stream",
     "text": [
      "best params: {'n_neighbors': 11}\n",
      "best score: 0.8240090207303322\n",
      "AFTER Cross-validation\n",
      "Precision: 0.864696734059098\n",
      "Recall: 0.5761658031088083\n",
      "ROC-AUC: 0.7654030266847484\n"
     ]
    }
   ],
   "source": [
    "print(f'best params: {knn_grid.best_params_}')\n",
    "print(f'best score: {knn_grid.best_score_}')\n",
    "\n",
    "knn.set_params(**knn_grid.best_params_).fit(x_train, y_train)    #эквивалентно knn_grid.fit(x_train y_train)\n",
    "\n",
    "y_pred_knn_best = knn.predict(x_test)                            #эквивалентно knn_grid.predict(x_test)\n",
    "knn_precision_best = precision_score(y_test, y_pred_knn_best)\n",
    "knn_recall_best = recall_score(y_test, y_pred_knn_best)\n",
    "knn_roc_auc_best = roc_auc_score(y_test, y_pred_knn_best)\n",
    "print(f'AFTER Cross-validation')\n",
    "print(f'Precision: {knn_precision_best}\\nRecall: {knn_recall_best}\\nROC-AUC: {knn_roc_auc_best}')\n",
    "# print('-------------------------------------------------')\n",
    "# print(classification_report(y_test, y_pred_knn_best))"
   ]
  },
  {
   "cell_type": "code",
   "execution_count": null,
   "id": "f163cd7b-1f7e-4c49-9e8f-4f74754f89c2",
   "metadata": {},
   "outputs": [],
   "source": []
  },
  {
   "cell_type": "code",
   "execution_count": null,
   "id": "2e311661-26ed-427a-aaa8-a78b2746c279",
   "metadata": {},
   "outputs": [],
   "source": []
  },
  {
   "cell_type": "code",
   "execution_count": null,
   "id": "ddd9a445-103e-4959-a676-44279aff38ea",
   "metadata": {},
   "outputs": [],
   "source": []
  },
  {
   "cell_type": "markdown",
   "id": "ce91e2c7-dc7b-4540-abde-10df2212b921",
   "metadata": {},
   "source": [
    "___"
   ]
  },
  {
   "cell_type": "markdown",
   "id": "d75a7540-5482-42d7-b0d4-0c9f1b71b97e",
   "metadata": {
    "tags": []
   },
   "source": [
    "## _Logistic Regression_"
   ]
  },
  {
   "cell_type": "code",
   "execution_count": 21,
   "id": "542a9743-be39-46f2-8c29-e77620fd3d4a",
   "metadata": {
    "tags": []
   },
   "outputs": [
    {
     "data": {
      "text/html": [
       "<style>#sk-container-id-2 {color: black;background-color: white;}#sk-container-id-2 pre{padding: 0;}#sk-container-id-2 div.sk-toggleable {background-color: white;}#sk-container-id-2 label.sk-toggleable__label {cursor: pointer;display: block;width: 100%;margin-bottom: 0;padding: 0.3em;box-sizing: border-box;text-align: center;}#sk-container-id-2 label.sk-toggleable__label-arrow:before {content: \"▸\";float: left;margin-right: 0.25em;color: #696969;}#sk-container-id-2 label.sk-toggleable__label-arrow:hover:before {color: black;}#sk-container-id-2 div.sk-estimator:hover label.sk-toggleable__label-arrow:before {color: black;}#sk-container-id-2 div.sk-toggleable__content {max-height: 0;max-width: 0;overflow: hidden;text-align: left;background-color: #f0f8ff;}#sk-container-id-2 div.sk-toggleable__content pre {margin: 0.2em;color: black;border-radius: 0.25em;background-color: #f0f8ff;}#sk-container-id-2 input.sk-toggleable__control:checked~div.sk-toggleable__content {max-height: 200px;max-width: 100%;overflow: auto;}#sk-container-id-2 input.sk-toggleable__control:checked~label.sk-toggleable__label-arrow:before {content: \"▾\";}#sk-container-id-2 div.sk-estimator input.sk-toggleable__control:checked~label.sk-toggleable__label {background-color: #d4ebff;}#sk-container-id-2 div.sk-label input.sk-toggleable__control:checked~label.sk-toggleable__label {background-color: #d4ebff;}#sk-container-id-2 input.sk-hidden--visually {border: 0;clip: rect(1px 1px 1px 1px);clip: rect(1px, 1px, 1px, 1px);height: 1px;margin: -1px;overflow: hidden;padding: 0;position: absolute;width: 1px;}#sk-container-id-2 div.sk-estimator {font-family: monospace;background-color: #f0f8ff;border: 1px dotted black;border-radius: 0.25em;box-sizing: border-box;margin-bottom: 0.5em;}#sk-container-id-2 div.sk-estimator:hover {background-color: #d4ebff;}#sk-container-id-2 div.sk-parallel-item::after {content: \"\";width: 100%;border-bottom: 1px solid gray;flex-grow: 1;}#sk-container-id-2 div.sk-label:hover label.sk-toggleable__label {background-color: #d4ebff;}#sk-container-id-2 div.sk-serial::before {content: \"\";position: absolute;border-left: 1px solid gray;box-sizing: border-box;top: 0;bottom: 0;left: 50%;z-index: 0;}#sk-container-id-2 div.sk-serial {display: flex;flex-direction: column;align-items: center;background-color: white;padding-right: 0.2em;padding-left: 0.2em;position: relative;}#sk-container-id-2 div.sk-item {position: relative;z-index: 1;}#sk-container-id-2 div.sk-parallel {display: flex;align-items: stretch;justify-content: center;background-color: white;position: relative;}#sk-container-id-2 div.sk-item::before, #sk-container-id-2 div.sk-parallel-item::before {content: \"\";position: absolute;border-left: 1px solid gray;box-sizing: border-box;top: 0;bottom: 0;left: 50%;z-index: -1;}#sk-container-id-2 div.sk-parallel-item {display: flex;flex-direction: column;z-index: 1;position: relative;background-color: white;}#sk-container-id-2 div.sk-parallel-item:first-child::after {align-self: flex-end;width: 50%;}#sk-container-id-2 div.sk-parallel-item:last-child::after {align-self: flex-start;width: 50%;}#sk-container-id-2 div.sk-parallel-item:only-child::after {width: 0;}#sk-container-id-2 div.sk-dashed-wrapped {border: 1px dashed gray;margin: 0 0.4em 0.5em 0.4em;box-sizing: border-box;padding-bottom: 0.4em;background-color: white;}#sk-container-id-2 div.sk-label label {font-family: monospace;font-weight: bold;display: inline-block;line-height: 1.2em;}#sk-container-id-2 div.sk-label-container {text-align: center;}#sk-container-id-2 div.sk-container {/* jupyter's `normalize.less` sets `[hidden] { display: none; }` but bootstrap.min.css set `[hidden] { display: none !important; }` so we also need the `!important` here to be able to override the default hidden behavior on the sphinx rendered scikit-learn.org. See: https://github.com/scikit-learn/scikit-learn/issues/21755 */display: inline-block !important;position: relative;}#sk-container-id-2 div.sk-text-repr-fallback {display: none;}</style><div id=\"sk-container-id-2\" class=\"sk-top-container\"><div class=\"sk-text-repr-fallback\"><pre>LogisticRegressionCV(Cs=array([  0.1       ,   0.10722672,   0.1149757 ,   0.12328467,\n",
       "         0.13219411,   0.14174742,   0.15199111,   0.16297508,\n",
       "         0.17475284,   0.18738174,   0.2009233 ,   0.21544347,\n",
       "         0.23101297,   0.24770764,   0.26560878,   0.28480359,\n",
       "         0.30538555,   0.32745492,   0.35111917,   0.37649358,\n",
       "         0.40370173,   0.43287613,   0.46415888,   0.49770236,\n",
       "         0.53366992,   0.57223677,   0.61359073,   0.65793322,\n",
       "         0.70548023,   0.7564633...\n",
       "        15.19911083,  16.29750835,  17.475284  ,  18.73817423,\n",
       "        20.09233003,  21.5443469 ,  23.101297  ,  24.77076356,\n",
       "        26.56087783,  28.48035868,  30.53855509,  32.74549163,\n",
       "        35.11191734,  37.64935807,  40.37017259,  43.28761281,\n",
       "        46.41588834,  49.77023564,  53.36699231,  57.22367659,\n",
       "        61.35907273,  65.79332247,  70.54802311,  75.64633276,\n",
       "        81.11308308,  86.97490026,  93.26033469, 100.        ]),\n",
       "                     cv=3, max_iter=300, random_state=0)</pre><b>In a Jupyter environment, please rerun this cell to show the HTML representation or trust the notebook. <br />On GitHub, the HTML representation is unable to render, please try loading this page with nbviewer.org.</b></div><div class=\"sk-container\" hidden><div class=\"sk-item\"><div class=\"sk-estimator sk-toggleable\"><input class=\"sk-toggleable__control sk-hidden--visually\" id=\"sk-estimator-id-4\" type=\"checkbox\" checked><label for=\"sk-estimator-id-4\" class=\"sk-toggleable__label sk-toggleable__label-arrow\">LogisticRegressionCV</label><div class=\"sk-toggleable__content\"><pre>LogisticRegressionCV(Cs=array([  0.1       ,   0.10722672,   0.1149757 ,   0.12328467,\n",
       "         0.13219411,   0.14174742,   0.15199111,   0.16297508,\n",
       "         0.17475284,   0.18738174,   0.2009233 ,   0.21544347,\n",
       "         0.23101297,   0.24770764,   0.26560878,   0.28480359,\n",
       "         0.30538555,   0.32745492,   0.35111917,   0.37649358,\n",
       "         0.40370173,   0.43287613,   0.46415888,   0.49770236,\n",
       "         0.53366992,   0.57223677,   0.61359073,   0.65793322,\n",
       "         0.70548023,   0.7564633...\n",
       "        15.19911083,  16.29750835,  17.475284  ,  18.73817423,\n",
       "        20.09233003,  21.5443469 ,  23.101297  ,  24.77076356,\n",
       "        26.56087783,  28.48035868,  30.53855509,  32.74549163,\n",
       "        35.11191734,  37.64935807,  40.37017259,  43.28761281,\n",
       "        46.41588834,  49.77023564,  53.36699231,  57.22367659,\n",
       "        61.35907273,  65.79332247,  70.54802311,  75.64633276,\n",
       "        81.11308308,  86.97490026,  93.26033469, 100.        ]),\n",
       "                     cv=3, max_iter=300, random_state=0)</pre></div></div></div></div></div>"
      ],
      "text/plain": [
       "LogisticRegressionCV(Cs=array([  0.1       ,   0.10722672,   0.1149757 ,   0.12328467,\n",
       "         0.13219411,   0.14174742,   0.15199111,   0.16297508,\n",
       "         0.17475284,   0.18738174,   0.2009233 ,   0.21544347,\n",
       "         0.23101297,   0.24770764,   0.26560878,   0.28480359,\n",
       "         0.30538555,   0.32745492,   0.35111917,   0.37649358,\n",
       "         0.40370173,   0.43287613,   0.46415888,   0.49770236,\n",
       "         0.53366992,   0.57223677,   0.61359073,   0.65793322,\n",
       "         0.70548023,   0.7564633...\n",
       "        15.19911083,  16.29750835,  17.475284  ,  18.73817423,\n",
       "        20.09233003,  21.5443469 ,  23.101297  ,  24.77076356,\n",
       "        26.56087783,  28.48035868,  30.53855509,  32.74549163,\n",
       "        35.11191734,  37.64935807,  40.37017259,  43.28761281,\n",
       "        46.41588834,  49.77023564,  53.36699231,  57.22367659,\n",
       "        61.35907273,  65.79332247,  70.54802311,  75.64633276,\n",
       "        81.11308308,  86.97490026,  93.26033469, 100.        ]),\n",
       "                     cv=3, max_iter=300, random_state=0)"
      ]
     },
     "execution_count": 21,
     "metadata": {},
     "output_type": "execute_result"
    }
   ],
   "source": [
    "from sklearn.linear_model import LogisticRegressionCV\n",
    "\n",
    "cs = np.logspace(-1, 2, 100)\n",
    "log_reg_cv = LogisticRegressionCV(Cs=cs, \n",
    "                                  cv=3, \n",
    "                                  verbose=0, \n",
    "                                  max_iter=300,\n",
    "                                  random_state=0)\n",
    "log_reg_cv.fit(x_train, y_train)"
   ]
  },
  {
   "cell_type": "code",
   "execution_count": 22,
   "id": "b24f9436-bbf6-4f29-99fd-4732902b66b9",
   "metadata": {
    "tags": []
   },
   "outputs": [
    {
     "name": "stdout",
     "output_type": "stream",
     "text": [
      "best C: [5.33669923]\n",
      "AFTER Cross-validation\n",
      "Precision: 0.8832684824902723\n",
      "Recall: 0.705699481865285\n",
      "ROC-AUC: 0.8293878014123088\n"
     ]
    }
   ],
   "source": [
    "print(f'best C: {log_reg_cv.C_}')\n",
    "\n",
    "y_pred_lr_best = log_reg_cv.predict(x_test)\n",
    "\n",
    "lr_precision_best = precision_score(y_test, y_pred_lr_best)\n",
    "lr_recall_best = recall_score(y_test, y_pred_lr_best)\n",
    "lr_roc_auc_best = roc_auc_score(y_test, y_pred_lr_best)\n",
    "print(f'AFTER Cross-validation')\n",
    "print(f'Precision: {lr_precision_best}\\nRecall: {lr_recall_best}\\nROC-AUC: {lr_roc_auc_best}')\n",
    "# print('-------------------------------------------------')\n",
    "# print(classification_report(y_test, y_pred_lr_best))"
   ]
  },
  {
   "cell_type": "code",
   "execution_count": 23,
   "id": "29f71ecf-c7d6-448a-88ab-714a532fa3c7",
   "metadata": {},
   "outputs": [],
   "source": [
    "from sklearn.metrics import precision_recall_curve\n",
    "\n",
    "pr, rc, ths = precision_recall_curve(y_true=y_test, \n",
    "                                    probas_pred=log_reg_cv.predict_proba(x_test)[:,1])"
   ]
  },
  {
   "cell_type": "code",
   "execution_count": 24,
   "id": "a9062777-91f4-46b9-a3f5-b7056eaf1d0e",
   "metadata": {},
   "outputs": [
    {
     "data": {
      "text/plain": [
       "[<matplotlib.lines.Line2D at 0x21d7792cfd0>]"
      ]
     },
     "execution_count": 24,
     "metadata": {},
     "output_type": "execute_result"
    },
    {
     "data": {
      "image/png": "[encoded data removed]",
      "text/plain": [
       "<Figure size 400x300 with 1 Axes>"
      ]
     },
     "metadata": {},
     "output_type": "display_data"
    }
   ],
   "source": [
    "from matplotlib import pyplot as plt\n",
    "%matplotlib inline\n",
    "\n",
    "plt.figure(figsize=(4, 3))\n",
    "plt.plot(rc, pr)"
   ]
  },
  {
   "cell_type": "code",
   "execution_count": 25,
   "id": "62212130-0d39-47b1-b4b1-bd2ac12c0cd5",
   "metadata": {
    "tags": []
   },
   "outputs": [
    {
     "name": "stdout",
     "output_type": "stream",
     "text": [
      "Precision: 0.9512195121951219\n",
      "   Recall: 0.44455958549222796\n"
     ]
    }
   ],
   "source": [
    "pr_index = np.where(pr > 0.95)[0][0]\n",
    "threshold = ths[pr_index].round(4)\n",
    "probas = (log_reg_cv.predict_proba(x_test)[:,1] > threshold)\n",
    "print(f'Precision: {precision_score(y_test, probas)}')\n",
    "print(f'   Recall: {recall_score(y_test, probas)}')"
   ]
  },
  {
   "cell_type": "code",
   "execution_count": 26,
   "id": "65cd621d-851e-4ad0-8cf2-41a7e2b7281e",
   "metadata": {
    "tags": []
   },
   "outputs": [
    {
     "data": {
      "text/plain": [
       "0.7515"
      ]
     },
     "execution_count": 26,
     "metadata": {},
     "output_type": "execute_result"
    }
   ],
   "source": [
    "threshold"
   ]
  },
  {
   "cell_type": "code",
   "execution_count": null,
   "id": "1c6f5d5f-c293-4ac3-84dc-9c12d495fda9",
   "metadata": {},
   "outputs": [],
   "source": []
  },
  {
   "cell_type": "markdown",
   "id": "a2b793c5-e271-4835-b8dc-feda63072702",
   "metadata": {},
   "source": [
    "___"
   ]
  },
  {
   "cell_type": "markdown",
   "id": "259f8192-837b-4771-bb13-04bf15fa58fb",
   "metadata": {},
   "source": [
    "## _Gradient Descent_"
   ]
  },
  {
   "cell_type": "code",
   "execution_count": null,
   "id": "14d2f062-d8c3-42a8-9823-4a7015aba716",
   "metadata": {},
   "outputs": [],
   "source": []
  },
  {
   "cell_type": "code",
   "execution_count": null,
   "id": "df3c1f5b-d360-428a-a4a7-01550c00cbd3",
   "metadata": {},
   "outputs": [],
   "source": []
  },
  {
   "cell_type": "code",
   "execution_count": null,
   "id": "2ee2f346-79e4-4dc7-bef8-760accb77046",
   "metadata": {},
   "outputs": [],
   "source": []
  },
  {
   "cell_type": "markdown",
   "id": "b7988c2b-170d-4de2-b171-026543a1d331",
   "metadata": {
    "tags": []
   },
   "source": [
    "___"
   ]
  },
  {
   "cell_type": "markdown",
   "id": "3b6bd966-25fb-4a0c-a6b2-926fa1fb45a3",
   "metadata": {
    "tags": []
   },
   "source": [
    "## _Decision Tree_"
   ]
  },
  {
   "cell_type": "code",
   "execution_count": null,
   "id": "26d0c07b-872d-49c9-9d1a-b25f937c3fda",
   "metadata": {},
   "outputs": [],
   "source": []
  },
  {
   "cell_type": "code",
   "execution_count": null,
   "id": "33537885-36da-4a80-81a7-81fac0d5ff5a",
   "metadata": {},
   "outputs": [],
   "source": []
  },
  {
   "cell_type": "code",
   "execution_count": null,
   "id": "fc48efab-3b4b-409a-ab71-e1036e5921e3",
   "metadata": {},
   "outputs": [],
   "source": []
  },
  {
   "cell_type": "markdown",
   "id": "ba693250-138e-4f3b-bca4-7a9fcac1d127",
   "metadata": {},
   "source": [
    "___"
   ]
  },
  {
   "cell_type": "markdown",
   "id": "a147360d-07b5-4b23-a9cc-3416c35bdefb",
   "metadata": {},
   "source": [
    "## _Random Forest_"
   ]
  },
  {
   "cell_type": "code",
   "execution_count": null,
   "id": "c1807539-6356-4781-a6e8-506414b437e8",
   "metadata": {},
   "outputs": [],
   "source": []
  },
  {
   "cell_type": "code",
   "execution_count": null,
   "id": "271829f2-ea60-4654-8043-0e1f69a1c0b8",
   "metadata": {},
   "outputs": [],
   "source": []
  },
  {
   "cell_type": "code",
   "execution_count": null,
   "id": "c59ef79f-aa4c-44cc-9abd-63d0cbbf7690",
   "metadata": {},
   "outputs": [],
   "source": []
  },
  {
   "cell_type": "markdown",
   "id": "1b7d0e0e-a74c-4195-8152-a211fed09773",
   "metadata": {},
   "source": [
    "___"
   ]
  }
 ],
 "metadata": {
  "kernelspec": {
   "display_name": "Python 3 (ipykernel)",
   "language": "python",
   "name": "python3"
  },
  "language_info": {
   "codemirror_mode": {
    "name": "ipython",
    "version": 3
   },
   "file_extension": ".py",
   "mimetype": "text/x-python",
   "name": "python",
   "nbconvert_exporter": "python",
   "pygments_lexer": "ipython3",
   "version": "3.10.9"
  }
 },
 "nbformat": 4,
 "nbformat_minor": 5
}
